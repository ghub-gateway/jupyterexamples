{
 "cells": [
  {
   "cell_type": "markdown",
   "metadata": {},
   "source": [
    "# Publishing Tools\n",
    "\n",
    "To describe the steps to publish a notebook as a tool, we will create and publish a new notebook tool, based on https://nanohub.org/resources/gptool.\n"
   ]
  },
  {
   "cell_type": "markdown",
   "metadata": {},
   "source": [
    "### 1. First we go to https://nanohub.org/tools/create and create a new tool, https://nanohub.org/tools/gptool2.  \n",
    "\n",
    "### 2. Then open a terminal from the notebook home or dashboard view.  You will be in your notebooks directory.\n",
    "\n",
    "### 3. Check out the repository for your tool using git or svn:\n",
    "\n",
    "```bash\n",
    "~/notebooks> svn checkout https://nanohub.org/tools/gptool2/svn/trunk gptool2                                                      \n",
    "A    gptool2/middleware                                                                                                            \n",
    "A    gptool2/middleware/invoke                                                                                                     \n",
    "A    gptool2/examples                                                                                                              \n",
    "A    gptool2/rappture                                                                                                              \n",
    "A    gptool2/doc                                                                                                                   \n",
    "A    gptool2/src                                                                                                                   \n",
    "A    gptool2/src/Makefile                                                                                                          \n",
    "A    gptool2/bin                                                                                                                   \n",
    "A    gptool2/data                                                                                                                  \n",
    "Checked out revision 1.\n",
    "```              "
   ]
  },
  {
   "cell_type": "markdown",
   "metadata": {},
   "source": [
    "### 4.  Go back to the home(dashboard) page and go into the gptool2 folder.  Create a new notebook there or move an existing one.\n",
    "\n",
    "Optionally use the upload button to upload a notebook you have already started.  We also uploaded some python code\n",
    "(\"gpr.py) and some test data."
   ]
  },
  {
   "cell_type": "markdown",
   "metadata": {},
   "source": [
    "### 5. Get the notebook working.\n",
    "\n",
    "You may want to use notebook UI elements from http://hublib.readthedocs.io/en/latest/intro.html\n",
    "You can use ***%use*** from hublib to load any required environment modules."
   ]
  },
  {
   "cell_type": "markdown",
   "metadata": {},
   "source": [
    "[This](publishing/Gaussian1.ipynb) is the initial version."
   ]
  },
  {
   "cell_type": "markdown",
   "metadata": {},
   "source": [
    "### 6. Make It Event-Driven\n",
    "\n",
    "Tools need to be structured as a collection of functions.  When the user changes something on the GUI, a callback function updates to outputs.\n",
    "\n",
    "[This](publishing/Gaussian2.ipynb) is the new version."
   ]
  },
  {
   "cell_type": "markdown",
   "metadata": {},
   "source": [
    "### 7. Click on the Appmode button to test it.\n"
   ]
  },
  {
   "cell_type": "markdown",
   "metadata": {},
   "source": [
    "### 8. Write your Invoke script\n",
    "\n",
    "When you created your tool, the tool creation process automatically put something like the following in middleware/invoke.\n",
    "\n",
    "``` bash\n",
    "~/notebooks/gptool2/middleware> cat invoke                                                                                         \n",
    "#!/bin/sh                                                                                                                          \n",
    "                                                                                                                                   \n",
    "/usr/bin/invoke_app \"$@\" -C rappture -t gptool2      \n",
    "```\n",
    "\n",
    "You should change it to something like:\n",
    "\n",
    "```\n",
    "#!/bin/sh\n",
    "/usr/bin/invoke_app -C \"start_jupyter -T @tool Gaussian.ipynb\" -u anaconda-6                                         \n",
    "```\n",
    "\n",
    "The anaconda version should be the one matching the version of Jupyter you used to develop the tool.\n",
    "\n",
    "You should try using the editor built into Jupyter.  From the dashboard, just click on the 'middleware' folder, then click on the 'invoke' file.\n",
    "\n",
    "All notebooks are started by 'start_jupyter\" which is in the anaconda module.  You should always have \"-u anacondaX-XX\" in your invoke script regardless of what version of python you are using.\n",
    "\n",
    "\"-T @tool\" is always required.\n",
    "\n",
    "\"Gaussian.ipynb\" is the notebook to start.  We recommend it be placed in the toplevel directory. Paths for any files referenced in the notebook must be relative to the directory containing the notebook.  Note that the parent directory will not be accessible.\n"
   ]
  },
  {
   "cell_type": "markdown",
   "metadata": {},
   "source": [
    "### 9. Check in Your Changes\n",
    "\n",
    "Using subversion, it would look something like this:\n",
    "\n",
    "``` bash\n",
    "~/notebooks/gptool2> svn status                                                                                                    \n",
    "?       bin/test.dat                                                                                                               \n",
    "?       bin/.ipynb_checkpoints                                                                                                     \n",
    "?       Gaussian.ipynb                                                                                                         \n",
    "?       bin/gpr.py                                                                                                                 \n",
    "?       bin/TESTDAT.DAT                                                                                                            \n",
    "M       middleware/invoke                                                                                                          \n",
    "~/notebooks/gptool2> svn add Gaussian.ipynb  bin/gpr.py bin/test.dat                                                           \n",
    "A         Gaussian.ipynb                                                                                                       \n",
    "A         bin/gpr.py                                                                                                               \n",
    "A         bin/test.dat                                                                                                             \n",
    "~/notebooks/gptool2> svn commit -m 'initial version'                                                                               \n",
    "Authentication realm: <https://nanohub.org:443> Notebook: Gaussian process regression in 1D Subversion Repository                  \n",
    "Password for 'mmh':                                                                                                                \n",
    "Adding         Gaussian.ipynb                                                                                                  \n",
    "Adding         bin/gpr.py                                                                                                          \n",
    "Adding         bin/test.dat                                                                                                        \n",
    "Sending        middleware/invoke                                                                                                   \n",
    "Transmitting file data ....                                                                                                        \n",
    "Committed revision 2.                                                                                                              \n",
    "\n",
    "```\n"
   ]
  },
  {
   "cell_type": "markdown",
   "metadata": {},
   "source": [
    "### 10. Update Tool Status\n",
    "\n",
    "Go to your tool status page (for example\n",
    "https://nanohub.org/tools/gptool2/status)\n",
    "\n",
    "and click on \"I've made changes Please install the latest code for testing and approval\""
   ]
  },
  {
   "cell_type": "markdown",
   "metadata": {},
   "source": [
    "### 11. Approve and Publish\n",
    "\n",
    "You will receive email confirming that your tool is Approved.  Follow the link and test your tool.  If it works, go back to the status page and ask for it to be published.  \n",
    "You will receive a final email when your tool is publshed and available to the public.\n",
    "\n",
    "You can try this example tool at https://nanohub.org/tools/gptool2"
   ]
  }
 ],
 "metadata": {
  "kernelspec": {
   "display_name": "Python 3",
   "language": "python",
   "name": "python3"
  },
  "language_info": {
   "codemirror_mode": {
    "name": "ipython",
    "version": 3
   },
   "file_extension": ".py",
   "mimetype": "text/x-python",
   "name": "python",
   "nbconvert_exporter": "python",
   "pygments_lexer": "ipython3",
   "version": "3.7.2"
  }
 },
 "nbformat": 4,
 "nbformat_minor": 2
}
