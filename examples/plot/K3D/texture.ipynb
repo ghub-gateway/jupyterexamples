{
 "cells": [
  {
   "cell_type": "code",
   "execution_count": null,
   "metadata": {},
   "outputs": [],
   "source": [
    "import k3d\n",
    "\n",
    "# Y-Z flip\n",
    "model_matrix = [\n",
    "    1.0, 0.0, 0.0, 0.0,\n",
    "    0.0, 0.0, 1.0, 0.0,\n",
    "    0.0, 1.0, 0.0, 0.0,\n",
    "    0.0, 0.0, 0.0, 1.0\n",
    "]\n",
    "\n",
    "texture = k3d.texture(open('assets/texture.png', 'br').read(), 'png', model_matrix=model_matrix)\n",
    "\n",
    "plot = k3d.plot()\n",
    "plot += texture\n",
    "plot.display()"
   ]
  },
  {
   "cell_type": "code",
   "execution_count": null,
   "metadata": {
    "collapsed": true
   },
   "outputs": [],
   "source": [
    "texture.binary = open('assets/mandelbrot.jpg', 'br').read()"
   ]
  },
  {
   "cell_type": "code",
   "execution_count": null,
   "metadata": {
    "collapsed": true
   },
   "outputs": [],
   "source": []
  }
 ],
 "metadata": {
  "kernelspec": {
   "display_name": "Python 3",
   "language": "python",
   "name": "python3"
  },
  "language_info": {
   "codemirror_mode": {
    "name": "ipython",
    "version": 3
   },
   "file_extension": ".py",
   "mimetype": "text/x-python",
   "name": "python",
   "nbconvert_exporter": "python",
   "pygments_lexer": "ipython3",
   "version": "3.6.2"
  }
 },
 "nbformat": 4,
 "nbformat_minor": 1
}
