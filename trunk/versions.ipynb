{
 "cells": [
  {
   "cell_type": "markdown",
   "metadata": {},
   "source": [
    "# Jupyter Versions"
   ]
  },
  {
   "cell_type": "markdown",
   "metadata": {},
   "source": [
    "Jupyter releases are built in an Anaconda environment, with additional scientific packages and extensions.  Periocally we will add new releases.  Old releases will be preserved. "
   ]
  },
  {
   "cell_type": "markdown",
   "metadata": {},
   "source": [
    "Published tools will continue to run with the anaconda version named in their invoke script.\n",
    "\n",
    "To run unpublished notebooks, you can choose to run the current release or an older release."
   ]
  },
  {
   "cell_type": "markdown",
   "metadata": {},
   "source": [
    "## Updating Environments\n",
    "\n",
    "In general, packages can be added to the current environment if requested, and if adding the package will not cause changes to previously installed packages.  Otherwise, the environment will be frozen."
   ]
  },
  {
   "cell_type": "markdown",
   "metadata": {},
   "source": [
    "## Current Jupyter Versions\n",
    "\n",
    "(replace 'nanohub' with your hub)\n",
    "\n",
    "https://nanohub.org/tools/jupyter will always launch the current default environment.\n",
    "\n",
    "https://nanohub.org/tools/jupyter41 uses anaconda4.1\n",
    "\n",
    "https://nanohub.org/tools/jupyter44 uses anaconda4.4 \n",
    "\n",
    "https://nanohub.org/tools/jupyter51 uses anaconda5.1 \n"
   ]
  }
 ],
 "metadata": {
  "kernelspec": {
   "display_name": "Python2",
   "language": "python",
   "name": "python2"
  },
  "language_info": {
   "codemirror_mode": {
    "name": "ipython",
    "version": 2
   },
   "file_extension": ".py",
   "mimetype": "text/x-python",
   "name": "python",
   "nbconvert_exporter": "python",
   "pygments_lexer": "ipython2",
   "version": "2.7.15"
  }
 },
 "nbformat": 4,
 "nbformat_minor": 2
}
