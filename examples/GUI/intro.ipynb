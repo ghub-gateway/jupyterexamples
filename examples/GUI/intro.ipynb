{
 "cells": [
  {
   "cell_type": "markdown",
   "metadata": {},
   "source": [
    "# Building GUIs in Notebooks\n",
    "\n",
    "## General Structure\n",
    "\n",
    "Notebooks follow a linear flow, from the first cell to the last, writing output to cells along the way.\n",
    "Sometimes they might have some imput GUI elements, like a slider to interactively modify the output of the cell.\n",
    "\n",
    "\n",
    "## ipywidgets vs hublib.ui\n",
    "\n",
    "**ipywidgets** are the officially-supported Jupyter widgets.  \n",
    "\n",
    "**hublib.ui** is a collection of HUBzero widgets, mostly built on ipywidgets.\n",
    "\n",
    "You can mix the various widgets.\n"
   ]
  },
  {
   "cell_type": "markdown",
   "metadata": {},
   "source": [
    "# Examples\n",
    "\n",
    "### Ipywidgets\n",
    "These are the widgets distributed with Jupyter for Python use.\n",
    "Documentation is [here](https://ipywidgets.readthedocs.io/en/latest)\n",
    "\n",
    "### hublib.ui\n",
    "\n",
    "https://hubzero.github.io/hublib/ui.html\n",
    "\n",
    "#### Basic Widgets\n",
    "Hublib contains a basic widget set designed for building simple forms.\n",
    "They are designed to be similar to Rappture widgets.  These are in the documentation\n",
    "under \"Widget Groups\", \"Numerical Widgets\" and \"Input Widgets\".  They mostly replace\n",
    "the similar ipywidgets but have a different look.  They probably should not be\n",
    "mixed with  ipywidgets for aesthetic reasons.\n",
    "\n",
    "* [Basic hublib.ui Widget Demo](hublib/UI_Demo.ipynb)\n",
    "* [Plotting GUI Demo](hublib/plotting_gui_demo.ipynb)\n",
    "\n",
    "#### Advanced Widgets\n",
    "Hublib also contains more complex widgets that we encourage you to use.\n",
    "\n",
    "* [File Upload](hublib/file_upload.ipynb) Widget that you click on to upload data from your desktop.\n",
    "* [File Download](hublib/download.ipynb)  Widgets that you click on to download data.\n",
    "* [Code Buttons](hublib/CodeButtons.ipynb) Add buttons to hide source code or run all cells.\n",
    "* [Modal](hublib/modal.ipynb) Simple modal dialogs. Modal dialogs popup and disable the window\n",
    "  until you click on them.\n",
    "* [List Manager](hublib/listmanager.ipynb) A widget that allows you to asdd and remove elements to a list.\n",
    "* [PathSelector](hublib/pathselect.ipynb) Select files from the server (hub workspace).\n",
    "* [RunCommand](hublib/RunCommand.ipynb) Run a Linux shell command in a widget.\n",
    "* [Submit](hublib/SubmitWidget.ipynb) Run the hub submit command in a widget. Uses local caching of results.\n",
    "* [Submit-Parametric](hublib/SubmitWidget-Parametric.ipynb) A parametric example that runs many jobs.\n",
    "* [Submit-NoCache](hublib/SubmitWidget-NoCache.ipynb) Submit widget with caching disabled.\n",
    "\n",
    "### Pandas\n",
    "Pandas is an open source Python library providing high-performance, easy-to-use data structures and data analysis tools.\n",
    "* [Pandas Plotting](pandas.ipynb)\n"
   ]
  }
 ],
 "metadata": {
  "kernelspec": {
   "display_name": "Python 3",
   "language": "python",
   "name": "python3"
  },
  "language_info": {
   "codemirror_mode": {
    "name": "ipython",
    "version": 3
   },
   "file_extension": ".py",
   "mimetype": "text/x-python",
   "name": "python",
   "nbconvert_exporter": "python",
   "pygments_lexer": "ipython3",
   "version": "3.7.7"
  }
 },
 "nbformat": 4,
 "nbformat_minor": 2
}
