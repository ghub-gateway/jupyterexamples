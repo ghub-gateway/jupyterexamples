{
 "cells": [
  {
   "cell_type": "markdown",
   "metadata": {},
   "source": [
    " \n",
    "##List of interesting things to consider for the notebooks found on Google's Visual Playground:\n",
    " 1. Chart toolbar (https://code.google.com/apis/ajax/playground/?type=visualization#toolbar)\n",
    " 2. Maps with better colors https://developers.google.com/chart/image/docs/gallery/new_map_charts\n",
    " 3. I like the looks of this bubble chart: https://code.google.com/apis/ajax/playground/?type=visualization#bubble_chart\n",
    " 4. This chart editor looks VERY handy: https://code.google.com/apis/ajax/playground/?type=visualization#chart_editor\n",
    " 5. The Motion chart looks very interactive and fun: https://code.google.com/apis/ajax/playground/?type=visualization#motion_chart\n",
    " 6. Potentially useful for planning papers or maybe could be useful for family trees in a finished paper: https://code.google.com/apis/ajax/playground/?type=visualization#org_chart\n",
    " 7. Allows you to search big tables quickly: https://code.google.com/apis/ajax/playground/?type=visualization#stringfilter_control\n",
    " 8. Satelite maps are another possibility, perhaps instead of the maps that are technically \"charts\""
   ]
  },
  {
   "cell_type": "code",
   "execution_count": null,
   "metadata": {
    "collapsed": false
   },
   "outputs": [],
   "source": []
  }
 ],
 "metadata": {
  "kernelspec": {
   "display_name": "Python2",
   "language": "python",
   "name": "python2"
  },
  "language_info": {
   "codemirror_mode": {
    "name": "ipython",
    "version": 2
   },
   "file_extension": ".py",
   "mimetype": "text/x-python",
   "name": "python",
   "nbconvert_exporter": "python",
   "pygments_lexer": "ipython2",
   "version": "2.7.12"
  }
 },
 "nbformat": 4,
 "nbformat_minor": 0
}
