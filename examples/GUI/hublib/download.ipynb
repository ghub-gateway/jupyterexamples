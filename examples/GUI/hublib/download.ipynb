{
 "cells": [
  {
   "cell_type": "markdown",
   "metadata": {},
   "source": [
    "# Download Widget"
   ]
  },
  {
   "cell_type": "code",
   "execution_count": 1,
   "metadata": {},
   "outputs": [
    {
     "data": {
      "application/javascript": [
       "\n",
       "requirejs.undef('filepicker');\n",
       "\n",
       "define('filepicker', [\"@jupyter-widgets/base\"], function(widgets) {\n",
       "\n",
       "    var FilePickerView = widgets.DOMWidgetView.extend({\n",
       "        render: function(){\n",
       "            this.file = document.createElement('input');\n",
       "            this.file.setAttribute('class', 'fileinput');\n",
       "            this.file.setAttribute('id', this.cid);\n",
       "            this.file.multiple = this.model.get('multiple');\n",
       "            this.file.required = true;\n",
       "            this.file.setAttribute('type', 'file');\n",
       "            this.file.setAttribute('style', 'display:none');\n",
       "\n",
       "            this.label = document.createElement('label');\n",
       "            this.label.setAttribute('for', this.cid);\n",
       "            this.label.setAttribute('style', 'border: 1px solid; border-radius: 5px; display: inline-block; padding: 6px 12px');\n",
       "\n",
       "            this.icon = document.createElement('i');\n",
       "            this.icon.setAttribute(\"class\", \"fa fa-upload\");\n",
       "\n",
       "            if (this.file.multiple) {\n",
       "                this.labelstr = \"  Upload Files\";\n",
       "            } else {\n",
       "                this.labelstr = \"  Upload File\";\n",
       "            }\n",
       "            this.label.innerHTML = this.labelstr;\n",
       "            this.label.prepend(this.icon);\n",
       "            this.el.appendChild(this.label);\n",
       "            this.el.appendChild(this.file);\n",
       "            this.listenTo(this.model, 'change:send', this._send_changed, this);\n",
       "            this.listenTo(this.model, 'change:reset', this._reset, this);\n",
       "            this.update();\n",
       "        },\n",
       "\n",
       "        events: {\n",
       "            // List of events and their handlers.\n",
       "            'change': 'handle_file_change'\n",
       "        },\n",
       "\n",
       "        _reset: function() {\n",
       "            this.label.innerHTML = this.labelstr;\n",
       "            this.label.prepend(this.icon);\n",
       "            this.file.removeAttribute(\"disabled\");\n",
       "        },\n",
       "\n",
       "        _send_changed: function() {\n",
       "            var that = this;\n",
       "            var send = this.model.get('send');\n",
       "            var fnum = send[0];\n",
       "            var offset = send[1];\n",
       "            var chunk_size=64*1024;\n",
       "            var reader;\n",
       "\n",
       "            if (fnum == -1) {\n",
       "                // ignore\n",
       "                return\n",
       "            }\n",
       "\n",
       "            if (offset == 0) {\n",
       "                this.model.set('sent', -1);\n",
       "                this.touch();\n",
       "            }\n",
       "\n",
       "            // console.log('send: ' + fnum + ' ' + offset);\n",
       "            function tob64( buffer ) {\n",
       "                var binary = '';\n",
       "                var bytes = new Uint8Array( buffer );\n",
       "                var len = bytes.byteLength;\n",
       "                for (var i = 0; i < len; i++) {\n",
       "                    binary += String.fromCharCode( bytes[ i ] );\n",
       "                }\n",
       "                return window.btoa( binary );\n",
       "            }\n",
       "\n",
       "            var reader_done = function (event) {\n",
       "                // chunk is finished.  Send to python\n",
       "                if (event.target.error == null) {\n",
       "                    var b64 = tob64(event.target.result);\n",
       "                    that.model.set('data', b64);\n",
       "                    that.model.set('sent', offset);\n",
       "                    that.touch();\n",
       "                } else {\n",
       "                    console.log(\"Read error: \" + event.target.error);\n",
       "                    that.model.set('data', '');\n",
       "                    that.model.set('sent', -2);\n",
       "                    that.touch();\n",
       "                }\n",
       "                that.touch();\n",
       "            }\n",
       "        \n",
       "            var chunk_reader = function (_offset, _f) {\n",
       "                // console.log('CR' + ' ' + _f + ' ' + _offset);\n",
       "                reader = new FileReader();\n",
       "                var chunk = _f.slice(_offset, chunk_size + _offset);            \n",
       "                reader.readAsArrayBuffer(chunk);\n",
       "                reader.onload = reader_done;\n",
       "            }\n",
       "    \n",
       "            // OK. request next chunk\n",
       "            chunk_reader(offset, this.files[fnum]);\n",
       "        },\n",
       "        \n",
       "        \n",
       "        handle_file_change: function(evt) {\n",
       "\n",
       "            var _files = evt.target.files;\n",
       "            var filenames = [];\n",
       "            var file_readers = [];\n",
       "            this.files = [];\n",
       "\n",
       "            for (var i = 0; i < _files.length; i++) {\n",
       "                var file = _files[i];\n",
       "                console.log(\"Filename: \" + file.name);\n",
       "                console.log(\"Type: \" + file.type);\n",
       "                console.log(\"Size: \" + file.size + \" bytes\");\n",
       "                this.files.push(file);\n",
       "                filenames.push([file.name, file.size]);\n",
       "            };\n",
       "            \n",
       "            // Set the filenames of the files.\n",
       "            this.model.set('filenames', filenames);\n",
       "            this.touch();\n",
       "\n",
       "            // update the label\n",
       "            if (filenames.length == 0) {\n",
       "                this.label.innerHTML = this.labelstr;\n",
       "                this.file.removeAttribute(\"disabled\");\n",
       "            } else if (filenames.length == 1) {\n",
       "                this.label.innerHTML = \"  \" + filenames[0][0];\n",
       "                this.file.setAttribute('disabled', 'true');\n",
       "            } else {\n",
       "                this.label.innerHTML = \"  \" + filenames.length + \" files selected\";\n",
       "                this.file.setAttribute('disabled', 'true');           \n",
       "            };\n",
       "            this.label.prepend(this.icon);\n",
       "        },\n",
       "    });\n",
       "\n",
       "    // Register the FilePickerView with the widget manager.\n",
       "    return {\n",
       "        FilePickerView: FilePickerView\n",
       "    };\n",
       "});\n"
      ],
      "text/plain": [
       "<IPython.core.display.Javascript object>"
      ]
     },
     "metadata": {},
     "output_type": "display_data"
    }
   ],
   "source": [
    "from hublib.ui import FileUpload, Download"
   ]
  },
  {
   "cell_type": "code",
   "execution_count": 2,
   "metadata": {},
   "outputs": [
    {
     "data": {
      "application/vnd.jupyter.widget-view+json": {
       "model_id": "1ab8b22db39f4b449e0bb4dd35661032",
       "version_major": 2,
       "version_minor": 0
      },
      "text/plain": [
       "Button(description='wire.data', style=ButtonStyle())"
      ]
     },
     "metadata": {},
     "output_type": "display_data"
    }
   ],
   "source": [
    "Download('wire.data')"
   ]
  },
  {
   "cell_type": "code",
   "execution_count": 3,
   "metadata": {},
   "outputs": [
    {
     "data": {
      "application/vnd.jupyter.widget-view+json": {
       "model_id": "14183a17bbc9420bb3b3fe34c6cd1aed",
       "version_major": 2,
       "version_minor": 0
      },
      "text/plain": [
       "Button(button_style='info', description='wire.data', style=ButtonStyle())"
      ]
     },
     "metadata": {},
     "output_type": "display_data"
    }
   ],
   "source": [
    "Download('wire.data', style='info')"
   ]
  },
  {
   "cell_type": "code",
   "execution_count": 4,
   "metadata": {},
   "outputs": [
    {
     "data": {
      "application/vnd.jupyter.widget-view+json": {
       "model_id": "1e5f77021a3a417caac2ce4fdfaf571a",
       "version_major": 2,
       "version_minor": 0
      },
      "text/plain": [
       "Button(button_style='success', description='wire.data', icon='arrow-circle-down', style=ButtonStyle())"
      ]
     },
     "metadata": {},
     "output_type": "display_data"
    }
   ],
   "source": [
    "Download('wire.data', style='success', icon='arrow-circle-down')"
   ]
  },
  {
   "cell_type": "code",
   "execution_count": 5,
   "metadata": {},
   "outputs": [
    {
     "data": {
      "application/vnd.jupyter.widget-view+json": {
       "model_id": "a515346bcaeb424e8582ee40e5606877",
       "version_major": 2,
       "version_minor": 0
      },
      "text/plain": [
       "Button(button_style='warning', description='wire.data', icon='cloud-download', style=ButtonStyle(), tooltip='D…"
      ]
     },
     "metadata": {},
     "output_type": "display_data"
    }
   ],
   "source": [
    "Download('wire.data', style='warning', icon='cloud-download', tooltip='DOWNLOAD FILE')"
   ]
  },
  {
   "cell_type": "code",
   "execution_count": 6,
   "metadata": {},
   "outputs": [
    {
     "data": {
      "application/vnd.jupyter.widget-view+json": {
       "model_id": "b72eea7e66514f54b32ff1679e09da5f",
       "version_major": 2,
       "version_minor": 0
      },
      "text/plain": [
       "Button(description='Download', icon='download', style=ButtonStyle(), tooltip='DOWNLOAD FILE')"
      ]
     },
     "metadata": {},
     "output_type": "display_data"
    }
   ],
   "source": [
    "Download('wire.data', label='Download', icon='download', tooltip='DOWNLOAD FILE')"
   ]
  },
  {
   "cell_type": "code",
   "execution_count": 7,
   "metadata": {},
   "outputs": [
    {
     "data": {
      "application/vnd.jupyter.widget-view+json": {
       "model_id": "2f00e0b12c5b4c728385862a42c9f562",
       "version_major": 2,
       "version_minor": 0
      },
      "text/plain": [
       "HBox(children=(Button(button_style='success', description='wire.data', icon='arrow-circle-down', style=ButtonS…"
      ]
     },
     "metadata": {},
     "output_type": "display_data"
    }
   ],
   "source": [
    "# ipywidget compatibility\n",
    "\n",
    "from ipywidgets import HBox\n",
    "\n",
    "d1 = Download('wire.data', style='success', icon='arrow-circle-down')\n",
    "d2 = Download('wire.data', label='Download', icon='download', tooltip='DOWNLOAD FILE')\n",
    "\n",
    "HBox([d1.w, d2.w])"
   ]
  },
  {
   "cell_type": "code",
   "execution_count": null,
   "metadata": {},
   "outputs": [],
   "source": []
  }
 ],
 "metadata": {
  "kernelspec": {
   "display_name": "Python 3",
   "language": "python",
   "name": "python3"
  },
  "language_info": {
   "codemirror_mode": {
    "name": "ipython",
    "version": 3
   },
   "file_extension": ".py",
   "mimetype": "text/x-python",
   "name": "python",
   "nbconvert_exporter": "python",
   "pygments_lexer": "ipython3",
   "version": "3.7.7"
  },
  "widgets": {
   "application/vnd.jupyter.widget-state+json": {
    "state": {
     "00478b1cbd7243abb2427826d2058ef7": {
      "model_module": "@jupyter-widgets/base",
      "model_module_version": "1.0.0",
      "model_name": "LayoutModel",
      "state": {}
     },
     "0796ba88c63e4044a6b0ad99fcff0815": {
      "model_module": "@jupyter-widgets/controls",
      "model_module_version": "1.0.0",
      "model_name": "ButtonStyleModel",
      "state": {}
     },
     "09287ac9bbef4677b10c344fa750b931": {
      "model_module": "@jupyter-widgets/controls",
      "model_module_version": "1.0.0",
      "model_name": "ButtonStyleModel",
      "state": {}
     },
     "0b0e22b3592049b3a2c2fe2dba2db86d": {
      "model_module": "@jupyter-widgets/base",
      "model_module_version": "1.0.0",
      "model_name": "LayoutModel",
      "state": {}
     },
     "0fbbc5e0b4cd459396ff8dc8f8f79ba1": {
      "model_module": "@jupyter-widgets/controls",
      "model_module_version": "1.0.0",
      "model_name": "ButtonStyleModel",
      "state": {}
     },
     "1290045cffa743af8ebb51630d4adc3d": {
      "model_module": "@jupyter-widgets/controls",
      "model_module_version": "1.0.0",
      "model_name": "ButtonModel",
      "state": {
       "description": "Download",
       "icon": "download",
       "layout": "IPY_MODEL_ee6d631ebe5b4894b0b3f9a935862e81",
       "style": "IPY_MODEL_09287ac9bbef4677b10c344fa750b931",
       "tooltip": "DOWNLOAD FILE"
      }
     },
     "1759148ee146498682a182981e78fbf9": {
      "model_module": "@jupyter-widgets/controls",
      "model_module_version": "1.0.0",
      "model_name": "ButtonModel",
      "state": {
       "description": "wire.data",
       "layout": "IPY_MODEL_c5d50a9f1b834e14a16490e9c757470f",
       "style": "IPY_MODEL_56b1017236e34b0d8479cb7f80ad6b81"
      }
     },
     "1addd4faeb1647c3a26cf351f929ab3e": {
      "model_module": "@jupyter-widgets/controls",
      "model_module_version": "1.0.0",
      "model_name": "ButtonModel",
      "state": {
       "button_style": "warning",
       "description": "wire.data",
       "icon": "cloud-download",
       "layout": "IPY_MODEL_d10f18b902a54ffcb29c11257dd5d9ee",
       "style": "IPY_MODEL_0796ba88c63e4044a6b0ad99fcff0815",
       "tooltip": "DOWNLOAD FILE"
      }
     },
     "1c6ba5c7635e469195146945b20b2a75": {
      "model_module": "@jupyter-widgets/controls",
      "model_module_version": "1.0.0",
      "model_name": "ButtonModel",
      "state": {
       "button_style": "warning",
       "description": "wire.data",
       "icon": "cloud-download",
       "layout": "IPY_MODEL_f872e4145a5646e1a6b5584168c75140",
       "style": "IPY_MODEL_826e769770e84133b6699e9274999129",
       "tooltip": "DOWNLOAD FILE"
      }
     },
     "22850bb6c55a4155a6c93c92a20f333d": {
      "model_module": "@jupyter-widgets/controls",
      "model_module_version": "1.0.0",
      "model_name": "ButtonModel",
      "state": {
       "description": "wire.data",
       "layout": "IPY_MODEL_c85cb8bfa72c48ec88cd0b79e5f18587",
       "style": "IPY_MODEL_ec1024342afa4746a81224908c625e0c"
      }
     },
     "2a94afd721d9479086158598e4a291b3": {
      "model_module": "@jupyter-widgets/controls",
      "model_module_version": "1.0.0",
      "model_name": "ButtonModel",
      "state": {
       "description": "Download",
       "icon": "download",
       "layout": "IPY_MODEL_b25cc92ccd95464ba47fe43bef6dcdbf",
       "style": "IPY_MODEL_d483b294ef7448d493920a390e5ae1c3",
       "tooltip": "DOWNLOAD FILE"
      }
     },
     "2fa1dd7398d34d81bdb7f074b8dee73d": {
      "model_module": "@jupyter-widgets/base",
      "model_module_version": "1.0.0",
      "model_name": "LayoutModel",
      "state": {}
     },
     "32362b2ba72346889e91a4b09d563293": {
      "model_module": "@jupyter-widgets/controls",
      "model_module_version": "1.0.0",
      "model_name": "ButtonModel",
      "state": {
       "description": "Download",
       "icon": "download",
       "layout": "IPY_MODEL_0b0e22b3592049b3a2c2fe2dba2db86d",
       "style": "IPY_MODEL_cb1b1db8f22742c0b10f0737fb1acc56",
       "tooltip": "DOWNLOAD FILE"
      }
     },
     "3c7ea45153b64e2e9d9276fa3751f251": {
      "model_module": "@jupyter-widgets/controls",
      "model_module_version": "1.0.0",
      "model_name": "ButtonStyleModel",
      "state": {}
     },
     "3f6976ad8c5c4a82bd3d6a80b9ddbcbc": {
      "model_module": "@jupyter-widgets/base",
      "model_module_version": "1.0.0",
      "model_name": "LayoutModel",
      "state": {}
     },
     "3fd4b9b45a9c44ee9f8bade7b3486eeb": {
      "model_module": "@jupyter-widgets/base",
      "model_module_version": "1.0.0",
      "model_name": "LayoutModel",
      "state": {}
     },
     "4502d4bb315a48f7b7a4f19b66c31554": {
      "model_module": "@jupyter-widgets/controls",
      "model_module_version": "1.0.0",
      "model_name": "ButtonModel",
      "state": {
       "button_style": "success",
       "description": "wire.data",
       "icon": "arrow-circle-down",
       "layout": "IPY_MODEL_3f6976ad8c5c4a82bd3d6a80b9ddbcbc",
       "style": "IPY_MODEL_3c7ea45153b64e2e9d9276fa3751f251"
      }
     },
     "56b1017236e34b0d8479cb7f80ad6b81": {
      "model_module": "@jupyter-widgets/controls",
      "model_module_version": "1.0.0",
      "model_name": "ButtonStyleModel",
      "state": {}
     },
     "5f810a0ba2204023834230506f68c5aa": {
      "model_module": "@jupyter-widgets/controls",
      "model_module_version": "1.0.0",
      "model_name": "ButtonModel",
      "state": {
       "button_style": "success",
       "description": "wire.data",
       "icon": "arrow-circle-down",
       "layout": "IPY_MODEL_fc5bee2064a844b9977280b62c63101b",
       "style": "IPY_MODEL_a42b98570a0e45d7becb3ba9bcbdad39"
      }
     },
     "5ffb620d9d944f7baf3e0796a043bd22": {
      "model_module": "@jupyter-widgets/controls",
      "model_module_version": "1.0.0",
      "model_name": "ButtonStyleModel",
      "state": {}
     },
     "6ce56f154e4f416fa53e68f2aef7f0ee": {
      "model_module": "@jupyter-widgets/controls",
      "model_module_version": "1.0.0",
      "model_name": "ButtonModel",
      "state": {
       "button_style": "success",
       "description": "wire.data",
       "icon": "arrow-circle-down",
       "layout": "IPY_MODEL_e6fe9710aca94668be352e95b8a8be8e",
       "style": "IPY_MODEL_5ffb620d9d944f7baf3e0796a043bd22"
      }
     },
     "796f783d3631481b93b20612a020ae14": {
      "model_module": "@jupyter-widgets/controls",
      "model_module_version": "1.0.0",
      "model_name": "ButtonModel",
      "state": {
       "button_style": "success",
       "description": "wire.data",
       "icon": "arrow-circle-down",
       "layout": "IPY_MODEL_3fd4b9b45a9c44ee9f8bade7b3486eeb",
       "style": "IPY_MODEL_0fbbc5e0b4cd459396ff8dc8f8f79ba1"
      }
     },
     "826e769770e84133b6699e9274999129": {
      "model_module": "@jupyter-widgets/controls",
      "model_module_version": "1.0.0",
      "model_name": "ButtonStyleModel",
      "state": {}
     },
     "8a86b9ea774f4eafb2382a03b09c160d": {
      "model_module": "@jupyter-widgets/controls",
      "model_module_version": "1.0.0",
      "model_name": "ButtonStyleModel",
      "state": {}
     },
     "a42b98570a0e45d7becb3ba9bcbdad39": {
      "model_module": "@jupyter-widgets/controls",
      "model_module_version": "1.0.0",
      "model_name": "ButtonStyleModel",
      "state": {}
     },
     "b25cc92ccd95464ba47fe43bef6dcdbf": {
      "model_module": "@jupyter-widgets/base",
      "model_module_version": "1.0.0",
      "model_name": "LayoutModel",
      "state": {}
     },
     "bf7b9ee58a8545f5b312849a042a51b2": {
      "model_module": "@jupyter-widgets/controls",
      "model_module_version": "1.0.0",
      "model_name": "ButtonModel",
      "state": {
       "button_style": "info",
       "description": "wire.data",
       "layout": "IPY_MODEL_df4caa8c985d4952917318cb84a95adf",
       "style": "IPY_MODEL_fc3b285c98584d829fe57f267239a2b7"
      }
     },
     "c5d50a9f1b834e14a16490e9c757470f": {
      "model_module": "@jupyter-widgets/base",
      "model_module_version": "1.0.0",
      "model_name": "LayoutModel",
      "state": {}
     },
     "c85cb8bfa72c48ec88cd0b79e5f18587": {
      "model_module": "@jupyter-widgets/base",
      "model_module_version": "1.0.0",
      "model_name": "LayoutModel",
      "state": {}
     },
     "cb1b1db8f22742c0b10f0737fb1acc56": {
      "model_module": "@jupyter-widgets/controls",
      "model_module_version": "1.0.0",
      "model_name": "ButtonStyleModel",
      "state": {}
     },
     "cc6f4f782817429fbaeb53eee7e86a54": {
      "model_module": "@jupyter-widgets/base",
      "model_module_version": "1.0.0",
      "model_name": "LayoutModel",
      "state": {}
     },
     "d10f18b902a54ffcb29c11257dd5d9ee": {
      "model_module": "@jupyter-widgets/base",
      "model_module_version": "1.0.0",
      "model_name": "LayoutModel",
      "state": {}
     },
     "d483b294ef7448d493920a390e5ae1c3": {
      "model_module": "@jupyter-widgets/controls",
      "model_module_version": "1.0.0",
      "model_name": "ButtonStyleModel",
      "state": {}
     },
     "daaab20565de4ce9811f54bafa40c3e3": {
      "model_module": "@jupyter-widgets/base",
      "model_module_version": "1.0.0",
      "model_name": "LayoutModel",
      "state": {}
     },
     "dae9987dd6ed47ea962f2ccd65289d03": {
      "model_module": "@jupyter-widgets/controls",
      "model_module_version": "1.0.0",
      "model_name": "ButtonModel",
      "state": {
       "description": "Download",
       "icon": "download",
       "layout": "IPY_MODEL_2fa1dd7398d34d81bdb7f074b8dee73d",
       "style": "IPY_MODEL_fcada830ce5d407c8bfde2f21334315b",
       "tooltip": "DOWNLOAD FILE"
      }
     },
     "df4caa8c985d4952917318cb84a95adf": {
      "model_module": "@jupyter-widgets/base",
      "model_module_version": "1.0.0",
      "model_name": "LayoutModel",
      "state": {}
     },
     "e48a72593e9141e1873b45e43138cb3f": {
      "model_module": "@jupyter-widgets/controls",
      "model_module_version": "1.0.0",
      "model_name": "HBoxModel",
      "state": {
       "children": [
        "IPY_MODEL_4502d4bb315a48f7b7a4f19b66c31554",
        "IPY_MODEL_1290045cffa743af8ebb51630d4adc3d"
       ],
       "layout": "IPY_MODEL_cc6f4f782817429fbaeb53eee7e86a54"
      }
     },
     "e6c49cbf8be543138b69b9b6239680f1": {
      "model_module": "@jupyter-widgets/controls",
      "model_module_version": "1.0.0",
      "model_name": "HBoxModel",
      "state": {
       "children": [
        "IPY_MODEL_796f783d3631481b93b20612a020ae14",
        "IPY_MODEL_32362b2ba72346889e91a4b09d563293"
       ],
       "layout": "IPY_MODEL_daaab20565de4ce9811f54bafa40c3e3"
      }
     },
     "e6fe9710aca94668be352e95b8a8be8e": {
      "model_module": "@jupyter-widgets/base",
      "model_module_version": "1.0.0",
      "model_name": "LayoutModel",
      "state": {}
     },
     "ec1024342afa4746a81224908c625e0c": {
      "model_module": "@jupyter-widgets/controls",
      "model_module_version": "1.0.0",
      "model_name": "ButtonStyleModel",
      "state": {}
     },
     "ee6d631ebe5b4894b0b3f9a935862e81": {
      "model_module": "@jupyter-widgets/base",
      "model_module_version": "1.0.0",
      "model_name": "LayoutModel",
      "state": {}
     },
     "f7fc301d81d9415186692868bdf4a13b": {
      "model_module": "@jupyter-widgets/controls",
      "model_module_version": "1.0.0",
      "model_name": "ButtonModel",
      "state": {
       "button_style": "info",
       "description": "wire.data",
       "layout": "IPY_MODEL_00478b1cbd7243abb2427826d2058ef7",
       "style": "IPY_MODEL_8a86b9ea774f4eafb2382a03b09c160d"
      }
     },
     "f872e4145a5646e1a6b5584168c75140": {
      "model_module": "@jupyter-widgets/base",
      "model_module_version": "1.0.0",
      "model_name": "LayoutModel",
      "state": {}
     },
     "fc3b285c98584d829fe57f267239a2b7": {
      "model_module": "@jupyter-widgets/controls",
      "model_module_version": "1.0.0",
      "model_name": "ButtonStyleModel",
      "state": {}
     },
     "fc5bee2064a844b9977280b62c63101b": {
      "model_module": "@jupyter-widgets/base",
      "model_module_version": "1.0.0",
      "model_name": "LayoutModel",
      "state": {}
     },
     "fcada830ce5d407c8bfde2f21334315b": {
      "model_module": "@jupyter-widgets/controls",
      "model_module_version": "1.0.0",
      "model_name": "ButtonStyleModel",
      "state": {}
     }
    },
    "version_major": 2,
    "version_minor": 0
   }
  }
 },
 "nbformat": 4,
 "nbformat_minor": 2
}
