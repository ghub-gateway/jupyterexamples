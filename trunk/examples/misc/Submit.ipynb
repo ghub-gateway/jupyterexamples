{
 "cells": [
  {
   "cell_type": "markdown",
   "metadata": {},
   "source": [
    "# Submit\n",
    "\n",
    "Tools that run on the hubs can use only modest computing resources because they run in a container on a shared host.  Many simulations require large amounts of memory and/or CPU time.  These tools require access to external HPC or grid resources.  \n",
    "\n",
    "**submit** takes a user command and executes it remotely. The objective is to allow the user to issue a command in the same manner as a locally executed command. Multiple submission mechanisms are available for run dissemination. A set of steps are executed for each run submission:\n",
    "\n",
    "* Destination site is selected\n",
    "* A wrapper script is generated for remote execution.\n",
    "\n",
    "* If needed a batch system description file is generated.\n",
    "* Input files for a run are gathered and transferred to the remote site. Transferred files include the wrapper and batch description scripts.\n",
    "* The wrapper script is executed remotely.\n",
    "* Progress of the remote run is monitored until completion.\n",
    "* Output files from the run are returned to the dissemination point.\n"
   ]
  },
  {
   "cell_type": "markdown",
   "metadata": {},
   "source": [
    "## Contents\n",
    "\n",
    "1. [**Introduction to Submit**](#Introduction-to-Submit) \n",
    "    * [Learning by Doing](#Learning-by-Doing)\n",
    "    * [Submit with Parameters](#Submit-with-Parameters)\n",
    "    * [Using runCommand](#Using-runCommand)\n",
    "    * [Submit status Email](#Submit-status-email)\n",
    "    * [Using SubmitCommand class](#Using-SubmitCommand-class)\n",
    "    \n",
    "\n",
    "2. **Submit and Jupyter**\n",
    "    * [Submit UI widget](../GUI/hublib/SubmitWidget.ipynb) Run the hub submit command in a widget. Uses local caching of results.\n",
    "    * [Submit-Parametric](../GUI/hublib/SubmitWidget-Parametric.ipynb) A parametric example that runs many jobs.\n",
    "    * [Submit-NoCache](../GUI/hublib/SubmitWidget-NoCache.ipynb) Submit widget with caching disabled."
   ]
  },
  {
   "cell_type": "markdown",
   "metadata": {},
   "source": [
    "## Introduction to Submit\n",
    "\n",
    "The submit command allows hub users, or hub tools, to run commands on remote computing resources. The syntax for this command is as follows:"
   ]
  },
  {
   "cell_type": "markdown",
   "metadata": {},
   "source": [
    "```bash\n",
    "> submit --help\n",
    "Usage: submit [options]\n",
    "\n",
    "Options:\n",
    "  -h, --help            Report command usage. Optionally request listing of\n",
    "                        managers, tools, venues, or examples.\n",
    "  -l, --local           Execute command locally\n",
    "  --status              Report status for runs executing remotely.\n",
    "  -k, --kill            Kill runs executing remotely.\n",
    "  --venueStatus         Report venue status.\n",
    "  -v, --venue           Remote job destination\n",
    "  -i, --inputfile       Input file\n",
    "  -p, --parameters      Parameter sweep variables. See examples.\n",
    "  -d, --data            Parametric variable data - csv format\n",
    "  -s SEPARATOR, --separator=SEPARATOR\n",
    "                        Parameter sweep variable list separator\n",
    "  -n NCPUS, --nCpus=NCPUS\n",
    "                        Number of processors for MPI execution\n",
    "  -N PPN, --ppn=PPN     Number of processors/node for MPI execution\n",
    "  -w WALLTIME, --wallTime=WALLTIME\n",
    "                        Estimated walltime hh:mm:ss or minutes\n",
    "  -e, --env             Variable=value\n",
    "  --runName=RUNNAME     Name used for directories and files created during the\n",
    "                        run. Restricted to alphanumeric characters\n",
    "  -m, --manager         Multiprocessor job manager\n",
    "  -r NREDUNDANT, --redundancy=NREDUNDANT\n",
    "                        Number of indentical simulations to execute in\n",
    "                        parallel\n",
    "  -M, --metrics         Report resource usage on exit\n",
    "  --detach              Detach client after launching run\n",
    "  --attach=ATTACHID     Attach to previously detached started server\n",
    "  -W, --wait            Wait for reduced job load before submission\n",
    "  -Q, --quota           Enforce local user quota on remote execution host\n",
    "  -q, --noquota         Do not enforce local user quota on remote execution\n",
    "                        host\n",
    "  --tailStdout          Periodically report tail of stdout file.\n",
    "  --tailStderr          Periodically report tail of stderr file.\n",
    "  --tail                Periodically report tail of application file.\n",
    "  --progress            Show progress method. Choices are auto, curses,\n",
    "                        submit, text, pegasus, or silent.\n",
    "```\n"
   ]
  },
  {
   "cell_type": "markdown",
   "metadata": {},
   "source": [
    "# Learning by Doing\n",
    "\n",
    "This notebook will demonstrate how to use submit.  First, it will show command line usage that will not require Python.  Then, it will show some examples that use a Python convenience function to run submit.\n"
   ]
  },
  {
   "cell_type": "markdown",
   "metadata": {},
   "source": [
    "## Venues\n",
    "\n",
    "Submit can submit to different hosts or clusters. You can get a list for your hub by asking submit:\n"
   ]
  },
  {
   "cell_type": "code",
   "execution_count": 1,
   "metadata": {},
   "outputs": [
    {
     "name": "stdout",
     "output_type": "stream",
     "text": [
      "\r\n",
      "Currently available VENUES are:\r\n",
      "   ccr-ghub\r\n",
      "   ccr-ghub-8cores\r\n",
      "   ccr-ghub-debug\r\n",
      "   ccr-ghub-script\r\n",
      "   submithost\r\n",
      "   u2-grid\r\n",
      "   u2-grid-debug\r\n"
     ]
    }
   ],
   "source": [
    "!submit --help venues"
   ]
  },
  {
   "cell_type": "markdown",
   "metadata": {},
   "source": [
    "<div class=\"alert alert-warning\">\n",
    "How do we know what the default venue is?\n",
    "How should we choose the venue to use?\n",
    "</div>"
   ]
  },
  {
   "cell_type": "markdown",
   "metadata": {},
   "source": [
    "You may guess that the GHub gateway uses venues with `ghub` in the name. For that gateway, `ccr-ghub` is the best choice for most purposes. When in doubt, ask!"
   ]
  },
  {
   "cell_type": "markdown",
   "metadata": {},
   "source": [
    "### What commands can I submit?\n",
    "\n",
    "#### Submitting locally with --local\n",
    "\n",
    "Any executable can be used when submitting locally.  Local submit runs in the current\n",
    "execution host in the current container, so there are few reasons to use it.  However, it\n",
    "does run quickly, so it is useful for quick tests such as the ones we run in this notebook.\n",
    "\n",
    "Here's a very quick example:"
   ]
  },
  {
   "cell_type": "code",
   "execution_count": 2,
   "metadata": {},
   "outputs": [
    {
     "name": "stdout",
     "output_type": "stream",
     "text": [
      "hi\r\n"
     ]
    }
   ],
   "source": [
    "!submit --local echo hi"
   ]
  },
  {
   "cell_type": "markdown",
   "metadata": {},
   "source": [
    "#### Submitting to outside resources\n",
    "\n",
    "Only executables staged in the Hub's /apps directory can be submitted to the grid (outside computing resources). We'll see an example of that in the next section. "
   ]
  },
  {
   "cell_type": "markdown",
   "metadata": {},
   "source": [
    "## Submit with Parameters\n",
    "\n",
    "The submit command accepts various different parameters and input files. Some examples of syntax for submit parameters follow:\n",
    "\n",
    "`submit -p @@cap=10pf,100pf,1uf sim.exe @:indeck`\n",
    "\n",
    "    Submit 3 jobs. The @:indeck means \"use the file indeck as a template\n",
    "    file.\" Substitute the values 10pf, 100pf, and 1uf in place of @@cap within the\n",
    "    file. Send off one job for each of the values and bring back the results.\n",
    "\n",
    "`submit -p @@vth=0:0.2:5 -p @@cap=10pf,100pf,1uf sim.exe @:indeck`\n",
    "\n",
    "    Submit 78 jobs. The parameter @@vth goes from 0 to 5 in steps of 0.2,\n",
    "    so there are 26 values for @@vth. For each of those values, the parameter\n",
    "    @@cap changes from 10pf to 100pf to 1uf. 26 x 3 = 78 jobs total. Again\n",
    "    @:indeck is treated as a template, and the values are substituted in place of\n",
    "    @@vth and @@cap in that file.\n",
    "\n",
    "`submit -p params sim.exe @:indeck`\n",
    "\n",
    "    In this case, parameter definitions are taken from the file named\n",
    "    params instead of the command line. The file might have the following\n",
    "    contents:\n",
    "\n",
    "        # paramters for my job submission\n",
    "        parameter @@vth=0:0.2:5\n",
    "        parameter @@cap = 10pf,100pf,1uf\n",
    "\n",
    "`submit -p \"params;@@num=1-10;@@color=blue\" job.sh @:job.data`\n",
    "\n",
    "    Here, the semicolon separates\n",
    "    the parameters value into three parts. The first says to load parameters from\n",
    "    a file params. The next part says add an additional parameter @@num that goes\n",
    "    from 1 to 10. The last part says add an additional parameter @@color with a\n",
    "    single value blue. The parameters @@num and @@color cannot override anything\n",
    "    defined within params; they must be new parameter names.\n",
    "\n",
    "`submit -d input.csv sim.exe @:indeck`\n",
    "\n",
    "    Takes parameters from the data file input.csv, which must be in comma-\n",
    "    separated value format. The first line of this file may contain a series of\n",
    "    @@param names for each of the columns. Whitespace is significant for all\n",
    "    values entered in the csv file. If it doesn't, then the columns are assumed to\n",
    "    be called @@1, @@2, @@3, etc. Each of the remaining lines represents a set of\n",
    "    parameter values for one job; if there are 100 such lines, there will be 100\n",
    "    jobs. For example, the file input.csv might look like this:\n",
    "\n",
    "        @@vth,@@cap\n",
    "        1.1,1pf\n",
    "        2.2,1pf\n",
    "        1.1,10pf\n",
    "        2.2,10pf\n",
    "\n",
    "    Parameters are substituted as before into template files such as\n",
    "    @:indeck.\n",
    "\n",
    "`submit -d input.csv -p \"@@doping=1e15-1e17 in 30 log\" sim.exe @:infile`\n",
    "\n",
    "    Takes parameters from the data file input.csv, but also adds another\n",
    "    parameter @@doping which goes from 1e15 to 1e17 in 30 points on a log scale.\n",
    "    For each of these points, all values in the data file will be executed. If the\n",
    "    data file specifies 50 jobs, then this command would run 30 x 50 = 1500 jobs.\n",
    "\n",
    "`submit -d input.csv -i @:extra/data.txt sim.exe @:indeck`\n",
    "\n",
    "    In addition to the template indeck file, send along another file\n",
    "    extra/data.txt with each job, and treat it as a template too.\n",
    "\n",
    "`submit -s / -p @@address=23 Main St.,Hometown,Indiana/42 Broadway,Hometown,Indiana -s , -p @@color=red,green,blue job.sh @:job.data`\n",
    "\n",
    "    Change the separator to slash when defining the addresses, then change\n",
    "    back to comma for the @@color parameter and any remaining arguments. We\n",
    "    shouldn't have to change the separator often, but it might come in handy if\n",
    "    the value strings themselves have commas.\n",
    "\n",
    "`submit -p @@num=1:1000 sim.exe input@@num`\n",
    "\n",
    "    Submit jobs 1,2,3,...,1000. Parameter names such as @@num are\n",
    "    recognized not only in template files, but also for arguments on the command\n",
    "    line. In this case, the numbers 1,2,3,...,1000 are substituted into the file\n",
    "    name, so the various jobs take their input from \"input1\", \"input2\", ...,\n",
    "    \"input1000\".\n",
    "\n",
    "`submit -p @@file=glob:indeck* sim.exe @@file`\n",
    "\n",
    "    Look for files matching indeck* and use the list of names as the\n",
    "    parameter @@file. Those values could be substituted into other template files,\n",
    "    or used on the command line as in this example. Suppose the directory contains\n",
    "    files indeck1, indeck10, and indeck2.  The glob option will order the files in\n",
    "    a natural order: indeck1, indeck2, indeck10.  This example would launch three\n",
    "    jobs using each of those files as input for the job.\n",
    "\n",
    "`submit -p @@file=globnat:indeck* sim.exe @@file`\n",
    "\n",
    "    This option has been deprecated.  The functionality is now available with the glob option."
   ]
  },
  {
   "cell_type": "markdown",
   "metadata": {},
   "source": [
    "## Submit with parameters: examples"
   ]
  },
  {
   "cell_type": "markdown",
   "metadata": {},
   "source": [
    "Let's try the echo program with a list of different input parameters.  To see progress, we need to use \"text\" or \"submit\".  Other options won't work well with Jupyter.\n"
   ]
  },
  {
   "cell_type": "code",
   "execution_count": 3,
   "metadata": {},
   "outputs": [],
   "source": [
    "# We need this because this example is running in a read-only directory. We use the /tmp directory in the running container:\n",
    "import os\n",
    "try:\n",
    "    os.mkdir('/tmp/submit')\n",
    "except:\n",
    "    pass\n",
    "os.chdir('/tmp/submit')"
   ]
  },
  {
   "cell_type": "markdown",
   "metadata": {},
   "source": [
    "Now, for the `echo` example:"
   ]
  },
  {
   "cell_type": "code",
   "execution_count": 4,
   "metadata": {},
   "outputs": [
    {
     "name": "stdout",
     "output_type": "stream",
     "text": [
      "Simulations complete. Results are stored in directory /tmp/submit/00032650\r\n"
     ]
    }
   ],
   "source": [
    "!submit --local --progress text -p @@name=hub1,hub2,hub3 echo @@name"
   ]
  },
  {
   "cell_type": "markdown",
   "metadata": {},
   "source": [
    "Notice how the outputs were written to subdirectories in a directory that was created for us.\n",
    "If we want to access those results more conveniently, it would be best to tell submit what name to use for the directory.\n",
    "We can do this by using the **--runName** parameter.\n",
    "<div class=\"alert alert-info\">\n",
    "If the directory exists, submit will complain and exit immediately.\n",
    "\n",
    "</div>"
   ]
  },
  {
   "cell_type": "code",
   "execution_count": 5,
   "metadata": {
    "scrolled": true
   },
   "outputs": [
    {
     "name": "stdout",
     "output_type": "stream",
     "text": [
      "=SUBMIT-PROGRESS=> aborted=0 finished=0 failed=0 executing=0 waiting=0 setting_up=0 setup=3 %done=0.00 timestamp=1625662207.6\n",
      "=SUBMIT-PROGRESS=> aborted=0 finished=0 failed=0 executing=1 waiting=0 setting_up=0 setup=2 %done=0.00 timestamp=1625662215.9\n",
      "=SUBMIT-PROGRESS=> aborted=0 finished=1 failed=0 executing=0 waiting=0 setting_up=0 setup=2 %done=33.33 timestamp=1625662216.0\n",
      "=SUBMIT-PROGRESS=> aborted=0 finished=1 failed=0 executing=1 waiting=0 setting_up=0 setup=1 %done=33.33 timestamp=1625662216.3\n",
      "=SUBMIT-PROGRESS=> aborted=0 finished=2 failed=0 executing=0 waiting=0 setting_up=0 setup=1 %done=66.67 timestamp=1625662216.4\n",
      "=SUBMIT-PROGRESS=> aborted=0 finished=2 failed=0 executing=1 waiting=0 setting_up=0 setup=0 %done=66.67 timestamp=1625662216.6\n",
      "=SUBMIT-PROGRESS=> aborted=0 finished=3 failed=0 executing=0 waiting=0 setting_up=0 setup=0 %done=100.00 timestamp=1625662216.7\n"
     ]
    }
   ],
   "source": [
    "!rm -rf echotest\n",
    "!submit --local --runName=echotest --progress submit -s, -p @@name=hub1,hub2,hub3 echo @@name"
   ]
  },
  {
   "cell_type": "markdown",
   "metadata": {},
   "source": [
    "Once submit finishes, we can see the standard output for each job in the \"echotext\" subdirectory.  Standard output  will be in echotest_{jobnum}.stdout."
   ]
  },
  {
   "cell_type": "code",
   "execution_count": 6,
   "metadata": {
    "scrolled": true
   },
   "outputs": [
    {
     "name": "stdout",
     "output_type": "stream",
     "text": [
      "echotest:\r\n",
      "total 4\r\n",
      "drwxr-xr-x 2 jsperhac public  32 Jul  7 12:50 01\r\n",
      "drwxr-xr-x 2 jsperhac public  32 Jul  7 12:50 02\r\n",
      "drwxr-xr-x 2 jsperhac public  32 Jul  7 12:50 03\r\n",
      "drwxr-xr-x 3 jsperhac public  21 Jul  7 12:50 jsperhac\r\n",
      "-rw-r--r-- 1 jsperhac public 197 Jul  7 12:50 parameterCombinations.csv\r\n",
      "\r\n",
      "echotest/01:\r\n",
      "total 4\r\n",
      "-rw-rw-r-- 1 jsperhac public 5 Jul  7 12:50 echotest_01.stdout\r\n",
      "\r\n",
      "echotest/02:\r\n",
      "total 4\r\n",
      "-rw-rw-r-- 1 jsperhac public 5 Jul  7 12:50 echotest_02.stdout\r\n",
      "\r\n",
      "echotest/03:\r\n",
      "total 4\r\n",
      "-rw-rw-r-- 1 jsperhac public 5 Jul  7 12:50 echotest_03.stdout\r\n",
      "\r\n",
      "echotest/jsperhac:\r\n",
      "total 0\r\n",
      "drwxr-xr-x 3 jsperhac public 22 Jul  7 12:50 pegasus\r\n",
      "\r\n",
      "echotest/jsperhac/pegasus:\r\n",
      "total 0\r\n",
      "drwxr-xr-x 2 jsperhac public 6 Jul  7 12:50 00032651\r\n",
      "\r\n",
      "echotest/jsperhac/pegasus/00032651:\r\n",
      "total 0\r\n"
     ]
    }
   ],
   "source": [
    "!ls -lR echotest"
   ]
  },
  {
   "cell_type": "markdown",
   "metadata": {},
   "source": [
    "So let's look at those output files:"
   ]
  },
  {
   "cell_type": "code",
   "execution_count": 7,
   "metadata": {},
   "outputs": [
    {
     "name": "stdout",
     "output_type": "stream",
     "text": [
      "Run 01: hub1\n",
      "\n",
      "Run 02: hub2\n",
      "\n",
      "Run 03: hub3\n",
      "\n"
     ]
    }
   ],
   "source": [
    "for i in range(1,4):\n",
    "    with open(\"echotest/%02d/echotest_%02d.stdout\" % (i, i), 'r') as f:\n",
    "        print(\"Run %02d: %s\" % (i, f.read()))"
   ]
  },
  {
   "cell_type": "code",
   "execution_count": 8,
   "metadata": {},
   "outputs": [
    {
     "name": "stdout",
     "output_type": "stream",
     "text": [
      "# command: echo @@name\r",
      "\r\n",
      "# started: Wed Jul  7 12:50:07 UTC 2021\r",
      "\r\n",
      "# finished: Wed Jul  7 12:50:17 UTC 2021\r",
      "\r\n",
      "# completed: 3/3 jobs\r",
      "\r\n",
      "Id,Status,name\r",
      "\r\n",
      "2,finished,hub2\r",
      "\r\n",
      "3,finished,hub3\r",
      "\r\n",
      "1,finished,hub1\r",
      "\r\n"
     ]
    }
   ],
   "source": [
    "!cat echotest/parameterCombinations.csv"
   ]
  },
  {
   "cell_type": "markdown",
   "metadata": {},
   "source": [
    "# Using runCommand\n",
    "\n",
    "Using the exclamation point(!) to run shell commands from Jupyter is fine for many cases.  But often you want to call submit from a Python function or check the return value.  Hublib provides some very flexible Python functions to do this  https://hubzero.github.io/hublib/cmd.html"
   ]
  },
  {
   "cell_type": "markdown",
   "metadata": {},
   "source": [
    "### Managers"
   ]
  },
  {
   "cell_type": "markdown",
   "metadata": {},
   "source": [
    "In order to run an example Python3 code on our remote resource, we will use a submit manager (here, called `ccr-vhub-python`) which loads a Python3 Anaconda installation, with the needed packages, on our remote resource. This is not typically necessary, but you'll see it in the example below. \n",
    "\n",
    "Here's the command for identifying managers that are available for use with submit:"
   ]
  },
  {
   "cell_type": "code",
   "execution_count": 21,
   "metadata": {},
   "outputs": [
    {
     "name": "stdout",
     "output_type": "stream",
     "text": [
      "\r\n",
      "Currently available MANAGERs are:\r\n",
      "   ccni-bgl-CO\r\n",
      "   ccni-bgl-VN\r\n",
      "   ccni-opteron_lammps\r\n",
      "   ccr-vhub-python\r\n",
      "   mpi\r\n",
      "   mpich\r\n",
      "   mpirun\r\n",
      "   parallel\r\n",
      "   pegasus\r\n",
      "   puffin-intel-12.1\r\n",
      "   python-2.7.2\r\n",
      "   sbbnl-bgl-CO\r\n",
      "   sbbnl-bgl-VN\r\n",
      "   sbbnl-bgp-DUAL\r\n",
      "   sbbnl-bgp-SMP\r\n",
      "   sbbnl-bgp-VN\r\n",
      "   serial\r\n",
      "   titan-manager\r\n"
     ]
    }
   ],
   "source": [
    "!submit --help managers"
   ]
  },
  {
   "cell_type": "markdown",
   "metadata": {},
   "source": [
    "### The runCommand() call\n",
    "Note that we specify `-v` with the remote computing resource, or [venue](#Venues), name, and `-m` with the [manager](#Managers) name. Other [parameters](#Submit-with-Parameters) are described above. \n",
    "\n",
    "Refer to the documentation for all the details of the syntax."
   ]
  },
  {
   "cell_type": "code",
   "execution_count": 31,
   "metadata": {
    "scrolled": true
   },
   "outputs": [
    {
     "name": "stdout",
     "output_type": "stream",
     "text": [
      "=SUBMIT-PROGRESS=> aborted=0 finished=0 failed=0 executing=0 waiting=2 setting_up=0 setup=0 %done=0.00 timestamp=1625682283.8\n",
      "=SUBMIT-PROGRESS=> aborted=0 finished=0 failed=0 executing=2 waiting=0 setting_up=0 setup=0 %done=0.00 timestamp=1625682319.0\n",
      "=SUBMIT-PROGRESS=> aborted=0 finished=2 failed=0 executing=0 waiting=0 setting_up=0 setup=0 %done=100.00 timestamp=1625682354.2\n",
      "Simulations complete. Results are stored in directory /home/vhub/jsperhac/data/sessions/61344/run_gbEuxN/runtest\n",
      "Import file transfer initiated. Wed Jul  7 11:26:05 2021\n",
      "Import file transfer complete. Wed Jul  7 18:26:05 2021\n"
     ]
    }
   ],
   "source": [
    "from hublib.cmd import runCommand\n",
    "!rm -rf runtest\n",
    "res, stdout, stderr = runCommand(\"submit -v ccr-ghub \\\n",
    "                                 -m ccr-vhub-python \\\n",
    "                                 --runName=runtest \\\n",
    "                                 --progress submit \\\n",
    "                                 -p @@Vin=1,2 \\\n",
    "                                 /apps/pegtut/current/examples/capacitor_voltage/sim1.py  \\\n",
    "                                 --Vin @@Vin\")"
   ]
  },
  {
   "cell_type": "markdown",
   "metadata": {},
   "source": [
    "#### Return code\n",
    "The return code (here called `res`) for normal completion is zero, which we can check on here:"
   ]
  },
  {
   "cell_type": "code",
   "execution_count": 32,
   "metadata": {},
   "outputs": [
    {
     "data": {
      "text/plain": [
       "0"
      ]
     },
     "execution_count": 32,
     "metadata": {},
     "output_type": "execute_result"
    }
   ],
   "source": [
    "res"
   ]
  },
  {
   "cell_type": "markdown",
   "metadata": {},
   "source": [
    "#### Standard out\n",
    "Standard out from our call is as follows:"
   ]
  },
  {
   "cell_type": "code",
   "execution_count": 33,
   "metadata": {},
   "outputs": [
    {
     "data": {
      "text/plain": [
       "b'=SUBMIT-PROGRESS=> aborted=0 finished=0 failed=0 executing=0 waiting=2 setting_up=0 setup=0 %done=0.00 timestamp=1625682283.8\\n=SUBMIT-PROGRESS=> aborted=0 finished=0 failed=0 executing=2 waiting=0 setting_up=0 setup=0 %done=0.00 timestamp=1625682319.0\\n=SUBMIT-PROGRESS=> aborted=0 finished=2 failed=0 executing=0 waiting=0 setting_up=0 setup=0 %done=100.00 timestamp=1625682354.2\\nSimulations complete. Results are stored in directory /home/vhub/jsperhac/data/sessions/61344/run_gbEuxN/runtest\\nImport file transfer initiated. Wed Jul  7 11:26:05 2021\\nImport file transfer complete. Wed Jul  7 18:26:05 2021\\n'"
      ]
     },
     "execution_count": 33,
     "metadata": {},
     "output_type": "execute_result"
    }
   ],
   "source": [
    "stdout"
   ]
  },
  {
   "cell_type": "markdown",
   "metadata": {},
   "source": [
    "#### Standard error\n",
    "Finally, here is the standard error, `stderr`:"
   ]
  },
  {
   "cell_type": "code",
   "execution_count": 34,
   "metadata": {},
   "outputs": [
    {
     "data": {
      "text/plain": [
       "b''"
      ]
     },
     "execution_count": 34,
     "metadata": {},
     "output_type": "execute_result"
    }
   ],
   "source": [
    "stderr"
   ]
  },
  {
   "cell_type": "markdown",
   "metadata": {},
   "source": [
    "#### Results of the calculation"
   ]
  },
  {
   "cell_type": "markdown",
   "metadata": {},
   "source": [
    "For the last example, we used a test program installed on our hub and asked submit to execute it on the remote resource.  The program, `sim1.py`, takes a single argument and outputs values to a file, `out.log`.  It does not write the results to stdout.  You can see all the output in the subdirectories under `runtest`, as follows:"
   ]
  },
  {
   "cell_type": "code",
   "execution_count": 35,
   "metadata": {
    "scrolled": true
   },
   "outputs": [
    {
     "name": "stdout",
     "output_type": "stream",
     "text": [
      "runtest:\r\n",
      "total 4\r\n",
      "drwxr-xr-x 2 jsperhac public  46 Jul  7 18:26 01\r\n",
      "drwxr-xr-x 2 jsperhac public  46 Jul  7 18:26 02\r\n",
      "-rw-r--r-- 1 jsperhac public 225 Jul  7 18:25 parameterCombinations.csv\r\n",
      "\r\n",
      "runtest/01:\r\n",
      "total 4\r\n",
      "-rw-r--r-- 1 jsperhac public 1660 Jul  7 18:25 out.log\r\n",
      "-rw-r--r-- 1 jsperhac public    0 Jul  7 18:25 runtest_01.stdout\r\n",
      "\r\n",
      "runtest/02:\r\n",
      "total 4\r\n",
      "-rw-r--r-- 1 jsperhac public 1566 Jul  7 18:25 out.log\r\n",
      "-rw-r--r-- 1 jsperhac public    0 Jul  7 18:25 runtest_02.stdout\r\n"
     ]
    }
   ],
   "source": [
    "!ls -lR runtest"
   ]
  },
  {
   "cell_type": "markdown",
   "metadata": {},
   "source": [
    "If the run was unsuccessful, the command above will list the .stderr files that will indicate the source of the error.\n",
    "Alternately, if the run was successful, we can look at the output generated by the simulation and saved in the file `out.log`:"
   ]
  },
  {
   "cell_type": "code",
   "execution_count": 36,
   "metadata": {
    "scrolled": true
   },
   "outputs": [
    {
     "name": "stdout",
     "output_type": "stream",
     "text": [
      "0 0\r\n",
      "0.606061 0.0588061\r\n",
      "1.21212 0.114154\r\n",
      "1.81818 0.166247\r\n",
      "2.42424 0.215277\r\n",
      "3.0303 0.261423\r\n",
      "3.63636 0.304856\r\n",
      "4.24242 0.345735\r\n",
      "4.84848 0.38421\r\n",
      "5.45455 0.420422\r\n",
      "6.06061 0.454504\r\n",
      "6.66667 0.486583\r\n",
      "7.27273 0.516775\r\n",
      "7.87879 0.545191\r\n",
      "8.48485 0.571937\r\n",
      "9.09091 0.59711\r\n",
      "9.69697 0.620802\r\n",
      "10.303 0.643101\r\n",
      "10.9091 0.664089\r\n",
      "11.5152 0.683843\r\n",
      "12.1212 0.702435\r\n",
      "12.7273 0.719933\r\n",
      "13.3333 0.736403\r\n",
      "13.9394 0.751904\r\n",
      "14.5455 0.766494\r\n",
      "15.1515 0.780225\r\n",
      "15.7576 0.793149\r\n",
      "16.3636 0.805313\r\n",
      "16.9697 0.816762\r\n",
      "17.5758 0.827538\r\n",
      "18.1818 0.837679\r\n",
      "18.7879 0.847225\r\n",
      "19.3939 0.856209\r\n",
      "20 0.864665\r\n",
      "20.6061 0.872623\r\n",
      "21.2121 0.880114\r\n",
      "21.8182 0.887164\r\n",
      "22.4242 0.893799\r\n",
      "23.0303 0.900045\r\n",
      "23.6364 0.905922\r\n",
      "24.2424 0.911455\r\n",
      "24.8485 0.916662\r\n",
      "25.4545 0.921563\r\n",
      "26.0606 0.926175\r\n",
      "26.6667 0.930517\r\n",
      "27.2727 0.934603\r\n",
      "27.8788 0.938448\r\n",
      "28.4848 0.942068\r\n",
      "29.0909 0.945475\r\n",
      "29.697 0.948681\r\n",
      "30.303 0.951699\r\n",
      "30.9091 0.954539\r\n",
      "31.5152 0.957213\r\n",
      "32.1212 0.959729\r\n",
      "32.7273 0.962097\r\n",
      "33.3333 0.964326\r\n",
      "33.9394 0.966424\r\n",
      "34.5455 0.968398\r\n",
      "35.1515 0.970257\r\n",
      "35.7576 0.972006\r\n",
      "36.3636 0.973652\r\n",
      "36.9697 0.975201\r\n",
      "37.5758 0.97666\r\n",
      "38.1818 0.978032\r\n",
      "38.7879 0.979324\r\n",
      "39.3939 0.98054\r\n",
      "40 0.981684\r\n",
      "40.6061 0.982761\r\n",
      "41.2121 0.983775\r\n",
      "41.8182 0.984729\r\n",
      "42.4242 0.985627\r\n",
      "43.0303 0.986472\r\n",
      "43.6364 0.987268\r\n",
      "44.2424 0.988017\r\n",
      "44.8485 0.988721\r\n",
      "45.4545 0.989385\r\n",
      "46.0606 0.990009\r\n",
      "46.6667 0.990596\r\n",
      "47.2727 0.991149\r\n",
      "47.8788 0.99167\r\n",
      "48.4848 0.99216\r\n",
      "49.0909 0.992621\r\n",
      "49.697 0.993055\r\n",
      "50.303 0.993463\r\n",
      "50.9091 0.993848\r\n",
      "51.5152 0.994209\r\n",
      "52.1212 0.99455\r\n",
      "52.7273 0.99487\r\n",
      "53.3333 0.995172\r\n",
      "53.9394 0.995456\r\n",
      "54.5455 0.995723\r\n",
      "55.1515 0.995975\r\n",
      "55.7576 0.996211\r\n",
      "56.3636 0.996434\r\n",
      "56.9697 0.996644\r\n",
      "57.5758 0.996841\r\n",
      "58.1818 0.997027\r\n",
      "58.7879 0.997202\r\n",
      "59.3939 0.997366\r\n",
      "60 0.997521\r\n"
     ]
    }
   ],
   "source": [
    "!cat runtest/01/out.log"
   ]
  },
  {
   "cell_type": "markdown",
   "metadata": {},
   "source": [
    "## Submit status email\n",
    "A special application called `mail2self` enables you to send email from submit to the current user. This feature is handy to use for alerting the user once their job has returned its results from the remote computing resource.\n",
    "\n",
    "This simple example below shows how it is done. Here we set up the call:"
   ]
  },
  {
   "cell_type": "code",
   "execution_count": 27,
   "metadata": {},
   "outputs": [],
   "source": [
    "email_text = \"Test email from the jupyterexamples tool, using mail2self and submit\"\n",
    "email_subject = \"Submit mail2self test\"\n",
    "email_cmd = 'submit --progress silent mail2self -t \"'+email_text+'\" -s \"'+email_subject+'\"'"
   ]
  },
  {
   "cell_type": "markdown",
   "metadata": {},
   "source": [
    "Execute the `os.system()` call, then check the email address you used for your Hub registration. A return value of 0 indicates success:"
   ]
  },
  {
   "cell_type": "code",
   "execution_count": 26,
   "metadata": {},
   "outputs": [
    {
     "data": {
      "text/plain": [
       "0"
      ]
     },
     "execution_count": 26,
     "metadata": {},
     "output_type": "execute_result"
    }
   ],
   "source": [
    "os.system(email_cmd)"
   ]
  },
  {
   "cell_type": "markdown",
   "metadata": {},
   "source": [
    "# Using SubmitCommand class\n",
    "\n",
    "Furthur Python integration is achieved by using the hubzero.submit.SubmitCommand class.  Methods are provided for specifying any and all **submit** arguments.  For each **submit** command argument there are typically two method types - set and reset. The standard python **help** builtin can be used to show methods and associated arguments.  The code shown here can also be used Rappture Python wrapper scripts."
   ]
  },
  {
   "cell_type": "markdown",
   "metadata": {},
   "source": [
    "<div class=\"alert alert-warning\">\n",
    "<h3>Note</h3>\n",
    "The <i>hubzero.submit</i> package is not currently available from Jupyter on this Hub. The documentation that follows is provided for reference only.\n",
    "</div>"
   ]
  },
  {
   "cell_type": "code",
   "execution_count": null,
   "metadata": {},
   "outputs": [],
   "source": [
    "from hubzero.submit.SubmitCommand import SubmitCommand\n",
    "\n",
    "submitCommand = SubmitCommand()\n",
    "help (submitCommand)"
   ]
  },
  {
   "cell_type": "markdown",
   "metadata": {},
   "source": [
    "Help about the underlying **submit** command can be easily reported."
   ]
  },
  {
   "cell_type": "code",
   "execution_count": null,
   "metadata": {},
   "outputs": [],
   "source": [
    "submitCommand = SubmitCommand()\n",
    "result = submitCommand.submit(['--help'])"
   ]
  },
  {
   "cell_type": "markdown",
   "metadata": {},
   "source": [
    "A listing of available venues can be listed"
   ]
  },
  {
   "cell_type": "code",
   "execution_count": null,
   "metadata": {},
   "outputs": [],
   "source": [
    "submitCommand = SubmitCommand()\n",
    "submitCommand.setHelp(detail='venues')\n",
    "result = submitCommand.submit()"
   ]
  },
  {
   "cell_type": "markdown",
   "metadata": {},
   "source": [
    "A listing of available staged tools can be listed"
   ]
  },
  {
   "cell_type": "code",
   "execution_count": null,
   "metadata": {},
   "outputs": [],
   "source": [
    "submitCommand = SubmitCommand()\n",
    "submitCommand.setHelp(detail='tools')\n",
    "result = submitCommand.submit()"
   ]
  },
  {
   "cell_type": "markdown",
   "metadata": {},
   "source": [
    "For demonstration purposes we can use a Python application that is part of the Pegasus Tutorial tool. Because it is installed in the /apps directory it is available for submisison to most venues."
   ]
  },
  {
   "cell_type": "code",
   "execution_count": null,
   "metadata": {},
   "outputs": [],
   "source": [
    "applicationCode = '/apps/pegtut/current/examples/capacitor_voltage/sim1.py'"
   ]
  },
  {
   "cell_type": "markdown",
   "metadata": {},
   "source": [
    "The SubmitCommand class has a method that excepts command arguments as a simple list."
   ]
  },
  {
   "cell_type": "code",
   "execution_count": null,
   "metadata": {},
   "outputs": [],
   "source": [
    "submitCommand = SubmitCommand()\n",
    "result = submitCommand.submit(['-w','5',applicationCode,'--C','0.001','--Vin','3'])\n",
    "print(result)"
   ]
  },
  {
   "cell_type": "markdown",
   "metadata": {},
   "source": [
    "You should notice that the single run resulted in submission of jobs to three different sites.  When no venue is specified and the application is not staged at any remote venues redundant jobs are submited.  When one job completes sucessfully the other jobs are terminated.\n",
    "The result dictionary has three members.  The *jobId* is the unique identifier given by **submit** to every run.  *runName* is the name of the run and by default it matches the *jobId*.  *runName* can be optionally set with **submit** arguments.  Standard output and standard error files generated by remote application execution are returned as *runName*.stdout and *runName*.stderr.  The standard error file will not be returned if it is empty. "
   ]
  },
  {
   "cell_type": "code",
   "execution_count": null,
   "metadata": {},
   "outputs": [],
   "source": [
    "runStdout = result['runName'] + '.stdout'\n",
    "!cat $runStdout"
   ]
  },
  {
   "cell_type": "code",
   "execution_count": null,
   "metadata": {},
   "outputs": [],
   "source": [
    "runStderr = result['runName'] + '.stderr'\n",
    "!cat $runStderr"
   ]
  },
  {
   "cell_type": "markdown",
   "metadata": {},
   "source": [
    "Using the set methods and specifying a particular venue"
   ]
  },
  {
   "cell_type": "code",
   "execution_count": null,
   "metadata": {},
   "outputs": [],
   "source": [
    "submitCommand = SubmitCommand()\n",
    "submitCommand.setWallTime(5)\n",
    "submitCommand.setVenue('OSGFactory')\n",
    "submitCommand.setCommand(applicationCode)\n",
    "submitCommand.setCommandArguments(['--C','0.001','--Vin','3'])\n",
    "submitCommand.show()\n",
    "result = submitCommand.submit()"
   ]
  },
  {
   "cell_type": "markdown",
   "metadata": {},
   "source": [
    "Here is an example with a parameter sweep over two variables.  Parameter sweep results are returned in a directory named *runName*.  Each job in the sweep has a separate subdirectory."
   ]
  },
  {
   "cell_type": "code",
   "execution_count": null,
   "metadata": {},
   "outputs": [],
   "source": [
    "submitCommand = SubmitCommand()\n",
    "submitCommand.setWallTime(5)\n",
    "submitCommand.setParameters(['@@Vin=1:2:10','@@C=100e-6,100e-5'])\n",
    "submitCommand.setCommand(applicationCode)\n",
    "submitCommand.setCommandArguments(['--C','@@C','--Vin','@@Vin'])\n",
    "submitCommand.show()\n",
    "result = submitCommand.submit()\n",
    "\n",
    "runResultsDir = result['runName']\n",
    "!ls -R $runResultsDir"
   ]
  },
  {
   "cell_type": "markdown",
   "metadata": {},
   "source": [
    "Alternative progress reporting methods are provided to facilitate advanced reporting. As an example the *submit* progress reporting method output is injested by Rappture and rendered as a progress bar."
   ]
  },
  {
   "cell_type": "code",
   "execution_count": null,
   "metadata": {},
   "outputs": [],
   "source": [
    "submitCommand = SubmitCommand()\n",
    "submitCommand.setWallTime(5)\n",
    "submitCommand.setParameters(['@@Vin=1:2:10','@@C=100e-6,100e-5'])\n",
    "submitCommand.setProgress(detail='submit')\n",
    "submitCommand.setCommand(applicationCode)\n",
    "submitCommand.setCommandArguments(['--C','@@C','--Vin','@@Vin'])\n",
    "submitCommand.show()\n",
    "result = submitCommand.submit()"
   ]
  },
  {
   "cell_type": "markdown",
   "metadata": {},
   "source": [
    "Parameter sweep variable values can also be read from a file."
   ]
  },
  {
   "cell_type": "code",
   "execution_count": null,
   "metadata": {},
   "outputs": [],
   "source": [
    "with open(\"input.csv\",'w') as fpInput:\n",
    "   fpInput.write(\"@@Vin,@@C\\n\")\n",
    "   for v in range(1,6):\n",
    "      for c in (0.0001,0.001):\n",
    "         fpInput.write(\"%f,%f\\n\" % (v,c))\n",
    "!cat input.csv"
   ]
  },
  {
   "cell_type": "code",
   "execution_count": null,
   "metadata": {},
   "outputs": [],
   "source": [
    "submitCommand = SubmitCommand()\n",
    "submitCommand.setWallTime(5)\n",
    "submitCommand.setDataFile('input.csv')\n",
    "submitCommand.setCommand(applicationCode)\n",
    "submitCommand.setCommandArguments(['--C','@@C','--Vin','@@Vin'])\n",
    "submitCommand.show()\n",
    "result = submitCommand.submit()"
   ]
  },
  {
   "cell_type": "markdown",
   "metadata": {},
   "source": [
    "The mapping of variable combinations to job number is contained in the parameterCombinations.csv file."
   ]
  },
  {
   "cell_type": "code",
   "execution_count": null,
   "metadata": {},
   "outputs": [],
   "source": [
    "import os.path\n",
    "combinationsFile = os.path.join(result['runName'],'parameterCombinations.csv')\n",
    "!cat $combinationsFile"
   ]
  }
 ],
 "metadata": {
  "kernelspec": {
   "display_name": "Python 3",
   "language": "python",
   "name": "python3"
  },
  "language_info": {
   "codemirror_mode": {
    "name": "ipython",
    "version": 3
   },
   "file_extension": ".py",
   "mimetype": "text/x-python",
   "name": "python",
   "nbconvert_exporter": "python",
   "pygments_lexer": "ipython3",
   "version": "3.7.7"
  }
 },
 "nbformat": 4,
 "nbformat_minor": 2
}
