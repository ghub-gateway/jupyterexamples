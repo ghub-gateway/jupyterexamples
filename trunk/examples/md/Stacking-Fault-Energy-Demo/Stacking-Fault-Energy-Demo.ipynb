{
 "cells": [
  {
   "cell_type": "markdown",
   "metadata": {},
   "source": [
    "# Demonstration: Stacking Fault Energy Calculation\n",
    "\n",
    "**Chandler A. Becker**, [chandler.becker@nist.gov](mailto:chandler.becker@nist.gov?Subject=ipr-demo), *Materials Science and Engineering Division, NIST*.\n",
    "\n",
    "**Zachary T. Trautt**, [zachary.trautt@nist.gov](mailto:zachary.trautt@nist.gov?Subject=ipr-demo), *Materials Measurement Science Division, NIST*.\n",
    "\n",
    "Version: 2014-09-25\n",
    "\n",
    "[Disclaimers](http://www.nist.gov/public_affairs/disclaimer.cfm)\n",
    "- - -\n",
    "\n",
    "## Software\n",
    "\n",
    "This notebook was tested with:\n",
    "\n",
    "- LAMMPS (Version 1 Feb 2014)\n",
    "\n",
    "- Python (Version 2.7.8)\n",
    "\n",
    "- IPython (Version 1.1.0)\n",
    "\n",
    "- - -\n",
    "\n",
    "## Introduction\n",
    "\n",
    "This notebook computes the generalized planar fault (GPF) energy of fcc materials at 0K [1] using LAMMPS [2]. This calculation is performed by creating a single crystal and displacing one half of the crystal relative to the other as illustrated in Figure 1. Displacements are parallel to the fault plane. The simulation block is periodic in the directions parallel to the fault plane. The fault plane is positioned to exist between atomic planes. After displacement, energy is minimized by allowing atoms to move only normal to the fault plane. Planar fault energy is calculated as:\n",
    "\n",
    "*E_GPF = (E_fs - E_ufs)/A*,\n",
    "\n",
    "where *E_fs* is the energy of the faulted slab, *E_ufs* is the energy of the unfaulted slab (with surfaces), and *A* is the area of the fault.\n",
    "\n",
    "- - - "
   ]
  },
  {
   "cell_type": "markdown",
   "metadata": {},
   "source": [
    "<div class=\"alert alert-info\">\n",
    "For nanohub, we need to load the proper lammps module. \n",
    "</div>"
   ]
  },
  {
   "cell_type": "code",
   "execution_count": 1,
   "metadata": {},
   "outputs": [
    {
     "ename": "IOError",
     "evalue": "[Errno 2] No such file or directory: u'/apps/share64/debian7/environ.d/lammps-15May15'",
     "output_type": "error",
     "traceback": [
      "\u001b[0;31m---------------------------------------------------------------------------\u001b[0m",
      "\u001b[0;31mIOError\u001b[0m                                   Traceback (most recent call last)",
      "\u001b[0;32m<ipython-input-1-4564e24b33b3>\u001b[0m in \u001b[0;36m<module>\u001b[0;34m()\u001b[0m\n\u001b[1;32m      1\u001b[0m \u001b[0;32mimport\u001b[0m \u001b[0mhublib\u001b[0m\u001b[0;34m.\u001b[0m\u001b[0muse\u001b[0m\u001b[0;34m\u001b[0m\u001b[0m\n\u001b[0;32m----> 2\u001b[0;31m \u001b[0mget_ipython\u001b[0m\u001b[0;34m(\u001b[0m\u001b[0;34m)\u001b[0m\u001b[0;34m.\u001b[0m\u001b[0mmagic\u001b[0m\u001b[0;34m(\u001b[0m\u001b[0;34mu'use lammps-15May15'\u001b[0m\u001b[0;34m)\u001b[0m\u001b[0;34m\u001b[0m\u001b[0m\n\u001b[0m",
      "\u001b[0;32m/opt/anaconda-6/envs/Python2/lib/python2.7/site-packages/IPython/core/interactiveshell.pyc\u001b[0m in \u001b[0;36mmagic\u001b[0;34m(self, arg_s)\u001b[0m\n\u001b[1;32m   2158\u001b[0m         \u001b[0mmagic_name\u001b[0m\u001b[0;34m,\u001b[0m \u001b[0m_\u001b[0m\u001b[0;34m,\u001b[0m \u001b[0mmagic_arg_s\u001b[0m \u001b[0;34m=\u001b[0m \u001b[0marg_s\u001b[0m\u001b[0;34m.\u001b[0m\u001b[0mpartition\u001b[0m\u001b[0;34m(\u001b[0m\u001b[0;34m' '\u001b[0m\u001b[0;34m)\u001b[0m\u001b[0;34m\u001b[0m\u001b[0m\n\u001b[1;32m   2159\u001b[0m         \u001b[0mmagic_name\u001b[0m \u001b[0;34m=\u001b[0m \u001b[0mmagic_name\u001b[0m\u001b[0;34m.\u001b[0m\u001b[0mlstrip\u001b[0m\u001b[0;34m(\u001b[0m\u001b[0mprefilter\u001b[0m\u001b[0;34m.\u001b[0m\u001b[0mESC_MAGIC\u001b[0m\u001b[0;34m)\u001b[0m\u001b[0;34m\u001b[0m\u001b[0m\n\u001b[0;32m-> 2160\u001b[0;31m         \u001b[0;32mreturn\u001b[0m \u001b[0mself\u001b[0m\u001b[0;34m.\u001b[0m\u001b[0mrun_line_magic\u001b[0m\u001b[0;34m(\u001b[0m\u001b[0mmagic_name\u001b[0m\u001b[0;34m,\u001b[0m \u001b[0mmagic_arg_s\u001b[0m\u001b[0;34m)\u001b[0m\u001b[0;34m\u001b[0m\u001b[0m\n\u001b[0m\u001b[1;32m   2161\u001b[0m \u001b[0;34m\u001b[0m\u001b[0m\n\u001b[1;32m   2162\u001b[0m     \u001b[0;31m#-------------------------------------------------------------------------\u001b[0m\u001b[0;34m\u001b[0m\u001b[0;34m\u001b[0m\u001b[0m\n",
      "\u001b[0;32m/opt/anaconda-6/envs/Python2/lib/python2.7/site-packages/IPython/core/interactiveshell.pyc\u001b[0m in \u001b[0;36mrun_line_magic\u001b[0;34m(self, magic_name, line)\u001b[0m\n\u001b[1;32m   2079\u001b[0m                 \u001b[0mkwargs\u001b[0m\u001b[0;34m[\u001b[0m\u001b[0;34m'local_ns'\u001b[0m\u001b[0;34m]\u001b[0m \u001b[0;34m=\u001b[0m \u001b[0msys\u001b[0m\u001b[0;34m.\u001b[0m\u001b[0m_getframe\u001b[0m\u001b[0;34m(\u001b[0m\u001b[0mstack_depth\u001b[0m\u001b[0;34m)\u001b[0m\u001b[0;34m.\u001b[0m\u001b[0mf_locals\u001b[0m\u001b[0;34m\u001b[0m\u001b[0m\n\u001b[1;32m   2080\u001b[0m             \u001b[0;32mwith\u001b[0m \u001b[0mself\u001b[0m\u001b[0;34m.\u001b[0m\u001b[0mbuiltin_trap\u001b[0m\u001b[0;34m:\u001b[0m\u001b[0;34m\u001b[0m\u001b[0m\n\u001b[0;32m-> 2081\u001b[0;31m                 \u001b[0mresult\u001b[0m \u001b[0;34m=\u001b[0m \u001b[0mfn\u001b[0m\u001b[0;34m(\u001b[0m\u001b[0;34m*\u001b[0m\u001b[0margs\u001b[0m\u001b[0;34m,\u001b[0m\u001b[0;34m**\u001b[0m\u001b[0mkwargs\u001b[0m\u001b[0;34m)\u001b[0m\u001b[0;34m\u001b[0m\u001b[0m\n\u001b[0m\u001b[1;32m   2082\u001b[0m             \u001b[0;32mreturn\u001b[0m \u001b[0mresult\u001b[0m\u001b[0;34m\u001b[0m\u001b[0m\n\u001b[1;32m   2083\u001b[0m \u001b[0;34m\u001b[0m\u001b[0m\n",
      "\u001b[0;32m/opt/anaconda-6/envs/Python2/lib/python2.7/site-packages/hublib/use/__init__.pyc\u001b[0m in \u001b[0;36muse\u001b[0;34m(name)\u001b[0m\n\u001b[1;32m     70\u001b[0m     \u001b[0;34m@\u001b[0m\u001b[0mregister_line_magic\u001b[0m\u001b[0;34m\u001b[0m\u001b[0m\n\u001b[1;32m     71\u001b[0m     \u001b[0;32mdef\u001b[0m \u001b[0muse\u001b[0m\u001b[0;34m(\u001b[0m\u001b[0mname\u001b[0m\u001b[0;34m)\u001b[0m\u001b[0;34m:\u001b[0m\u001b[0;34m\u001b[0m\u001b[0m\n\u001b[0;32m---> 72\u001b[0;31m         \u001b[0m_use\u001b[0m\u001b[0;34m(\u001b[0m\u001b[0mname\u001b[0m\u001b[0;34m)\u001b[0m\u001b[0;34m\u001b[0m\u001b[0m\n\u001b[0m\u001b[1;32m     73\u001b[0m \u001b[0;34m\u001b[0m\u001b[0m\n\u001b[1;32m     74\u001b[0m     \u001b[0;31m# We delete this to avoid name conflicts for automagic to work\u001b[0m\u001b[0;34m\u001b[0m\u001b[0;34m\u001b[0m\u001b[0m\n",
      "\u001b[0;32m/opt/anaconda-6/envs/Python2/lib/python2.7/site-packages/hublib/use/__init__.pyc\u001b[0m in \u001b[0;36m_use\u001b[0;34m(name)\u001b[0m\n\u001b[1;32m     47\u001b[0m         \u001b[0mfname\u001b[0m \u001b[0;34m=\u001b[0m \u001b[0mos\u001b[0m\u001b[0;34m.\u001b[0m\u001b[0mpath\u001b[0m\u001b[0;34m.\u001b[0m\u001b[0mjoin\u001b[0m\u001b[0;34m(\u001b[0m\u001b[0mEPATH\u001b[0m\u001b[0;34m,\u001b[0m \u001b[0mname\u001b[0m\u001b[0;34m)\u001b[0m\u001b[0;34m\u001b[0m\u001b[0m\n\u001b[1;32m     48\u001b[0m \u001b[0;34m\u001b[0m\u001b[0m\n\u001b[0;32m---> 49\u001b[0;31m     \u001b[0;32mwith\u001b[0m \u001b[0mopen\u001b[0m\u001b[0;34m(\u001b[0m\u001b[0mfname\u001b[0m\u001b[0;34m)\u001b[0m \u001b[0;32mas\u001b[0m \u001b[0mfp\u001b[0m\u001b[0;34m:\u001b[0m\u001b[0;34m\u001b[0m\u001b[0m\n\u001b[0m\u001b[1;32m     50\u001b[0m         \u001b[0;32mfor\u001b[0m \u001b[0mline\u001b[0m \u001b[0;32min\u001b[0m \u001b[0mfp\u001b[0m\u001b[0;34m:\u001b[0m\u001b[0;34m\u001b[0m\u001b[0m\n\u001b[1;32m     51\u001b[0m             \u001b[0msline\u001b[0m \u001b[0;34m=\u001b[0m \u001b[0mline\u001b[0m\u001b[0;34m.\u001b[0m\u001b[0mstrip\u001b[0m\u001b[0;34m(\u001b[0m\u001b[0;34m)\u001b[0m\u001b[0;34m.\u001b[0m\u001b[0msplit\u001b[0m\u001b[0;34m(\u001b[0m\u001b[0;34m)\u001b[0m\u001b[0;34m\u001b[0m\u001b[0m\n",
      "\u001b[0;31mIOError\u001b[0m: [Errno 2] No such file or directory: u'/apps/share64/debian7/environ.d/lammps-15May15'"
     ]
    }
   ],
   "source": [
    "import hublib.use\n",
    "%use lammps-15May15"
   ]
  },
  {
   "cell_type": "code",
   "execution_count": null,
   "metadata": {},
   "outputs": [],
   "source": [
    "from IPython.core.display import Image\n",
    "Image(filename='GPFE-1.png')"
   ]
  },
  {
   "cell_type": "markdown",
   "metadata": {},
   "source": [
    "**Figure 1**: Illustration of the atomic configuration as a perfect crystal and after application of in-plane fault. "
   ]
  },
  {
   "cell_type": "markdown",
   "metadata": {},
   "source": [
    "- - -\n",
    "## LAMMPS input script\n",
    "\n",
    "The function below returns a LAMMPS input script as a string, where fractional displacement in the [2 -1 -1] fault direction is a variable. Note that this input script includes an equilibrium lattice constant, which is unique to each interatomic potential. This script does the following:\n",
    "\n",
    "1. Creates a perfect crystal\n",
    "1. Performs a minimization for relaxation of the free surfaces, which is the boundary condition in the direction normal to the fault plane\n",
    "1. Writes potential energy to a file\n",
    "1. Applies a relative fractional displacement of the two crystal halves\n",
    "1. Performs a minimization for relaxation of atoms affected by the creation of a fault\n",
    "1. Writes potential energy to a file\n",
    "\n",
    "This input script implementation requires a meam parameter file, which is described in the next section."
   ]
  },
  {
   "cell_type": "code",
   "execution_count": null,
   "metadata": {},
   "outputs": [],
   "source": [
    "def lammps_script(displacement):\n",
    "   return'\\n'.join(['# ---------- Initialization ----------',\n",
    "                    'units metal',\n",
    "                    'boundary p p m',\n",
    "                    'atom_style atomic',\n",
    "                    '# ---------- Atomic configuration ----------',\n",
    "                    '# NOTICE:',\n",
    "                    '# Equilibrium lattice constant (4.05 here) is unique to the chosen interatomic potential.',\n",
    "                    'lattice fcc 4.05 orient x 0 -1 1 orient y 2 -1 -1 orient z 1 1 1 origin 0.01 0.01 0.01 spacing 1.414214 2.449490 1.732051',\n",
    "                    'region box block 0 1 0 1 0 6',\n",
    "                    'region r1  block 0 1 0 1 0 3',\n",
    "                    'region r2  block 0 1 0 1 3 6',\n",
    "                    'create_box 1 box',\n",
    "                    'create_atoms 1 box',\n",
    "                    'group g2 region r2',\n",
    "                    '# ---------- Interatomic potential ----------',\n",
    "                    'pair_style meam',\n",
    "                    'pair_coeff * * ../../Jelinek_2012_meamf AlS ../../Jelinek_2012_meam.alsimgcufe AlS',\n",
    "                    '# ---------- Variables to write to LAMMPS output file ----------',\n",
    "                    'variable PE equal pe',\n",
    "                    'variable LX equal lx',\n",
    "                    'variable LY equal ly',\n",
    "                    'variable LZ equal lz',\n",
    "                    'variable PXX equal pxx',\n",
    "                    'variable PYY equal pyy',\n",
    "                    'variable PZZ equal pzz',\n",
    "                    'variable PYZ equal pyz',\n",
    "                    'variable PXZ equal pxz',\n",
    "                    'variable PXY equal pxy',\n",
    "                    'variable nAtoms equal count(all)',\n",
    "                    'thermo 1000',\n",
    "                    'thermo_style custom step temp pe ke etotal lx ly lz pxx pyy pzz pyz pxz pxy',\n",
    "                    '# ---------- Minimization details ----------',\n",
    "                    'min_style sd',\n",
    "                    'fix relaxz all setforce 0.0 0.0 NULL',\n",
    "                    '# ---------- Minimize single crystal (causes surface relaxation) ----------',\n",
    "                    'minimize 0.0 1.0e-12 10000 100000',\n",
    "                    '# ---------- Write thermodynamic information to file ----------',\n",
    "                    'fix print all print 1 \"${nAtoms} ${PE} ${LX} ${LY} ${LZ} ${PXX} ${PYY} ${PZZ} ${PYZ} ${PXZ} ${PXY}\" file data.0.txt',\n",
    "                    'run 1',\n",
    "                    'unfix print',\n",
    "                    '# ---------- Apply relative displacement ----------',\n",
    "                    'displace_atoms g2 move 0.0 %lf 0.0' % displacement,\n",
    "                    '# ---------- Minimize faulted crystal (causes interface relaxation) ----------',\n",
    "                    'minimize 0.0 1.0e-12 10000 100000',\n",
    "                    '# ---------- Write thermodynamic information to file ----------',\n",
    "                    'fix print all print 1 \"${nAtoms} ${PE} ${LX} ${LY} ${LZ} ${PXX} ${PYY} ${PZZ} ${PYZ} ${PXZ} ${PXY}\" file data.1.txt',\n",
    "                    'run 1',\n",
    "                    'unfix print'])"
   ]
  },
  {
   "cell_type": "markdown",
   "metadata": {},
   "source": [
    "- - -\n",
    "## Write MEAM Parameters\n",
    "\n",
    "To make this notebook self-contained, we have embedded the following interatomic potential from the [NIST Interatomic Potential Repository](http://www.ctcms.nist.gov/potentials/):\n",
    "\n",
    "### Aluminum, Silicon, Magnesium, Copper, and Iron (Al, Si, Mg, Cu, and Fe) Alloys\n",
    "\n",
    "*B. Jelinek, S. Groh, M. Horstemeyer, J. Houze, S.G. Kim, G.J. Wagner, A. Moitra, and M.I. Baskes, \"Modified embedded atom method potential for Al, Si, Mg, Cu, and Fe alloys,\" Phys. Rev. B 85, 245102 (2012).*\n",
    "\n",
    "**Notes:** This file was provided by Bohumir Jelinek (Mississippi State University) and posted on 3 July 2012. He noted, \"This is a MEAM potential for Al, Si, Mg, Cu, Fe alloys. It works with LAMMPS, version 19 Jul 2011 or later, when compiled with MEAM support.\"\n",
    "\n",
    "**Notice:** Users should consider all available potentials and select one which is appropriate for their use case. Use of this potential within this demonstration should not be construed as an endorsement or a recommendation.  "
   ]
  },
  {
   "cell_type": "code",
   "execution_count": null,
   "metadata": {},
   "outputs": [],
   "source": [
    "f = open('Jelinek_2012_meamf', 'w')\n",
    "f.write(\"\"\"# MEAM Al, Si, Mg, Cu, Fe alloy potential, Phys. Rev. B 85, 245102 (2012)\n",
    "# http://dx.doi.org/10.1103/PhysRevB.85.245102\n",
    "# to be used with \"meam.alsimgcufe\" file providing combinational parameters\n",
    "#  elt        lat     z       ielement     atwt\n",
    "#  alpha      b0      b1      b2           b3    alat    esub    asub\n",
    "#  t0         t1              t2           t3            rozero  ibar\n",
    "\n",
    "'AlS'        'fcc'   12.     13           26.9815\n",
    "4.64        2.04    3.00    6.0          1.50  4.05    3.353    1.07\n",
    "1.0         +4.50           -2.30        8.01          1.0    -5\n",
    "'SiS'        'dia'   4.      14           28.086\n",
    "4.87        4.4     5.5     5.5          5.5   5.431   4.63    1.\n",
    "1.0         2.05            4.47         -1.80         2.2    -5\n",
    "'MgS'       'hcp'   12.      12           24.305\n",
    "5.52        4.0    3.0     0.2          1.2  3.194 1.51     0.80\n",
    "1.0         10.04           9.49         -4.3          0.63   -5\n",
    "'CuS'        'fcc'   12.     29           63.54\n",
    "5.11        3.634   2.20    6            2.20  3.62    3.54    1.07\n",
    "1.0         4.91            2.49         2.95          1.10   -5\n",
    "'FeS'        'bcc'   8       26           55.847\n",
    "5.0270      3.500   2       1.00         1     2.851   4.28    0.5550\n",
    "1          -1.6             12.5          -1.40        1.0    -5\"\"\")\n",
    "f.close()"
   ]
  },
  {
   "cell_type": "code",
   "execution_count": null,
   "metadata": {},
   "outputs": [],
   "source": [
    "f = open('Jelinek_2012_meam.alsimgcufe', 'w')\n",
    "f.write(\"\"\"# MEAM Al, Si, Mg, Cu, Fe alloy potential, Phys. Rev. B 85, 245102 (2012)\n",
    "# http://dx.doi.org/10.1103/PhysRevB.85.245102\n",
    "# to be used with \"meamf\" file providing single element parameters\n",
    "\n",
    "  Cmin(1,1,1) = 0.8\n",
    "  repuls(1,1) = 0.1\n",
    "  Cmin(3,3,3) = 0.8\n",
    "  Cmin(4,4,4) = 0.8\n",
    "  Cmin(5,5,5) = 0.68\n",
    "  repuls(5,5) = 0.3\n",
    "  Cmax(5,5,5) = 1.9\n",
    "\n",
    "  nn2(1,1)=1\n",
    "  nn2(1,2)=1\n",
    "  nn2(1,3)=1\n",
    "  nn2(1,4)=1\n",
    "  nn2(1,5)=1\n",
    "  nn2(2,2)=1\n",
    "  nn2(2,3)=1\n",
    "  nn2(2,4)=1\n",
    "  nn2(2,5)=1\n",
    "  nn2(3,3)=1\n",
    "  nn2(3,4)=1\n",
    "  nn2(3,5)=1\n",
    "  nn2(4,4)=1\n",
    "  nn2(4,5)=1\n",
    "  nn2(5,5)=1\n",
    "\n",
    "  lattce(1,2)='b1'\n",
    "  delta(1,2)=+0.28\n",
    "  alpha(1,2)=4.56\n",
    "  re(1,2)=2.62\n",
    "  Cmin(1,1,2) = 0.50\n",
    "  Cmin(2,2,1) = 2.00\n",
    "  Cmin(1,2,1) = 2.00\n",
    "  Cmin(1,2,2) = 2.00\n",
    "\n",
    "  lattce(1,3)='b1'\n",
    "  delta(1,3)=+0.23\n",
    "  alpha(1,3)=4.52\n",
    "  re(1,3)=2.87\n",
    "  Cmin(1,1,3) = 2.00\n",
    "  Cmin(3,3,1) = 0.00\n",
    "  Cmin(1,3,1) = 2.00\n",
    "  Cmin(1,3,3) = 0.00\n",
    "\n",
    "  lattce(1,4)='b1'\n",
    "  delta(1,4)=+0.19\n",
    "  alpha(1,4)=4.65\n",
    "  re(1,4)=2.53\n",
    "  Cmin(1,1,4) = 0.00\n",
    "  Cmin(4,4,1) = 2.00\n",
    "  Cmin(1,4,1) = 2.00\n",
    "  Cmin(1,4,4) = 2.00\n",
    "\n",
    "  lattce(1,5)='b1'\n",
    "  delta(1,5)=+0.26\n",
    "  alpha(1,5)=4.64\n",
    "  re(1,5)=2.45\n",
    "  Cmin(1,1,5) = 0.90\n",
    "  Cmin(5,5,1) = 0.10\n",
    "  Cmin(1,5,1) = 2.00\n",
    "  Cmin(1,5,5) = 2.00\n",
    "\n",
    "  lattce(2,3)='b1'\n",
    "  delta(2,3)=+0.2\n",
    "  alpha(2,3)=4.73\n",
    "  re(2,3)=2.75\n",
    "  Cmin(2,2,3) = 1.00\n",
    "  Cmin(3,3,2) = 1.00\n",
    "  Cmin(2,3,2) = 2.00\n",
    "  Cmin(2,3,3) = 2.00\n",
    "\n",
    "  lattce(2,4)='b1'\n",
    "  delta(2,4)=+0.14\n",
    "  alpha(2,4)=4.74\n",
    "  re(2,4)=2.46\n",
    "  Cmin(2,2,4) = 0.00\n",
    "  Cmin(4,4,2) = 0.00\n",
    "  Cmin(2,4,2) = 2.00\n",
    "  Cmin(2,4,4) = 2.00\n",
    "\n",
    "  lattce(2,5)='b1'\n",
    "  delta(2,5)=-0.07\n",
    "  alpha(2,5)=5.17\n",
    "  re(2,5)=2.39\n",
    "  Cmin(2,2,5) = 1.00\n",
    "  Cmin(5,5,2) = 1.00\n",
    "  Cmin(2,5,2) = 2.00\n",
    "  Cmin(2,5,5) = 0.00\n",
    "  attrac(2,5) = 0.1\n",
    "  repuls(2,5) = 0.1\n",
    "\n",
    "  lattce(3,4)='b1'\n",
    "  delta(3,4)=+0.23\n",
    "  alpha(3,4)=4.70\n",
    "  re(3,4)=2.63\n",
    "  Cmin(3,3,4) = 2.00\n",
    "  Cmin(4,4,3) = 0.00\n",
    "  Cmin(3,4,3) = 2.00\n",
    "  Cmin(3,4,4) = 2.00\n",
    "\n",
    "  lattce(3,5)='b1'\n",
    "  delta(3,5)=+0.6\n",
    "  alpha(3,5)=4.96\n",
    "  re(3,5)=2.61\n",
    "  Cmin(3,3,5) = 0.65\n",
    "  Cmin(5,5,3) = 0.00\n",
    "  Cmin(3,5,3) = 2.00\n",
    "  Cmin(3,5,5) = 2.00\n",
    "\n",
    "  lattce(4,5)='b1'\n",
    "  delta(4,5)=+0.63\n",
    "  alpha(4,5)=5.21\n",
    "  re(4,5)=2.42\n",
    "  Cmin(5,5,4)=0.00\n",
    "\n",
    "  attrac(5,2) = 0.1\n",
    "  repuls(5,2) = 0.1\n",
    "\n",
    "  rc = 5.0\n",
    "  ialloy=1\n",
    "  augt1=0\n",
    "  delr=0.25658351\n",
    "  emb_lin_neg=1\n",
    "  bkgd_dyn=1\"\"\")\n",
    "f.close()"
   ]
  },
  {
   "cell_type": "markdown",
   "metadata": {},
   "source": [
    "- - -\n",
    "## Determine Notebook Path\n",
    "\n",
    "This path is used in subsequent sections."
   ]
  },
  {
   "cell_type": "code",
   "execution_count": null,
   "metadata": {},
   "outputs": [],
   "source": [
    "import os\n",
    "notebook_directory=os.getcwd()\n",
    "notebook_directory"
   ]
  },
  {
   "cell_type": "markdown",
   "metadata": {},
   "source": [
    "- - -\n",
    "## Calculate Fault Energy\n",
    "\n",
    "Below, we define a function that:\n",
    "\n",
    "1. Creates a unique simulation directory\n",
    "1. Writes a unique LAMMPS input script\n",
    "1. Runs LAMMPS as a subprocess\n",
    "1. Reads output files\n",
    "1. Computes the fault energy in mJ/m^2\n",
    "1. Returns the displacement and fault energy"
   ]
  },
  {
   "cell_type": "code",
   "execution_count": null,
   "metadata": {},
   "outputs": [],
   "source": [
    "import os\n",
    "import uuid\n",
    "import subprocess\n",
    "import numpy\n",
    "\n",
    "def simulate_fault_energy(displacement):\n",
    "    \n",
    "    # Make a random simulation directory\n",
    "    simulation_directory=os.path.join(notebook_directory,'simulations',str(uuid.uuid4()))\n",
    "    os.makedirs(simulation_directory)\n",
    "    os.chdir(simulation_directory)\n",
    "    \n",
    "    # Write a LAMMPS script\n",
    "    f = open('in.gpfe', 'w')\n",
    "    f.write(lammps_script(displacement))\n",
    "    f.close()\n",
    "    \n",
    "    # Run LAMMPS\n",
    "    subprocess.call(['lmp_serial < in.gpfe'], shell=True)\n",
    "    # subprocess.call(['lmp_ubuntu < in.gpfe'], shell=True)\n",
    "    # Read results\n",
    "    data0 = numpy.loadtxt('data.0.txt') # After surface relaxation\n",
    "    data1 = numpy.loadtxt('data.1.txt') # After surface relaxation and fault\n",
    "    simBoxSize=[data0[2],data0[3],data0[4]]\n",
    "    e0=data0[1]\n",
    "    e1=data1[1]\n",
    "    \n",
    "    # Compute fault energy in mJ/m^2\n",
    "    fault_energy=(e1-e0)/(simBoxSize[0]*simBoxSize[1])*16021.7657\n",
    "    \n",
    "    # Return to Notebook directory\n",
    "    os.chdir(notebook_directory)\n",
    "    \n",
    "    # Return displacement and fault energy\n",
    "    return displacement,fault_energy"
   ]
  },
  {
   "cell_type": "markdown",
   "metadata": {},
   "source": [
    "Execute fault energy function within a numpy array for a set of 21 equally-spaced displacements between 0.0 and 0.5 (inclusive):"
   ]
  },
  {
   "cell_type": "code",
   "execution_count": null,
   "metadata": {},
   "outputs": [],
   "source": [
    "fault_energy_results=numpy.array([simulate_fault_energy(d) for d in numpy.linspace(0,0.5,10)])"
   ]
  },
  {
   "cell_type": "markdown",
   "metadata": {},
   "source": [
    "- - -\n",
    "## Plot Results\n",
    "\n",
    "Plot the fault energy simulation results using matplotlib:"
   ]
  },
  {
   "cell_type": "code",
   "execution_count": null,
   "metadata": {},
   "outputs": [],
   "source": [
    "%matplotlib inline\n",
    "import matplotlib\n",
    "import matplotlib.pyplot as plt\n",
    "\n",
    "matplotlib.rcParams.update({'font.family' : 'serif','font.size': 22})\n",
    "\n",
    "#fig = plt.figure(figsize(12,8))\n",
    "fig = plt.figure()\n",
    "ax = fig.add_subplot(111)\n",
    "ax.set_xlabel('$[2\\,\\overline{1}\\,\\overline{1}]$ shift $\\Delta$ (fraction)')\n",
    "ax.set_ylabel('\\nFault energy ($mJ/m^2$)')\n",
    "ax.plot(fault_energy_results[:,0],fault_energy_results[:,1],'o-')\n",
    "plt.show()"
   ]
  },
  {
   "cell_type": "markdown",
   "metadata": {},
   "source": [
    "**Figure 2**: Fault energy vs fractional displacement in the [2 -1 -1] direction."
   ]
  },
  {
   "cell_type": "markdown",
   "metadata": {},
   "source": [
    "- - -\n",
    "## Discussion\n",
    "\n",
    "Figure 2 shows a fault energy path starting and ending at shift fractions corresponding to perfect crystal. A local minimum is observed at 0.325 and a local maximum is observed at 0.40, which are known as the stable and unstable stacking fault energy respectively. "
   ]
  },
  {
   "cell_type": "markdown",
   "metadata": {},
   "source": [
    "- - -\n",
    "## References\n",
    "\n",
    "\\[1\\] C.A. Becker, F. Tavazza and L.E. Levine, Implications of the choice of interatomic potential on calculated planar faults and surface properties in nickel, Phil. Mag. 91, 3578-3597 (2011).\n",
    "\n",
    "\\[2\\] \\(a\\) http://lammps.sandia.gov/index.html. \\(b\\) S. Plimpton, Fast Parallel Algorithms for Short-Range Molecular Dynamics, J. Comp. Phys. 117, 1-19 (1995)"
   ]
  },
  {
   "cell_type": "markdown",
   "metadata": {},
   "source": [
    "- - -\n",
    "## Software Disclaimer\n",
    "\n",
    "NIST-developed software is provided by NIST as a public service. You may use, copy and distribute copies of the software in any medium, provided that you keep intact this entire notice. You may improve, modify and create derivative works of the software or any portion of the software, and you may copy and distribute such modifications or works. Modified works should carry a notice stating that you changed the software and should note the date and nature of any such change. Please explicitly acknowledge the National Institute of Standards and Technology as the source of the software.\n",
    "\n",
    "NIST-developed software is expressly provided \"AS IS.\" NIST MAKES NO WARRANTY OF ANY KIND, EXPRESS, IMPLIED, IN FACT OR ARISING BY OPERATION OF LAW, INCLUDING, WITHOUT LIMITATION, THE IMPLIED WARRANTY OF MERCHANTABILITY, FITNESS FOR A PARTICULAR PURPOSE, NON-INFRINGEMENT AND DATA ACCURACY. NIST NEITHER REPRESENTS NOR WARRANTS THAT THE OPERATION OF THE SOFTWARE WILL BE UNINTERRUPTED OR ERROR-FREE, OR THAT ANY DEFECTS WILL BE CORRECTED. NIST DOES NOT WARRANT OR MAKE ANY REPRESENTATIONS REGARDING THE USE OF THE SOFTWARE OR THE RESULTS THEREOF, INCLUDING BUT NOT LIMITED TO THE CORRECTNESS, ACCURACY, RELIABILITY, OR USEFULNESS OF THE SOFTWARE.\n",
    "\n",
    "You are solely responsible for determining the appropriateness of using and distributing the software and you assume all risks associated with its use, including but not limited to the risks and costs of program errors, compliance with applicable laws, damage to or loss of data, programs or equipment, and the unavailability or interruption of operation. This software is not intended to be used in any situation where a failure could cause risk of injury or damage to property. The software developed by NIST employees is not subject to copyright protection within the United States."
   ]
  }
 ],
 "metadata": {
  "description": "Stacking Fault Energy Calculation from the Materials Measurement Science Division, NIST.",
  "kernelspec": {
   "display_name": "Python2",
   "language": "python",
   "name": "python2"
  },
  "language_info": {
   "codemirror_mode": {
    "name": "ipython",
    "version": 2
   },
   "file_extension": ".py",
   "mimetype": "text/x-python",
   "name": "python",
   "nbconvert_exporter": "python",
   "pygments_lexer": "ipython2",
   "version": "2.7.15"
  },
  "widgets": {
   "application/vnd.jupyter.widget-state+json": {
    "state": {},
    "version_major": 2,
    "version_minor": 0
   }
  }
 },
 "nbformat": 4,
 "nbformat_minor": 1
}
