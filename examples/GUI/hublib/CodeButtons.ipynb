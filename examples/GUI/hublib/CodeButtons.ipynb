{
 "cells": [
  {
   "cell_type": "markdown",
   "metadata": {},
   "source": [
    "# Code buttons\n",
    "This notebook demonstrates the use of the Hublib code buttons."
   ]
  },
  {
   "cell_type": "code",
   "execution_count": 37,
   "metadata": {},
   "outputs": [],
   "source": [
    "from hublib.ui import HideCodeButton, RunAllButton"
   ]
  },
  {
   "cell_type": "markdown",
   "metadata": {},
   "source": [
    "# RunAllButton\n",
    "\n",
    "Click it to run all the code in this notebook."
   ]
  },
  {
   "cell_type": "code",
   "execution_count": 38,
   "metadata": {
    "scrolled": true
   },
   "outputs": [
    {
     "data": {
      "application/vnd.jupyter.widget-view+json": {
       "model_id": "19dffc75ed754c28912ce139110d4727",
       "version_major": 2,
       "version_minor": 0
      },
      "text/plain": [
       "Button(description='Run All Cells', style=ButtonStyle())"
      ]
     },
     "metadata": {},
     "output_type": "display_data"
    }
   ],
   "source": [
    "RunAllButton()"
   ]
  },
  {
   "cell_type": "code",
   "execution_count": 39,
   "metadata": {},
   "outputs": [
    {
     "data": {
      "application/vnd.jupyter.widget-view+json": {
       "model_id": "38233f99c2e14dd0ab16898f123e25d3",
       "version_major": 2,
       "version_minor": 0
      },
      "text/plain": [
       "Button(button_style='danger', description='Run Cells', icon='play-circle-o', style=ButtonStyle(), tooltip='Run…"
      ]
     },
     "metadata": {},
     "output_type": "display_data"
    }
   ],
   "source": [
    "RunAllButton(label=\"Run Cells\", icon='fa-play-circle-o', style='danger', tooltip='Run All Cells', hide=True)"
   ]
  },
  {
   "cell_type": "markdown",
   "metadata": {},
   "source": [
    "# HideCodeButton\n",
    "\n",
    "Toggles the visibility of the code cells."
   ]
  },
  {
   "cell_type": "code",
   "execution_count": 40,
   "metadata": {},
   "outputs": [
    {
     "data": {
      "application/vnd.jupyter.widget-view+json": {
       "model_id": "3ea417e6197e40acabdcd8a99f758ccc",
       "version_major": 2,
       "version_minor": 0
      },
      "text/plain": [
       "Button(description='Hide Code Cells', style=ButtonStyle())"
      ]
     },
     "metadata": {},
     "output_type": "display_data"
    },
    {
     "data": {
      "application/javascript": [
       "$('div.input').hide()"
      ],
      "text/plain": [
       "<IPython.core.display.Javascript object>"
      ]
     },
     "metadata": {},
     "output_type": "display_data"
    },
    {
     "data": {
      "application/javascript": [
       "$('div.input').show()"
      ],
      "text/plain": [
       "<IPython.core.display.Javascript object>"
      ]
     },
     "metadata": {},
     "output_type": "display_data"
    },
    {
     "data": {
      "application/javascript": [
       "$('div.input').hide()"
      ],
      "text/plain": [
       "<IPython.core.display.Javascript object>"
      ]
     },
     "metadata": {},
     "output_type": "display_data"
    }
   ],
   "source": [
    "HideCodeButton()"
   ]
  },
  {
   "cell_type": "code",
   "execution_count": 41,
   "metadata": {},
   "outputs": [
    {
     "data": {
      "application/vnd.jupyter.widget-view+json": {
       "model_id": "92c0467e69c34abfa42d64e981da398b",
       "version_major": 2,
       "version_minor": 0
      },
      "text/plain": [
       "Button(button_style='warning', description='Hide Code Cells', style=ButtonStyle())"
      ]
     },
     "metadata": {},
     "output_type": "display_data"
    }
   ],
   "source": [
    "def mycb():\n",
    "    print(\"My Callback function was called.\")\n",
    "\n",
    "hb = HideCodeButton(style='warning', cb=mycb)\n",
    "hb"
   ]
  },
  {
   "cell_type": "markdown",
   "metadata": {},
   "source": [
    "## ipywidget compatibility"
   ]
  },
  {
   "cell_type": "code",
   "execution_count": 42,
   "metadata": {},
   "outputs": [
    {
     "data": {
      "application/vnd.jupyter.widget-view+json": {
       "model_id": "5564c20c9c6c4665a59ec83379fffb99",
       "version_major": 2,
       "version_minor": 0
      },
      "text/plain": [
       "HBox(children=(Button(description='Foo', style=ButtonStyle()), Button(button_style='warning', description='Hid…"
      ]
     },
     "metadata": {},
     "output_type": "display_data"
    }
   ],
   "source": [
    "from ipywidgets import HBox, Button\n",
    "\n",
    "HBox([Button(description='Foo'), hb.w])"
   ]
  },
  {
   "cell_type": "code",
   "execution_count": null,
   "metadata": {},
   "outputs": [],
   "source": []
  }
 ],
 "metadata": {
  "kernelspec": {
   "display_name": "Python 3",
   "language": "python",
   "name": "python3"
  },
  "language_info": {
   "codemirror_mode": {
    "name": "ipython",
    "version": 3
   },
   "file_extension": ".py",
   "mimetype": "text/x-python",
   "name": "python",
   "nbconvert_exporter": "python",
   "pygments_lexer": "ipython3",
   "version": "3.7.7"
  },
  "widgets": {
   "application/vnd.jupyter.widget-state+json": {
    "state": {
     "0950cd771478443a97863b612b9d5039": {
      "model_module": "@jupyter-widgets/controls",
      "model_module_version": "1.0.0",
      "model_name": "ButtonModel",
      "state": {
       "description": "Hide Code Cells",
       "layout": "IPY_MODEL_4a06958884994768861d797259e7c36a",
       "style": "IPY_MODEL_f2c103de871d4b76a77898209af7adce"
      }
     },
     "1f0ed446343e4bc5a4fd7a11dd191a05": {
      "model_module": "@jupyter-widgets/controls",
      "model_module_version": "1.0.0",
      "model_name": "HBoxModel",
      "state": {
       "children": [
        "IPY_MODEL_853eabb2ddb14d919c46eabaa7052ee2",
        "IPY_MODEL_379e50a832614ade9c21f0f7c96db0c5"
       ],
       "layout": "IPY_MODEL_afdf5e6cb8eb4166a7111061c0a3def5"
      }
     },
     "379e50a832614ade9c21f0f7c96db0c5": {
      "model_module": "@jupyter-widgets/controls",
      "model_module_version": "1.0.0",
      "model_name": "ButtonModel",
      "state": {
       "button_style": "warning",
       "description": "Hide Code Cells",
       "layout": "IPY_MODEL_a1d638ee91974ea49441830b2c64d67b",
       "style": "IPY_MODEL_89015aab5fac40f786731fbfba047cf6"
      }
     },
     "4a06958884994768861d797259e7c36a": {
      "model_module": "@jupyter-widgets/base",
      "model_module_version": "1.0.0",
      "model_name": "LayoutModel",
      "state": {}
     },
     "643948b7abd649ab9c35b908827cdad5": {
      "model_module": "@jupyter-widgets/controls",
      "model_module_version": "1.0.0",
      "model_name": "ButtonStyleModel",
      "state": {}
     },
     "68b999e885a2415bae2ec0d36f17550a": {
      "model_module": "@jupyter-widgets/controls",
      "model_module_version": "1.0.0",
      "model_name": "ButtonModel",
      "state": {
       "description": "Run All Cells",
       "layout": "IPY_MODEL_d0be0f5a40ec45c787e5b375047106ac",
       "style": "IPY_MODEL_cb37b7efd58a49b2afe296e00ea31f5a"
      }
     },
     "7269a8c8010b45f789413a996d29c536": {
      "model_module": "@jupyter-widgets/controls",
      "model_module_version": "1.0.0",
      "model_name": "ButtonStyleModel",
      "state": {}
     },
     "853eabb2ddb14d919c46eabaa7052ee2": {
      "model_module": "@jupyter-widgets/controls",
      "model_module_version": "1.0.0",
      "model_name": "ButtonModel",
      "state": {
       "description": "Foo",
       "layout": "IPY_MODEL_b0aabc01b49e46d4a1cf11b0d4b4b343",
       "style": "IPY_MODEL_7269a8c8010b45f789413a996d29c536"
      }
     },
     "89015aab5fac40f786731fbfba047cf6": {
      "model_module": "@jupyter-widgets/controls",
      "model_module_version": "1.0.0",
      "model_name": "ButtonStyleModel",
      "state": {}
     },
     "a1d638ee91974ea49441830b2c64d67b": {
      "model_module": "@jupyter-widgets/base",
      "model_module_version": "1.0.0",
      "model_name": "LayoutModel",
      "state": {}
     },
     "afdf5e6cb8eb4166a7111061c0a3def5": {
      "model_module": "@jupyter-widgets/base",
      "model_module_version": "1.0.0",
      "model_name": "LayoutModel",
      "state": {}
     },
     "b078997932cf4df590283ddf7d2ce1c1": {
      "model_module": "@jupyter-widgets/base",
      "model_module_version": "1.0.0",
      "model_name": "LayoutModel",
      "state": {}
     },
     "b0aabc01b49e46d4a1cf11b0d4b4b343": {
      "model_module": "@jupyter-widgets/base",
      "model_module_version": "1.0.0",
      "model_name": "LayoutModel",
      "state": {}
     },
     "cb37b7efd58a49b2afe296e00ea31f5a": {
      "model_module": "@jupyter-widgets/controls",
      "model_module_version": "1.0.0",
      "model_name": "ButtonStyleModel",
      "state": {}
     },
     "cd515ce5bda649ac9864a1fa8cc0d082": {
      "model_module": "@jupyter-widgets/controls",
      "model_module_version": "1.0.0",
      "model_name": "ButtonModel",
      "state": {
       "button_style": "danger",
       "description": "Run Cells",
       "icon": "play-circle-o",
       "layout": "IPY_MODEL_b078997932cf4df590283ddf7d2ce1c1",
       "style": "IPY_MODEL_643948b7abd649ab9c35b908827cdad5",
       "tooltip": "Run All Cells"
      }
     },
     "d0be0f5a40ec45c787e5b375047106ac": {
      "model_module": "@jupyter-widgets/base",
      "model_module_version": "1.0.0",
      "model_name": "LayoutModel",
      "state": {}
     },
     "f2c103de871d4b76a77898209af7adce": {
      "model_module": "@jupyter-widgets/controls",
      "model_module_version": "1.0.0",
      "model_name": "ButtonStyleModel",
      "state": {}
     }
    },
    "version_major": 2,
    "version_minor": 0
   }
  }
 },
 "nbformat": 4,
 "nbformat_minor": 2
}
