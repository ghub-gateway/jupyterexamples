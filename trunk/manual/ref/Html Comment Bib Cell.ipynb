{
 "cells": [
  {
   "cell_type": "code",
   "execution_count": null,
   "metadata": {
    "collapsed": false
   },
   "outputs": [],
   "source": []
  },
  {
   "cell_type": "code",
   "execution_count": null,
   "metadata": {
    "collapsed": false
   },
   "outputs": [],
   "source": []
  },
  {
   "cell_type": "code",
   "execution_count": null,
   "metadata": {
    "collapsed": false
   },
   "outputs": [],
   "source": []
  },
  {
   "cell_type": "code",
   "execution_count": null,
   "metadata": {
    "collapsed": false
   },
   "outputs": [],
   "source": []
  },
  {
   "cell_type": "code",
   "execution_count": null,
   "metadata": {
    "collapsed": false
   },
   "outputs": [],
   "source": []
  },
  {
   "cell_type": "code",
   "execution_count": null,
   "metadata": {
    "collapsed": false,
    "format": "tab"
   },
   "outputs": [],
   "source": [
    "<!--bibtex\n",
    "\n",
    "@techreport{ipre:572,\n",
    "     title = {Assessing the Impact of using Robots in Education, or: How we learned to Stop Worrying and Love the Chaos},\n",
    "     author = {Blank, D. and Kumar, D.},\n",
    "     journal = {Educational Robotics and Beyond: Design and Evaluation},\n",
    "     pages = {3--7},\n",
    "     year = {2010},\n",
    "     month = {3},\n",
    "     publisher = {AAAI Press},\n",
    "     series = {AAAI Spring Symposium Series},\n",
    "     url = {http://www.cs.cmu.edu/~AAAI10-ETPL/},\n",
    "     ipre-article-id = {572}\n",
    "}\n",
    "-->"
   ]
  },
  {
   "cell_type": "code",
   "execution_count": null,
   "metadata": {
    "collapsed": false
   },
   "outputs": [],
   "source": []
  }
 ],
 "metadata": {
  "celltoolbar": "Raw Cell Format",
  "kernelspec": {
   "display_name": "Python2",
   "language": "python",
   "name": "python2"
  },
  "language_info": {
   "codemirror_mode": {
    "name": "ipython",
    "version": 2
   },
   "file_extension": ".py",
   "mimetype": "text/x-python",
   "name": "python",
   "nbconvert_exporter": "python",
   "pygments_lexer": "ipython2",
   "version": "2.7.12"
  }
 },
 "nbformat": 4,
 "nbformat_minor": 0
}
