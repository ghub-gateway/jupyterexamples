{
 "cells": [
  {
   "cell_type": "markdown",
   "metadata": {},
   "source": [
    "# Rappture Integration\n",
    "\n",
    "\n",
    "Rappture tools work by reading an xml file ('tool.xml') and displaying a GUI based on its contents.  The GUI sets values in the xml file, then runs the simulation or tool.  The simulation gets its input values from the xml file.  It adds its outputs to a copy of that xml file, resulting in an xml file containing all the input and outputs of the run.\n",
    "\n",
    "We can use the hublib.rappture library to read those xml files, run tools, and visualize outputs.  There is also the beginning of support for displaying GUIs in the notebook. \n",
    "\n",
    "This is a work-in-progress.  New features will be added in the future.  Docs are located at http://hublib.readthedocs.io/en/latest/\n",
    "\n",
    "Demos:\n",
    "* [s4sim](s4sim.ipynb)  Running the s4sim Rappture tool which uses the \"S4: Stanford Stratified Structure Solver\"\n",
    "* [cntbands](cntbands.ipynb) Example of Reading a Rappture Run XML File\n",
    "* [fermi](fermi.ipynb) Run the app-fermi example from the Rappture examples.\n",
    "* [complam](CompositeLaminate.ipynb) Example running the complam tool many times and plotting the results.\n",
    "* [histogram](histogram.ipynb) A notebook displaying Rappture histograms.\n",
    "* [qdot](qdot.ipynb)\n",
    "* [rtdnegf](rtdnegf.ipynb)"
   ]
  }
 ],
 "metadata": {
  "kernelspec": {
   "display_name": "Python2",
   "language": "python",
   "name": "python2"
  },
  "language_info": {
   "codemirror_mode": {
    "name": "ipython",
    "version": 2
   },
   "file_extension": ".py",
   "mimetype": "text/x-python",
   "name": "python",
   "nbconvert_exporter": "python",
   "pygments_lexer": "ipython2",
   "version": "2.7.13"
  }
 },
 "nbformat": 4,
 "nbformat_minor": 1
}
