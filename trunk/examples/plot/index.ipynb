{
 "cells": [
  {
   "cell_type": "markdown",
   "metadata": {},
   "source": [
    "# Plotting\n",
    "\n",
    "There are numerous plotting libraries for Python.  Some are very specialized.  \n",
    "\n",
    "In general, matplotlib and seaborn produce the best static plots. Bokeh and plotly are best for interactive 2D use. Plotly and K3D make the best 3D interactive plots. We will introduce some of them here, starting with the most common.\n",
    "\n",
    "## Matplotlib\n",
    "\n",
    "This is the original Python plotting package.  It has a complex object-oriented interface and one that is similar to Matlab's.  There are two different backends for Jupyter; one that writes a static plot to the output cell, and one that is dynamic and resizable.\n",
    "\n",
    "[Matplotlib Gallery](https://matplotlib.org/2.0.2/gallery.html)\n",
    "\n",
    "[Matplotlib Inline (Static) Examples](matplotlib_inline.ipynb)\n",
    "\n",
    "[Matplotlib Notebook (Dynamic) Examples](matplotlib_notebook.ipynb) -- note that this notebook needs to be updated and cannot presently be run."
   ]
  },
  {
   "cell_type": "markdown",
   "metadata": {},
   "source": [
    "## Seaborn\n",
    "\n",
    "Seaborn is a library built on top of matplotlib.  It has excellent statistical plots. \n",
    "\n",
    "https://seaborn.pydata.org/examples/index.html\n"
   ]
  },
  {
   "cell_type": "markdown",
   "metadata": {
    "collapsed": true
   },
   "source": [
    "##  Bokeh\n",
    "\n",
    "Bokeh is a Python interactive visualization library that targets modern web browsers for presentation. Its goal is to provide elegant, concise construction of novel graphics in the style of D3.js, and to extend this capability with high-performance interactivity over very large or streaming datasets. Bokeh can help anyone who would like to quickly and easily create interactive plots, dashboards, and data applications.\n",
    "\n",
    "http://bokeh.pydata.org/en/latest/docs/gallery.html#gallery\n",
    "\n",
    "[Local Examples](Bokeh.ipynb)"
   ]
  },
  {
   "cell_type": "markdown",
   "metadata": {},
   "source": [
    "# bqplot\n",
    "\n",
    "bqplot is a Grammar of Graphics based interactive plotting framework for the Jupyter notebook. It does not seem as powerful or as commonly used as other frameworks, but some exisiting applications require it.\n",
    "\n",
    "https://github.com/bloomberg/bqplot"
   ]
  },
  {
   "cell_type": "markdown",
   "metadata": {
    "collapsed": true
   },
   "source": [
    "# Plotly\n",
    "\n",
    "Plotly is a commercial plotting framework that is also open-source.  You can sign up for an account to access additional features.\n",
    "It has Python, R, and Matlab APIs.\n",
    "\n",
    "https://plot.ly/python/\n",
    "\n",
    " \n",
    "[Local Examples](plotly.ipynb)"
   ]
  },
  {
   "cell_type": "markdown",
   "metadata": {},
   "source": [
    "## K3D\n",
    "\n",
    "https://github.com/K3D-tools/K3D-jupyter\n",
    "\n",
    "<div class=\"alert alert-info\">\n",
    "Please note that K3D package is not presently installed. \n",
    "</div>\n",
    "\n",
    "[Local Examples](K3D)"
   ]
  },
  {
   "cell_type": "code",
   "execution_count": null,
   "metadata": {},
   "outputs": [],
   "source": []
  }
 ],
 "metadata": {
  "kernelspec": {
   "display_name": "Python 3",
   "language": "python",
   "name": "python3"
  },
  "language_info": {
   "codemirror_mode": {
    "name": "ipython",
    "version": 3
   },
   "file_extension": ".py",
   "mimetype": "text/x-python",
   "name": "python",
   "nbconvert_exporter": "python",
   "pygments_lexer": "ipython3",
   "version": "3.7.7"
  },
  "widgets": {
   "state": {
    "953768be876540c78d6c1907337bd2e2": {
     "views": [
      {
       "cell_index": 17
      }
     ]
    }
   },
   "version": "1.2.0"
  }
 },
 "nbformat": 4,
 "nbformat_minor": 1
}
