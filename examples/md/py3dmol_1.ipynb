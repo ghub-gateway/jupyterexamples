{
 "cells": [
  {
   "cell_type": "markdown",
   "metadata": {},
   "source": [
    "py3Dmol\n",
    "=======\n",
    "\n",
    "A simple [IPython/Jupyter](http://jupyter.org/) widget to\n",
    "embed an interactive [3Dmol.js](http://3dmol.csb.pitt.edu) viewer in a notebook.\n",
    "\n",
    "The widget is completely static, which means the viewer doesn't need a running\n",
    "IPython kernel to be useful and web pages and presentations generated from\n",
    "the notebook will work as expected.  However, this also means there is only\n",
    "one-way communication between the notebook and the viewer.\n",
    "\n",
    "API\n",
    "---\n",
    "\n",
    "The returned view object has the exact same API as [3Dmol.GLViewer](http://3dmol.csb.pitt.edu/doc/$3Dmol.GLViewer.html)\n",
    "with the exception that functions return None.\n",
    "\n"
   ]
  },
  {
   "cell_type": "code",
   "execution_count": 1,
   "metadata": {},
   "outputs": [],
   "source": [
    "import py3Dmol"
   ]
  },
  {
   "cell_type": "code",
   "execution_count": 2,
   "metadata": {
    "scrolled": false
   },
   "outputs": [
    {
     "data": {
      "application/3dmoljs_load.v0": "<div id=\"3dmolviewer_1552781351998373\"  style=\"position: relative; width: 640px; height: 480px\">\n        <p id=\"3dmolwarning_1552781351998373\" style=\"background-color:#ffcccc;color:black\">You appear to be running in JupyterLab (or JavaScript failed to load for some other reason).  You need to install the 3dmol extension: <br>\n        <tt>jupyter labextension install jupyterlab_3dmol</tt></p>\n        </div>\n<script>\n\nvar loadScriptAsync = function(uri){\n  return new Promise((resolve, reject) => {\n    var tag = document.createElement('script');\n    tag.src = uri;\n    tag.async = true;\n    tag.onload = () => {\n      resolve();\n    };\n  var firstScriptTag = document.getElementsByTagName('script')[0];\n  firstScriptTag.parentNode.insertBefore(tag, firstScriptTag);\n});\n};\n\nif(typeof $3Dmolpromise === 'undefined') {\n$3Dmolpromise = null;\n  $3Dmolpromise = loadScriptAsync('https://3dmol.csb.pitt.edu/build/3Dmol.js');\n}\n\nvar viewer_1552781351998373 = null;\nvar warn = document.getElementById(\"3dmolwarning_1552781351998373\");\nif(warn) {\n    warn.parentNode.removeChild(warn);\n}\n$3Dmolpromise.then(function() {\nviewer_1552781351998373 = $3Dmol.createViewer($(\"#3dmolviewer_1552781351998373\"),{backgroundColor:\"white\"});\n$3Dmol.download(\"pdb:1ycr\", viewer_1552781351998373, {}, function() {\n\tviewer_1552781351998373.setStyle({\"cartoon\": {\"color\": \"spectrum\"}});\nviewer_1552781351998373.render();\n})\n});\n</script>",
      "text/html": [
       "<div id=\"3dmolviewer_1552781351998373\"  style=\"position: relative; width: 640px; height: 480px\">\n",
       "        <p id=\"3dmolwarning_1552781351998373\" style=\"background-color:#ffcccc;color:black\">You appear to be running in JupyterLab (or JavaScript failed to load for some other reason).  You need to install the 3dmol extension: <br>\n",
       "        <tt>jupyter labextension install jupyterlab_3dmol</tt></p>\n",
       "        </div>\n",
       "<script>\n",
       "\n",
       "var loadScriptAsync = function(uri){\n",
       "  return new Promise((resolve, reject) => {\n",
       "    var tag = document.createElement('script');\n",
       "    tag.src = uri;\n",
       "    tag.async = true;\n",
       "    tag.onload = () => {\n",
       "      resolve();\n",
       "    };\n",
       "  var firstScriptTag = document.getElementsByTagName('script')[0];\n",
       "  firstScriptTag.parentNode.insertBefore(tag, firstScriptTag);\n",
       "});\n",
       "};\n",
       "\n",
       "if(typeof $3Dmolpromise === 'undefined') {\n",
       "$3Dmolpromise = null;\n",
       "  $3Dmolpromise = loadScriptAsync('https://3dmol.csb.pitt.edu/build/3Dmol.js');\n",
       "}\n",
       "\n",
       "var viewer_1552781351998373 = null;\n",
       "var warn = document.getElementById(\"3dmolwarning_1552781351998373\");\n",
       "if(warn) {\n",
       "    warn.parentNode.removeChild(warn);\n",
       "}\n",
       "$3Dmolpromise.then(function() {\n",
       "viewer_1552781351998373 = $3Dmol.createViewer($(\"#3dmolviewer_1552781351998373\"),{backgroundColor:\"white\"});\n",
       "$3Dmol.download(\"pdb:1ycr\", viewer_1552781351998373, {}, function() {\n",
       "\tviewer_1552781351998373.setStyle({\"cartoon\": {\"color\": \"spectrum\"}});\n",
       "viewer_1552781351998373.render();\n",
       "})\n",
       "});\n",
       "</script>"
      ]
     },
     "metadata": {},
     "output_type": "display_data"
    }
   ],
   "source": [
    "p = py3Dmol.view(query='pdb:1ycr')\n",
    "p.setStyle({'cartoon': {'color':'spectrum'}})\n",
    "p.show()"
   ]
  },
  {
   "cell_type": "code",
   "execution_count": 3,
   "metadata": {},
   "outputs": [],
   "source": [
    "xyz = '''4\n",
    "* (null), Energy   -1000.0000000\n",
    "N     0.000005    0.019779   -0.000003   -0.157114    0.000052   -0.012746\n",
    "H     0.931955   -0.364989    0.000003    1.507100   -0.601158   -0.004108\n",
    "H    -0.465975   -0.364992    0.807088    0.283368    0.257996   -0.583024\n",
    "H    -0.465979   -0.364991   -0.807088    0.392764    0.342436    0.764260\n",
    "'''"
   ]
  },
  {
   "cell_type": "code",
   "execution_count": 4,
   "metadata": {},
   "outputs": [
    {
     "data": {
      "application/3dmoljs_load.v0": "<div id=\"3dmolviewer_15527813520178492\"  style=\"position: relative; width: 400px; height: 400px\">\n        <p id=\"3dmolwarning_15527813520178492\" style=\"background-color:#ffcccc;color:black\">You appear to be running in JupyterLab (or JavaScript failed to load for some other reason).  You need to install the 3dmol extension: <br>\n        <tt>jupyter labextension install jupyterlab_3dmol</tt></p>\n        </div>\n<script>\n\nvar loadScriptAsync = function(uri){\n  return new Promise((resolve, reject) => {\n    var tag = document.createElement('script');\n    tag.src = uri;\n    tag.async = true;\n    tag.onload = () => {\n      resolve();\n    };\n  var firstScriptTag = document.getElementsByTagName('script')[0];\n  firstScriptTag.parentNode.insertBefore(tag, firstScriptTag);\n});\n};\n\nif(typeof $3Dmolpromise === 'undefined') {\n$3Dmolpromise = null;\n  $3Dmolpromise = loadScriptAsync('https://3dmol.csb.pitt.edu/build/3Dmol.js');\n}\n\nvar viewer_15527813520178492 = null;\nvar warn = document.getElementById(\"3dmolwarning_15527813520178492\");\nif(warn) {\n    warn.parentNode.removeChild(warn);\n}\n$3Dmolpromise.then(function() {\nviewer_15527813520178492 = $3Dmol.createViewer($(\"#3dmolviewer_15527813520178492\"),{backgroundColor:\"white\"});\n\tviewer_15527813520178492.addModel(\"4\\n* (null), Energy   -1000.0000000\\nN     0.000005    0.019779   -0.000003   -0.157114    0.000052   -0.012746\\nH     0.931955   -0.364989    0.000003    1.507100   -0.601158   -0.004108\\nH    -0.465975   -0.364992    0.807088    0.283368    0.257996   -0.583024\\nH    -0.465979   -0.364991   -0.807088    0.392764    0.342436    0.764260\\n\",\"xyz\",{\"vibrate\": {\"frames\": 10, \"amplitude\": 1}});\n\tviewer_15527813520178492.setStyle({\"stick\": {}});\n\tviewer_15527813520178492.setBackgroundColor(\"0xeeeeee\");\n\tviewer_15527813520178492.animate({\"loop\": \"backAndForth\"});\n\tviewer_15527813520178492.zoomTo();\nviewer_15527813520178492.render();\n});\n</script>",
      "text/html": [
       "<div id=\"3dmolviewer_15527813520178492\"  style=\"position: relative; width: 400px; height: 400px\">\n",
       "        <p id=\"3dmolwarning_15527813520178492\" style=\"background-color:#ffcccc;color:black\">You appear to be running in JupyterLab (or JavaScript failed to load for some other reason).  You need to install the 3dmol extension: <br>\n",
       "        <tt>jupyter labextension install jupyterlab_3dmol</tt></p>\n",
       "        </div>\n",
       "<script>\n",
       "\n",
       "var loadScriptAsync = function(uri){\n",
       "  return new Promise((resolve, reject) => {\n",
       "    var tag = document.createElement('script');\n",
       "    tag.src = uri;\n",
       "    tag.async = true;\n",
       "    tag.onload = () => {\n",
       "      resolve();\n",
       "    };\n",
       "  var firstScriptTag = document.getElementsByTagName('script')[0];\n",
       "  firstScriptTag.parentNode.insertBefore(tag, firstScriptTag);\n",
       "});\n",
       "};\n",
       "\n",
       "if(typeof $3Dmolpromise === 'undefined') {\n",
       "$3Dmolpromise = null;\n",
       "  $3Dmolpromise = loadScriptAsync('https://3dmol.csb.pitt.edu/build/3Dmol.js');\n",
       "}\n",
       "\n",
       "var viewer_15527813520178492 = null;\n",
       "var warn = document.getElementById(\"3dmolwarning_15527813520178492\");\n",
       "if(warn) {\n",
       "    warn.parentNode.removeChild(warn);\n",
       "}\n",
       "$3Dmolpromise.then(function() {\n",
       "viewer_15527813520178492 = $3Dmol.createViewer($(\"#3dmolviewer_15527813520178492\"),{backgroundColor:\"white\"});\n",
       "\tviewer_15527813520178492.addModel(\"4\\n* (null), Energy   -1000.0000000\\nN     0.000005    0.019779   -0.000003   -0.157114    0.000052   -0.012746\\nH     0.931955   -0.364989    0.000003    1.507100   -0.601158   -0.004108\\nH    -0.465975   -0.364992    0.807088    0.283368    0.257996   -0.583024\\nH    -0.465979   -0.364991   -0.807088    0.392764    0.342436    0.764260\\n\",\"xyz\",{\"vibrate\": {\"frames\": 10, \"amplitude\": 1}});\n",
       "\tviewer_15527813520178492.setStyle({\"stick\": {}});\n",
       "\tviewer_15527813520178492.setBackgroundColor(\"0xeeeeee\");\n",
       "\tviewer_15527813520178492.animate({\"loop\": \"backAndForth\"});\n",
       "\tviewer_15527813520178492.zoomTo();\n",
       "viewer_15527813520178492.render();\n",
       "});\n",
       "</script>"
      ]
     },
     "metadata": {},
     "output_type": "display_data"
    }
   ],
   "source": [
    "xyzview = py3Dmol.view(width=400,height=400)\n",
    "xyzview.addModel(xyz,'xyz',{'vibrate': {'frames':10,'amplitude':1}})\n",
    "xyzview.setStyle({'stick':{}})\n",
    "xyzview.setBackgroundColor('0xeeeeee')\n",
    "xyzview.animate({'loop': 'backAndForth'})\n",
    "xyzview.zoomTo()\n",
    "xyzview.show()"
   ]
  },
  {
   "cell_type": "code",
   "execution_count": 5,
   "metadata": {},
   "outputs": [
    {
     "data": {
      "application/3dmoljs_load.v0": "<div id=\"3dmolviewer_15527813520285497\"  style=\"position: relative; width: 640px; height: 480px\">\n        <p id=\"3dmolwarning_15527813520285497\" style=\"background-color:#ffcccc;color:black\">You appear to be running in JupyterLab (or JavaScript failed to load for some other reason).  You need to install the 3dmol extension: <br>\n        <tt>jupyter labextension install jupyterlab_3dmol</tt></p>\n        </div>\n<script>\n\nvar loadScriptAsync = function(uri){\n  return new Promise((resolve, reject) => {\n    var tag = document.createElement('script');\n    tag.src = uri;\n    tag.async = true;\n    tag.onload = () => {\n      resolve();\n    };\n  var firstScriptTag = document.getElementsByTagName('script')[0];\n  firstScriptTag.parentNode.insertBefore(tag, firstScriptTag);\n});\n};\n\nif(typeof $3Dmolpromise === 'undefined') {\n$3Dmolpromise = null;\n  $3Dmolpromise = loadScriptAsync('https://3dmol.csb.pitt.edu/build/3Dmol.js');\n}\n\nvar viewer_15527813520285497 = null;\nvar warn = document.getElementById(\"3dmolwarning_15527813520285497\");\nif(warn) {\n    warn.parentNode.removeChild(warn);\n}\n$3Dmolpromise.then(function() {\nviewer_15527813520285497 = $3Dmol.createViewer($(\"#3dmolviewer_15527813520285497\"),{backgroundColor:\"white\"});\n$3Dmol.download(\"pdb:1dc9\", viewer_15527813520285497, {}, function() {\n\tviewer_15527813520285497.setViewStyle({\"style\": \"outline\", \"color\": \"black\", \"width\": 0.1});\n\tviewer_15527813520285497.setStyle({\"cartoon\": {\"arrows\": true, \"tubes\": true, \"style\": \"oval\", \"color\": \"white\"}});\nviewer_15527813520285497.render();\n})\n});\n</script>",
      "text/html": [
       "<div id=\"3dmolviewer_15527813520285497\"  style=\"position: relative; width: 640px; height: 480px\">\n",
       "        <p id=\"3dmolwarning_15527813520285497\" style=\"background-color:#ffcccc;color:black\">You appear to be running in JupyterLab (or JavaScript failed to load for some other reason).  You need to install the 3dmol extension: <br>\n",
       "        <tt>jupyter labextension install jupyterlab_3dmol</tt></p>\n",
       "        </div>\n",
       "<script>\n",
       "\n",
       "var loadScriptAsync = function(uri){\n",
       "  return new Promise((resolve, reject) => {\n",
       "    var tag = document.createElement('script');\n",
       "    tag.src = uri;\n",
       "    tag.async = true;\n",
       "    tag.onload = () => {\n",
       "      resolve();\n",
       "    };\n",
       "  var firstScriptTag = document.getElementsByTagName('script')[0];\n",
       "  firstScriptTag.parentNode.insertBefore(tag, firstScriptTag);\n",
       "});\n",
       "};\n",
       "\n",
       "if(typeof $3Dmolpromise === 'undefined') {\n",
       "$3Dmolpromise = null;\n",
       "  $3Dmolpromise = loadScriptAsync('https://3dmol.csb.pitt.edu/build/3Dmol.js');\n",
       "}\n",
       "\n",
       "var viewer_15527813520285497 = null;\n",
       "var warn = document.getElementById(\"3dmolwarning_15527813520285497\");\n",
       "if(warn) {\n",
       "    warn.parentNode.removeChild(warn);\n",
       "}\n",
       "$3Dmolpromise.then(function() {\n",
       "viewer_15527813520285497 = $3Dmol.createViewer($(\"#3dmolviewer_15527813520285497\"),{backgroundColor:\"white\"});\n",
       "$3Dmol.download(\"pdb:1dc9\", viewer_15527813520285497, {}, function() {\n",
       "\tviewer_15527813520285497.setViewStyle({\"style\": \"outline\", \"color\": \"black\", \"width\": 0.1});\n",
       "\tviewer_15527813520285497.setStyle({\"cartoon\": {\"arrows\": true, \"tubes\": true, \"style\": \"oval\", \"color\": \"white\"}});\n",
       "viewer_15527813520285497.render();\n",
       "})\n",
       "});\n",
       "</script>"
      ]
     },
     "metadata": {},
     "output_type": "display_data"
    },
    {
     "data": {
      "text/plain": [
       "<py3Dmol.view at 0x7f6605f50e48>"
      ]
     },
     "execution_count": 5,
     "metadata": {},
     "output_type": "execute_result"
    }
   ],
   "source": [
    "view = py3Dmol.view(query='pdb:1dc9')\n",
    "view.setViewStyle({'style':'outline','color':'black','width':0.1})\n",
    "view.setStyle({'cartoon':{'arrows':True, 'tubes':True, 'style':'oval', 'color':'white'}})\n",
    "view"
   ]
  },
  {
   "cell_type": "code",
   "execution_count": 6,
   "metadata": {},
   "outputs": [
    {
     "data": {
      "application/3dmoljs_load.v0": "<div id=\"3dmolviewer_155278135203797\"  style=\"position: relative; width: 640px; height: 480px\">\n        <p id=\"3dmolwarning_155278135203797\" style=\"background-color:#ffcccc;color:black\">You appear to be running in JupyterLab (or JavaScript failed to load for some other reason).  You need to install the 3dmol extension: <br>\n        <tt>jupyter labextension install jupyterlab_3dmol</tt></p>\n        </div>\n<script>\n\nvar loadScriptAsync = function(uri){\n  return new Promise((resolve, reject) => {\n    var tag = document.createElement('script');\n    tag.src = uri;\n    tag.async = true;\n    tag.onload = () => {\n      resolve();\n    };\n  var firstScriptTag = document.getElementsByTagName('script')[0];\n  firstScriptTag.parentNode.insertBefore(tag, firstScriptTag);\n});\n};\n\nif(typeof $3Dmolpromise === 'undefined') {\n$3Dmolpromise = null;\n  $3Dmolpromise = loadScriptAsync('https://3dmol.csb.pitt.edu/build/3Dmol.js');\n}\n\nvar viewer_155278135203797 = null;\nvar warn = document.getElementById(\"3dmolwarning_155278135203797\");\nif(warn) {\n    warn.parentNode.removeChild(warn);\n}\n$3Dmolpromise.then(function() {\nviewer_155278135203797 = $3Dmol.createViewer($(\"#3dmolviewer_155278135203797\"),{backgroundColor:\"white\"});\n$3Dmol.download(\"pdb:1ycr\", viewer_155278135203797, {}, function() {\n\tviewer_155278135203797.setStyle({\"chain\": \"A\"},{\"cartoon\": {\"color\": \"spectrum\"}});\n\tviewer_155278135203797.addSurface(1,{\"opacity\": 0.7, \"color\": \"white\"},{\"chain\": \"A\"});\n\tviewer_155278135203797.setStyle({\"chain\": \"B\"},{\"stick\": {}});\nviewer_155278135203797.render();\n})\n});\n</script>",
      "text/html": [
       "<div id=\"3dmolviewer_155278135203797\"  style=\"position: relative; width: 640px; height: 480px\">\n",
       "        <p id=\"3dmolwarning_155278135203797\" style=\"background-color:#ffcccc;color:black\">You appear to be running in JupyterLab (or JavaScript failed to load for some other reason).  You need to install the 3dmol extension: <br>\n",
       "        <tt>jupyter labextension install jupyterlab_3dmol</tt></p>\n",
       "        </div>\n",
       "<script>\n",
       "\n",
       "var loadScriptAsync = function(uri){\n",
       "  return new Promise((resolve, reject) => {\n",
       "    var tag = document.createElement('script');\n",
       "    tag.src = uri;\n",
       "    tag.async = true;\n",
       "    tag.onload = () => {\n",
       "      resolve();\n",
       "    };\n",
       "  var firstScriptTag = document.getElementsByTagName('script')[0];\n",
       "  firstScriptTag.parentNode.insertBefore(tag, firstScriptTag);\n",
       "});\n",
       "};\n",
       "\n",
       "if(typeof $3Dmolpromise === 'undefined') {\n",
       "$3Dmolpromise = null;\n",
       "  $3Dmolpromise = loadScriptAsync('https://3dmol.csb.pitt.edu/build/3Dmol.js');\n",
       "}\n",
       "\n",
       "var viewer_155278135203797 = null;\n",
       "var warn = document.getElementById(\"3dmolwarning_155278135203797\");\n",
       "if(warn) {\n",
       "    warn.parentNode.removeChild(warn);\n",
       "}\n",
       "$3Dmolpromise.then(function() {\n",
       "viewer_155278135203797 = $3Dmol.createViewer($(\"#3dmolviewer_155278135203797\"),{backgroundColor:\"white\"});\n",
       "$3Dmol.download(\"pdb:1ycr\", viewer_155278135203797, {}, function() {\n",
       "\tviewer_155278135203797.setStyle({\"chain\": \"A\"},{\"cartoon\": {\"color\": \"spectrum\"}});\n",
       "\tviewer_155278135203797.addSurface(1,{\"opacity\": 0.7, \"color\": \"white\"},{\"chain\": \"A\"});\n",
       "\tviewer_155278135203797.setStyle({\"chain\": \"B\"},{\"stick\": {}});\n",
       "viewer_155278135203797.render();\n",
       "})\n",
       "});\n",
       "</script>"
      ]
     },
     "metadata": {},
     "output_type": "display_data"
    }
   ],
   "source": [
    "view = py3Dmol.view(query='pdb:1ycr')\n",
    "chA = {'chain':'A'}\n",
    "chB = {'chain':'B'}\n",
    "view.setStyle(chA,{'cartoon': {'color':'spectrum'}})\n",
    "view.addSurface(py3Dmol.VDW,{'opacity':0.7,'color':'white'}, chA)\n",
    "view.setStyle(chB,{'stick':{}})\n",
    "view.show()"
   ]
  },
  {
   "cell_type": "code",
   "execution_count": 7,
   "metadata": {},
   "outputs": [
    {
     "data": {
      "application/3dmoljs_load.v0": "<div id=\"3dmolviewer_15527813520468698\"  style=\"position: relative; width: 640px; height: 480px\">\n        <p id=\"3dmolwarning_15527813520468698\" style=\"background-color:#ffcccc;color:black\">You appear to be running in JupyterLab (or JavaScript failed to load for some other reason).  You need to install the 3dmol extension: <br>\n        <tt>jupyter labextension install jupyterlab_3dmol</tt></p>\n        </div>\n<script>\n\nvar loadScriptAsync = function(uri){\n  return new Promise((resolve, reject) => {\n    var tag = document.createElement('script');\n    tag.src = uri;\n    tag.async = true;\n    tag.onload = () => {\n      resolve();\n    };\n  var firstScriptTag = document.getElementsByTagName('script')[0];\n  firstScriptTag.parentNode.insertBefore(tag, firstScriptTag);\n});\n};\n\nif(typeof $3Dmolpromise === 'undefined') {\n$3Dmolpromise = null;\n  $3Dmolpromise = loadScriptAsync('https://3dmol.csb.pitt.edu/build/3Dmol.js');\n}\n\nvar viewer_15527813520468698 = null;\nvar warn = document.getElementById(\"3dmolwarning_15527813520468698\");\nif(warn) {\n    warn.parentNode.removeChild(warn);\n}\n$3Dmolpromise.then(function() {\nviewer_15527813520468698 = $3Dmol.createViewer($(\"#3dmolviewer_15527813520468698\"),{backgroundColor:\"white\"});\n$3Dmol.download(\"pdb:5ire\", viewer_15527813520468698, {\"doAssembly\": true}, function() {\n\tviewer_15527813520468698.setStyle({\"cartoon\": {\"color\": \"spectrum\"}});\nviewer_15527813520468698.render();\n})\n});\n</script>",
      "text/html": [
       "<div id=\"3dmolviewer_15527813520468698\"  style=\"position: relative; width: 640px; height: 480px\">\n",
       "        <p id=\"3dmolwarning_15527813520468698\" style=\"background-color:#ffcccc;color:black\">You appear to be running in JupyterLab (or JavaScript failed to load for some other reason).  You need to install the 3dmol extension: <br>\n",
       "        <tt>jupyter labextension install jupyterlab_3dmol</tt></p>\n",
       "        </div>\n",
       "<script>\n",
       "\n",
       "var loadScriptAsync = function(uri){\n",
       "  return new Promise((resolve, reject) => {\n",
       "    var tag = document.createElement('script');\n",
       "    tag.src = uri;\n",
       "    tag.async = true;\n",
       "    tag.onload = () => {\n",
       "      resolve();\n",
       "    };\n",
       "  var firstScriptTag = document.getElementsByTagName('script')[0];\n",
       "  firstScriptTag.parentNode.insertBefore(tag, firstScriptTag);\n",
       "});\n",
       "};\n",
       "\n",
       "if(typeof $3Dmolpromise === 'undefined') {\n",
       "$3Dmolpromise = null;\n",
       "  $3Dmolpromise = loadScriptAsync('https://3dmol.csb.pitt.edu/build/3Dmol.js');\n",
       "}\n",
       "\n",
       "var viewer_15527813520468698 = null;\n",
       "var warn = document.getElementById(\"3dmolwarning_15527813520468698\");\n",
       "if(warn) {\n",
       "    warn.parentNode.removeChild(warn);\n",
       "}\n",
       "$3Dmolpromise.then(function() {\n",
       "viewer_15527813520468698 = $3Dmol.createViewer($(\"#3dmolviewer_15527813520468698\"),{backgroundColor:\"white\"});\n",
       "$3Dmol.download(\"pdb:5ire\", viewer_15527813520468698, {\"doAssembly\": true}, function() {\n",
       "\tviewer_15527813520468698.setStyle({\"cartoon\": {\"color\": \"spectrum\"}});\n",
       "viewer_15527813520468698.render();\n",
       "})\n",
       "});\n",
       "</script>"
      ]
     },
     "metadata": {},
     "output_type": "display_data"
    },
    {
     "data": {
      "text/plain": [
       "<py3Dmol.view at 0x7f6605f5b630>"
      ]
     },
     "execution_count": 7,
     "metadata": {},
     "output_type": "execute_result"
    }
   ],
   "source": [
    "view = py3Dmol.view(query='pdb:5ire',options={'doAssembly':True})\n",
    "view.setStyle({'cartoon':{'color':'spectrum'}})\n",
    "view"
   ]
  }
 ],
 "metadata": {
  "kernelspec": {
   "display_name": "Python 3",
   "language": "python",
   "name": "python3"
  },
  "language_info": {
   "codemirror_mode": {
    "name": "ipython",
    "version": 3
   },
   "file_extension": ".py",
   "mimetype": "text/x-python",
   "name": "python",
   "nbconvert_exporter": "python",
   "pygments_lexer": "ipython3",
   "version": "3.7.2"
  }
 },
 "nbformat": 4,
 "nbformat_minor": 1
}
