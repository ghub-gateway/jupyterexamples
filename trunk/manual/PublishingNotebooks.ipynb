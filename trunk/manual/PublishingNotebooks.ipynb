{
 "cells": [
  {
   "cell_type": "markdown",
   "metadata": {},
   "source": [
    "<img src=\"images/publishing_notebooks-02.png\" />\n",
    "<img src=\"images/publishing_notebooks-03.png\" />\n",
    "<img src=\"images/publishing_notebooks-04.png\" />\n",
    "<img src=\"images/publishing_notebooks-05.png\" />\n",
    "<img src=\"images/publishing_notebooks-06.png\" />\n",
    "<img src=\"images/publishing_notebooks-07.png\" />\n",
    "<img src=\"images/publishing_notebooks-08.png\" />\n",
    "<img src=\"images/publishing_notebooks-09.png\" />\n",
    "<img src=\"images/publishing_notebooks-10.png\" />\n",
    "<img src=\"images/publishing_notebooks-11.png\" />\n",
    "<img src=\"images/publishing_notebooks-12.png\" />\n",
    "<img src=\"images/publishing_notebooks-13.png\" />\n",
    "<img src=\"images/publishing_notebooks-14.png\" />\n",
    "<img src=\"images/publishing_notebooks-15.png\" />\n",
    "<img src=\"images/publishing_notebooks-16.png\" />\n",
    "<img src=\"images/publishing_notebooks-17.png\" />"
   ]
  }
 ],
 "metadata": {
  "kernelspec": {
   "display_name": "Python 3",
   "language": "python",
   "name": "python3"
  },
  "language_info": {
   "codemirror_mode": {
    "name": "ipython",
    "version": 3
   },
   "file_extension": ".py",
   "mimetype": "text/x-python",
   "name": "python",
   "nbconvert_exporter": "python",
   "pygments_lexer": "ipython3",
   "version": "3.7.2"
  }
 },
 "nbformat": 4,
 "nbformat_minor": 2
}
