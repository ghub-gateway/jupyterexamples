{
 "cells": [
  {
   "cell_type": "markdown",
   "metadata": {},
   "source": [
    "# Installing Local Python Modules\n",
    "\n",
    "When a module is not available globally, you can request it be installed for everyone, or you can install it locally.\n",
    "\n",
    "* Install locally \n",
    "    * When you are only testing a module OR\n",
    "    * When a module is not likely to be of use to others OR\n",
    "    * When you need a newer version of a module than the globally-installed version\n",
    "\n",
    "* Otherwise, request it to be installed globally.\n",
    " \n",
    "\n",
    "## Publishing\n",
    "\n",
    "Tools with locally-installed modules can still be published.  You will have to publish your notebook plus all the installed modules and/or binaries.\n"
   ]
  },
  {
   "cell_type": "markdown",
   "metadata": {},
   "source": [
    "## Installation\n",
    "\n",
    "The first step is to be sure you are in a new folder (directory).  Your installation will be in \n",
    "**lib**  and sometimes **bin** subdirectories."
   ]
  },
  {
   "cell_type": "code",
   "execution_count": 17,
   "metadata": {},
   "outputs": [
    {
     "name": "stdout",
     "output_type": "stream",
     "text": [
      "/home/nanohub/mmh/notebooks/jupyter_notebook_examples/examples/misc\r\n"
     ]
    }
   ],
   "source": [
    "!pwd"
   ]
  },
  {
   "cell_type": "markdown",
   "metadata": {},
   "source": [
    "Now we need to make sure to install for the correct version of python.  Remember how you can open either Python2 or Python3 notebooks?  Well the Jupyter server itself is launching those notebooks and if we use the bash shell to run a command, it will use that python version, which may not be the one your notebook is using.  So we use the \"%%bash\" cell magic.  This notebook is python 2 and the notebook server is running on python 3 (from 5.1 anaconda/jupyter release on). SO we have to do this:"
   ]
  },
  {
   "cell_type": "code",
   "execution_count": 10,
   "metadata": {},
   "outputs": [
    {
     "name": "stderr",
     "output_type": "stream",
     "text": [
      "Python 2.7.14 :: Anaconda, Inc.\n"
     ]
    }
   ],
   "source": [
    "%%bash -l \n",
    "use -e -r anaconda2-5.1\n",
    "\n",
    "# check it\n",
    "python --version"
   ]
  },
  {
   "cell_type": "code",
   "execution_count": 11,
   "metadata": {},
   "outputs": [
    {
     "name": "stdout",
     "output_type": "stream",
     "text": [
      "Python 3.6.5 :: Anaconda, Inc.\r\n"
     ]
    }
   ],
   "source": [
    "!python --version\n",
    "# did not change the parent environment"
   ]
  },
  {
   "cell_type": "markdown",
   "metadata": {},
   "source": [
    "## Installing Using Pip\n",
    "\n",
    "The preferred method is to use pip.  I recommend adding \"--upgrade-strategy only-if-needed\" to the command line to prevent a lot of unnecessary stuff from being installed.\n",
    "Set the prefix to \".\" to install in the local directory."
   ]
  },
  {
   "cell_type": "code",
   "execution_count": 12,
   "metadata": {},
   "outputs": [
    {
     "name": "stdout",
     "output_type": "stream",
     "text": [
      "Collecting wfdb\n",
      "  Downloading https://files.pythonhosted.org/packages/72/bd/b0015282301bcc6d8ec4b5a3bc29fdf0fa2fe4d1d7e2eab3536c27fa63b5/wfdb-2.2.0.tar.gz (94kB)\n",
      "Requirement already satisfied: nose>=1.3.7 in /apps/share64/debian7/anaconda/anaconda2-5.1/lib/python2.7/site-packages (from wfdb) (1.3.7)\n",
      "Requirement already satisfied: numpy>=1.11.0 in /apps/share64/debian7/anaconda/anaconda2-5.1/lib/python2.7/site-packages (from wfdb) (1.14.3)\n",
      "Requirement already satisfied: matplotlib>=1.5.1 in /apps/share64/debian7/anaconda/anaconda2-5.1/lib/python2.7/site-packages (from wfdb) (2.2.2)\n",
      "Requirement already satisfied: requests>=2.10.0 in /apps/share64/debian7/anaconda/anaconda2-5.1/lib/python2.7/site-packages (from wfdb) (2.18.4)\n",
      "Requirement already satisfied: pandas>=0.19.1 in /apps/share64/debian7/anaconda/anaconda2-5.1/lib/python2.7/site-packages (from wfdb) (0.23.0)\n",
      "Requirement already satisfied: scipy>=0.19.0 in /apps/share64/debian7/anaconda/anaconda2-5.1/lib/python2.7/site-packages (from wfdb) (1.1.0)\n",
      "Collecting sklearn>=0.0 (from wfdb)\n",
      "Requirement already satisfied: cycler>=0.10 in /apps/share64/debian7/anaconda/anaconda2-5.1/lib/python2.7/site-packages (from matplotlib>=1.5.1->wfdb) (0.10.0)\n",
      "Requirement already satisfied: pyparsing!=2.0.4,!=2.1.2,!=2.1.6,>=2.0.1 in /apps/share64/debian7/anaconda/anaconda2-5.1/lib/python2.7/site-packages (from matplotlib>=1.5.1->wfdb) (2.2.0)\n",
      "Requirement already satisfied: python-dateutil>=2.1 in /apps/share64/debian7/anaconda/anaconda2-5.1/lib/python2.7/site-packages (from matplotlib>=1.5.1->wfdb) (2.6.1)\n",
      "Requirement already satisfied: pytz in /apps/share64/debian7/anaconda/anaconda2-5.1/lib/python2.7/site-packages (from matplotlib>=1.5.1->wfdb) (2017.3)\n",
      "Requirement already satisfied: six>=1.10 in /apps/share64/debian7/anaconda/anaconda2-5.1/lib/python2.7/site-packages (from matplotlib>=1.5.1->wfdb) (1.11.0)\n",
      "Requirement already satisfied: kiwisolver>=1.0.1 in /apps/share64/debian7/anaconda/anaconda2-5.1/lib/python2.7/site-packages (from matplotlib>=1.5.1->wfdb) (1.0.1)\n",
      "Requirement already satisfied: backports.functools_lru_cache in /apps/share64/debian7/anaconda/anaconda2-5.1/lib/python2.7/site-packages (from matplotlib>=1.5.1->wfdb) (1.4)\n",
      "Requirement already satisfied: subprocess32 in /apps/share64/debian7/anaconda/anaconda2-5.1/lib/python2.7/site-packages (from matplotlib>=1.5.1->wfdb) (3.2.7)\n",
      "Requirement already satisfied: chardet<3.1.0,>=3.0.2 in /apps/share64/debian7/anaconda/anaconda2-5.1/lib/python2.7/site-packages (from requests>=2.10.0->wfdb) (3.0.4)\n",
      "Requirement already satisfied: idna<2.7,>=2.5 in /apps/share64/debian7/anaconda/anaconda2-5.1/lib/python2.7/site-packages (from requests>=2.10.0->wfdb) (2.6)\n",
      "Requirement already satisfied: urllib3<1.23,>=1.21.1 in /apps/share64/debian7/anaconda/anaconda2-5.1/lib/python2.7/site-packages (from requests>=2.10.0->wfdb) (1.22)\n",
      "Requirement already satisfied: certifi>=2017.4.17 in /apps/share64/debian7/anaconda/anaconda2-5.1/lib/python2.7/site-packages (from requests>=2.10.0->wfdb) (2018.4.16)\n",
      "Requirement already satisfied: scikit-learn in /apps/share64/debian7/anaconda/anaconda2-5.1/lib/python2.7/site-packages (from sklearn>=0.0->wfdb) (0.19.1)\n",
      "Requirement already satisfied: setuptools in /apps/share64/debian7/anaconda/anaconda2-5.1/lib/python2.7/site-packages (from kiwisolver>=1.0.1->matplotlib>=1.5.1->wfdb) (38.4.0)\n",
      "Building wheels for collected packages: wfdb\n",
      "  Running setup.py bdist_wheel for wfdb: started\n",
      "  Running setup.py bdist_wheel for wfdb: finished with status 'done'\n",
      "  Stored in directory: /home/nanohub/mmh/.cache/pip/wheels/e6/42/0f/ba2228d7a73ca828520fbde0c033e85b91c73825be3bf6e05e\n",
      "Successfully built wfdb\n",
      "Installing collected packages: sklearn, wfdb\n",
      "Successfully installed sklearn-0.0 wfdb-2.2.0\n"
     ]
    },
    {
     "name": "stderr",
     "output_type": "stream",
     "text": [
      "mmtf-python 1.1.2 requires msgpack>=0.5.6, which is not installed.\n",
      "distributed 1.21.8 requires msgpack, which is not installed.\n",
      "grin 1.2.1 requires argparse>=1.1, which is not installed.\n",
      "jedi 0.12.0 has requirement parso>=0.2.0, but you'll have parso 0.1.1 which is incompatible.\n"
     ]
    }
   ],
   "source": [
    "%%bash -l\n",
    "use -e -r anaconda2-5.1\n",
    "pip install wfdb --prefix=. --upgrade-strategy only-if-needed"
   ]
  },
  {
   "attachments": {
    "Selection_105.png": {
     "image/png": "[encoded data removed]"
    }
   },
   "cell_type": "markdown",
   "metadata": {},
   "source": [
    "## Didn't Work? Download then Install\n",
    "We have a firewall that blocks many sites.  Pip looks up packages on pypi.org but the actual download can be from anywhere.  If it fails, the firewall probably did not allow the connection.  That's OK, you can still do it manually.\n",
    "\n",
    "1. Go to https://pypi.org/ and search for your package\n",
    "2. Download the version you want.  It will get saved to your computer.\n",
    "![Selection_105.png](attachment:Selection_105.png)\n",
    "3. Now upload the file with Jupyter.  Select File/Open in your notebooks menu.  A new tab will be opened with the Jupyter file list.  CLick the \"Upload\" button and upload the package.\n",
    "4. Now install"
   ]
  },
  {
   "cell_type": "code",
   "execution_count": null,
   "metadata": {},
   "outputs": [],
   "source": [
    "%%bash -l\n",
    "use -e -r anaconda2-5.1\n",
    "pip install --prefix=. wfdb-2.2.0.tar.gz"
   ]
  },
  {
   "cell_type": "code",
   "execution_count": 13,
   "metadata": {
    "scrolled": true
   },
   "outputs": [
    {
     "name": "stdout",
     "output_type": "stream",
     "text": [
      ".:\n",
      "total 220\n",
      "-rw-r----- 1 mmh public 38423 Jul  6 18:35 installing_python_modules.ipynb\n",
      "drwxr-x--- 3 mmh public  4096 Jul  6 18:36 lib\n",
      "-rw-r----- 1 mmh public   968 Jun 22 13:59 password_example.ipynb\n",
      "-rw-r----- 1 mmh public 74315 Jun 19 22:41 Submit.ipynb\n",
      "-rw-r----- 1 mmh public 94737 Jul  6 17:49 wfdb-2.2.0.tar.gz\n",
      "\n",
      "./lib:\n",
      "total 4\n",
      "drwxr-x--- 3 mmh public 4096 Jul  6 18:36 python2.7\n",
      "\n",
      "./lib/python2.7:\n",
      "total 4\n",
      "drwxr-x--- 5 mmh public 4096 Jul  6 18:36 site-packages\n",
      "\n",
      "./lib/python2.7/site-packages:\n",
      "total 12\n",
      "drwxr-x--- 2 mmh public 4096 Jul  6 18:36 sklearn-0.0.dist-info\n",
      "drwxr-x--- 5 mmh public 4096 Jul  6 18:36 wfdb\n",
      "drwxr-x--- 2 mmh public 4096 Jul  6 18:36 wfdb-2.2.0.dist-info\n",
      "\n",
      "./lib/python2.7/site-packages/sklearn-0.0.dist-info:\n",
      "total 28\n",
      "-rw-r----- 1 mmh public 401 Jul  6 18:35 DESCRIPTION.rst\n",
      "-rw-r----- 1 mmh public   4 Jul  6 18:36 INSTALLER\n",
      "-rw-r----- 1 mmh public 913 Jul  6 18:35 METADATA\n",
      "-rw-r----- 1 mmh public 689 Jul  6 18:35 metadata.json\n",
      "-rw-r----- 1 mmh public 566 Jul  6 18:36 RECORD\n",
      "-rw-r----- 1 mmh public  59 Jul  6 18:35 top_level.txt\n",
      "-rw-r----- 1 mmh public 110 Jul  6 18:35 WHEEL\n",
      "\n",
      "./lib/python2.7/site-packages/wfdb:\n",
      "total 28\n",
      "-rw-r----- 1 mmh public  410 Jul  6 18:36 __init__.py\n",
      "-rw-r----- 1 mmh public  813 Jul  6 18:36 __init__.pyc\n",
      "drwxr-x--- 2 mmh public 4096 Jul  6 18:36 io\n",
      "drwxr-x--- 2 mmh public 4096 Jul  6 18:36 plot\n",
      "drwxr-x--- 2 mmh public 4096 Jul  6 18:36 processing\n",
      "-rw-r----- 1 mmh public   22 Jul  6 18:36 version.py\n",
      "-rw-r----- 1 mmh public  163 Jul  6 18:36 version.pyc\n",
      "\n",
      "./lib/python2.7/site-packages/wfdb/io:\n",
      "total 468\n",
      "-rw-r----- 1 mmh public 69558 Jul  6 18:36 annotation.py\n",
      "-rw-r----- 1 mmh public 49690 Jul  6 18:36 annotation.pyc\n",
      "-rw-r----- 1 mmh public 12712 Jul  6 18:36 download.py\n",
      "-rw-r----- 1 mmh public 11241 Jul  6 18:36 download.pyc\n",
      "-rw-r----- 1 mmh public 32554 Jul  6 18:36 _header.py\n",
      "-rw-r----- 1 mmh public 21185 Jul  6 18:36 _header.pyc\n",
      "-rw-r----- 1 mmh public   379 Jul  6 18:36 __init__.py\n",
      "-rw-r----- 1 mmh public   792 Jul  6 18:36 __init__.pyc\n",
      "-rw-r----- 1 mmh public 73524 Jul  6 18:36 record.py\n",
      "-rw-r----- 1 mmh public 50390 Jul  6 18:36 record.pyc\n",
      "-rw-r----- 1 mmh public 69359 Jul  6 18:36 _signal.py\n",
      "-rw-r----- 1 mmh public 43725 Jul  6 18:36 _signal.pyc\n",
      "-rw-r----- 1 mmh public  8453 Jul  6 18:36 tff.py\n",
      "-rw-r----- 1 mmh public  6036 Jul  6 18:36 tff.pyc\n",
      "\n",
      "./lib/python2.7/site-packages/wfdb/plot:\n",
      "total 48\n",
      "-rw-r----- 1 mmh public   139 Jul  6 18:36 __init__.py\n",
      "-rw-r----- 1 mmh public   348 Jul  6 18:36 __init__.pyc\n",
      "-rw-r----- 1 mmh public 20129 Jul  6 18:36 plot.py\n",
      "-rw-r----- 1 mmh public 16718 Jul  6 18:36 plot.pyc\n",
      "\n",
      "./lib/python2.7/site-packages/wfdb/processing:\n",
      "total 200\n",
      "-rw-r----- 1 mmh public  6600 Jul  6 18:36 basic.py\n",
      "-rw-r----- 1 mmh public  6944 Jul  6 18:36 basic.pyc\n",
      "-rw-r----- 1 mmh public 16591 Jul  6 18:36 evaluate.py\n",
      "-rw-r----- 1 mmh public 11943 Jul  6 18:36 evaluate.pyc\n",
      "-rw-r----- 1 mmh public  3838 Jul  6 18:36 hr.py\n",
      "-rw-r----- 1 mmh public  4001 Jul  6 18:36 hr.pyc\n",
      "-rw-r----- 1 mmh public   375 Jul  6 18:36 __init__.py\n",
      "-rw-r----- 1 mmh public   796 Jul  6 18:36 __init__.pyc\n",
      "-rw-r----- 1 mmh public 18926 Jul  6 18:36 pantompkins.py\n",
      "-rw-r----- 1 mmh public 11901 Jul  6 18:36 pantompkins.pyc\n",
      "-rw-r----- 1 mmh public  6733 Jul  6 18:36 peaks.py\n",
      "-rw-r----- 1 mmh public  5627 Jul  6 18:36 peaks.pyc\n",
      "-rw-r----- 1 mmh public 47412 Jul  6 18:36 qrs.py\n",
      "-rw-r----- 1 mmh public 38571 Jul  6 18:36 qrs.pyc\n",
      "\n",
      "./lib/python2.7/site-packages/wfdb-2.2.0.dist-info:\n",
      "total 28\n",
      "-rw-r----- 1 mmh public 2575 Jul  6 18:36 DESCRIPTION.rst\n",
      "-rw-r----- 1 mmh public    4 Jul  6 18:36 INSTALLER\n",
      "-rw-r----- 1 mmh public 3122 Jul  6 18:36 METADATA\n",
      "-rw-r----- 1 mmh public  715 Jul  6 18:36 metadata.json\n",
      "-rw-r----- 1 mmh public 2436 Jul  6 18:36 RECORD\n",
      "-rw-r----- 1 mmh public    5 Jul  6 18:36 top_level.txt\n",
      "-rw-r----- 1 mmh public   93 Jul  6 18:36 WHEEL\n"
     ]
    }
   ],
   "source": [
    "!ls -lR "
   ]
  },
  {
   "cell_type": "markdown",
   "metadata": {},
   "source": [
    "## Installing from Sources"
   ]
  },
  {
   "cell_type": "markdown",
   "metadata": {},
   "source": [
    "Lets copy some sources from https://github.com/vossjo/ase-espresso\n",
    "\n",
    "Instead of using \"!\", we can use cell magic \"%%bash\" to indicate all the commands in a cell are for bash."
   ]
  },
  {
   "cell_type": "code",
   "execution_count": null,
   "metadata": {},
   "outputs": [],
   "source": [
    "%%bash\n",
    "git clone https://github.com/vossjo/ase-espresso\n",
    "cd ase-espresso\n",
    "# install in \"..\" because we are in the sources subdirectory\n",
    "python setup.py install --prefix=.."
   ]
  },
  {
   "cell_type": "code",
   "execution_count": null,
   "metadata": {
    "scrolled": true
   },
   "outputs": [],
   "source": [
    "!ls -lR"
   ]
  },
  {
   "cell_type": "markdown",
   "metadata": {},
   "source": [
    "## Setting Paths\n",
    "\n",
    "You have your modules in the local directory.  Now you must tell your code to look there.  To do this, put the next two lines in every notebook."
   ]
  },
  {
   "cell_type": "code",
   "execution_count": 14,
   "metadata": {},
   "outputs": [],
   "source": [
    "import os,sys\n",
    "sys.path.insert(0, 'lib/python2.7/site-packages')\n",
    "# will be different for python3."
   ]
  },
  {
   "cell_type": "markdown",
   "metadata": {},
   "source": [
    "## Testing\n",
    "\n",
    "Finally we test the module loading.  We will be extra careful and check that the full path the modules are loaded from."
   ]
  },
  {
   "cell_type": "code",
   "execution_count": 15,
   "metadata": {},
   "outputs": [],
   "source": [
    "import wfdb"
   ]
  },
  {
   "cell_type": "code",
   "execution_count": 16,
   "metadata": {},
   "outputs": [
    {
     "data": {
      "text/plain": [
       "['lib/python2.7/site-packages/wfdb']"
      ]
     },
     "execution_count": 16,
     "metadata": {},
     "output_type": "execute_result"
    }
   ],
   "source": [
    "wfdb.__path__"
   ]
  },
  {
   "cell_type": "markdown",
   "metadata": {},
   "source": [
    "# Publishing\n",
    "\n",
    "If you publish your work, you can either include a cell with the installation, or check in the installed modules as part of your tool.  Because that "
   ]
  }
 ],
 "metadata": {
  "kernelspec": {
   "display_name": "Python2",
   "language": "python",
   "name": "python2"
  },
  "language_info": {
   "codemirror_mode": {
    "name": "ipython",
    "version": 2
   },
   "file_extension": ".py",
   "mimetype": "text/x-python",
   "name": "python",
   "nbconvert_exporter": "python",
   "pygments_lexer": "ipython2",
   "version": "2.7.14"
  }
 },
 "nbformat": 4,
 "nbformat_minor": 2
}
