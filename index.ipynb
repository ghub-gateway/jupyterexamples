{
 "cells": [
  {
   "cell_type": "markdown",
   "metadata": {},
   "source": [
    "<div class=\"well well-lg\"><h1>Jupyter Notebook Users Guide</h1></div>"
   ]
  },
  {
   "cell_type": "markdown",
   "metadata": {},
   "source": [
    "This documentation and example set for Jupyter Notebooks describes how to use the notebooks to do calculations, create workflows or tutorials, make plots and animations, and submit codes to cluster resources, using packages that are available on this system. Importantly, it also provides example code showing how to build and deploy Hub tools using Notebooks."
   ]
  },
  {
   "cell_type": "markdown",
   "metadata": {},
   "source": [
    "<div class=\"alert alert-info\">\n",
    "TODO: add info on (or links to): \n",
    "    \n",
    "- plotting geospatial data\n",
    "- using NSIDC packages \n",
    "- EZFeatureTrack (needs some package installs)\n",
    "- Using the Globus Python API\n",
    "        \n",
    "</div>"
   ]
  },
  {
   "cell_type": "markdown",
   "metadata": {},
   "source": [
    "1. [**What is the Notebook?**](manual/intro.ipynb#What-is-the-Notebook?)\n",
    "\n",
    "2. [**Notebook Basics**](manual/basics.ipynb)\n",
    "  * [The Notebook Dashboard](manual/basics.ipynb#The-Notebook-Dashboard)\n",
    "  * [Overview of the Notebook UI](manual/basics.ipynb#Overview-of-the-Notebook-UI)\n",
    "  * [Markdown Cells](manual/markdown.ipynb)\n",
    "      - [Using Images](manual/images.ipynb)\n",
    "  * [Code Cells](manual/Running%20Code.ipynb)\n",
    "\n",
    "\n",
    "3. [**Plotting**](examples/plot/index.ipynb)\n",
    "  - [matplotlib inline plots](examples/plot/matplotlib_inline.ipynb)\n",
    "  - [matplotlib notebook plots](examples/plot/matplotlib_notebook.ipynb)\n",
    "  - [Bokeh](./examples/plot/Bokeh.ipynb)\n",
    "  - [Bokeh with interact](./examples/plot/bokeh-interact.ipynb)  \n",
    "  - [Plotly](./examples/plot/plotly.ipynb)\n",
    "\n",
    "\n",
    "4. **Creating Hub Tools**\n",
    "  - [Building GUIs in Notebooks](./examples/GUI/intro.ipynb)\n",
    "  - [HUBzero Submit](./examples/misc/Submit.ipynb)\n",
    "  - [Publishing Notebooks](manual/publishing.ipynb)\n",
    "  \n",
    "\n",
    "\n",
    "5. **Animations and Video**\n",
    "  - [Animation using Matplotlib](manual/animation.ipynb)\n",
    "  - [Creating and Playing Videos](manual/video.ipynb)\n",
    "\n",
    "\n",
    "6.  [**Language and Package Support**](manual/languages.ipynb)    \n",
    "  - [Using Octave](./examples/examples.ipynb#Gnu-Octave)\n",
    "  - [Math and Symbols](./examples/examples.ipynb#Math-and-Symbols)  \n",
    "  - [Jupyter License](manual/license.ipynb)"
   ]
  },
  {
   "cell_type": "code",
   "execution_count": null,
   "metadata": {},
   "outputs": [],
   "source": []
  }
 ],
 "metadata": {
  "kernelspec": {
   "display_name": "Python 3",
   "language": "python",
   "name": "python3"
  },
  "language_info": {
   "codemirror_mode": {
    "name": "ipython",
    "version": 3
   },
   "file_extension": ".py",
   "mimetype": "text/x-python",
   "name": "python",
   "nbconvert_exporter": "python",
   "pygments_lexer": "ipython3",
   "version": "3.7.7"
  }
 },
 "nbformat": 4,
 "nbformat_minor": 2
}
