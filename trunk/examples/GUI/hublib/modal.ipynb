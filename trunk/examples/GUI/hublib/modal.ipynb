{
 "cells": [
  {
   "cell_type": "markdown",
   "metadata": {},
   "source": [
    "# Modal Widget\n",
    "This notebook demonstrates the use of the Hublib Modal functionality. Run each cell to interact with the modal dialogs."
   ]
  },
  {
   "cell_type": "code",
   "execution_count": 1,
   "metadata": {},
   "outputs": [
    {
     "data": {
      "application/javascript": [
       "\n",
       "requirejs.undef('filepicker');\n",
       "\n",
       "define('filepicker', [\"@jupyter-widgets/base\"], function(widgets) {\n",
       "\n",
       "    var FilePickerView = widgets.DOMWidgetView.extend({\n",
       "        render: function(){\n",
       "            this.file = document.createElement('input');\n",
       "            this.file.setAttribute('class', 'fileinput');\n",
       "            this.file.setAttribute('id', this.cid);\n",
       "            this.file.multiple = this.model.get('multiple');\n",
       "            this.file.required = true;\n",
       "            this.file.setAttribute('type', 'file');\n",
       "            this.file.setAttribute('style', 'display:none');\n",
       "\n",
       "            this.label = document.createElement('label');\n",
       "            this.label.setAttribute('for', this.cid);\n",
       "            this.label.setAttribute('style', 'border: 1px solid; border-radius: 5px; display: inline-block; padding: 6px 12px');\n",
       "\n",
       "            this.icon = document.createElement('i');\n",
       "            this.icon.setAttribute(\"class\", \"fa fa-upload\");\n",
       "\n",
       "            if (this.file.multiple) {\n",
       "                this.labelstr = \"  Upload Files\";\n",
       "            } else {\n",
       "                this.labelstr = \"  Upload File\";\n",
       "            }\n",
       "            this.label.innerHTML = this.labelstr;\n",
       "            this.label.prepend(this.icon);\n",
       "            this.el.appendChild(this.label);\n",
       "            this.el.appendChild(this.file);\n",
       "            this.listenTo(this.model, 'change:send', this._send_changed, this);\n",
       "            this.listenTo(this.model, 'change:reset', this._reset, this);\n",
       "            this.update();\n",
       "        },\n",
       "\n",
       "        events: {\n",
       "            // List of events and their handlers.\n",
       "            'change': 'handle_file_change'\n",
       "        },\n",
       "\n",
       "        _reset: function() {\n",
       "            this.label.innerHTML = this.labelstr;\n",
       "            this.label.prepend(this.icon);\n",
       "            this.file.removeAttribute(\"disabled\");\n",
       "        },\n",
       "\n",
       "        _send_changed: function() {\n",
       "            var that = this;\n",
       "            var send = this.model.get('send');\n",
       "            var fnum = send[0];\n",
       "            var offset = send[1];\n",
       "            var chunk_size=64*1024;\n",
       "            var reader;\n",
       "\n",
       "            if (fnum == -1) {\n",
       "                // ignore\n",
       "                return\n",
       "            }\n",
       "\n",
       "            if (offset == 0) {\n",
       "                this.model.set('sent', -1);\n",
       "                this.touch();\n",
       "            }\n",
       "\n",
       "            // console.log('send: ' + fnum + ' ' + offset);\n",
       "            function tob64( buffer ) {\n",
       "                var binary = '';\n",
       "                var bytes = new Uint8Array( buffer );\n",
       "                var len = bytes.byteLength;\n",
       "                for (var i = 0; i < len; i++) {\n",
       "                    binary += String.fromCharCode( bytes[ i ] );\n",
       "                }\n",
       "                return window.btoa( binary );\n",
       "            }\n",
       "\n",
       "            var reader_done = function (event) {\n",
       "                // chunk is finished.  Send to python\n",
       "                if (event.target.error == null) {\n",
       "                    var b64 = tob64(event.target.result);\n",
       "                    that.model.set('data', b64);\n",
       "                    that.model.set('sent', offset);\n",
       "                    that.touch();\n",
       "                } else {\n",
       "                    console.log(\"Read error: \" + event.target.error);\n",
       "                    that.model.set('data', '');\n",
       "                    that.model.set('sent', -2);\n",
       "                    that.touch();\n",
       "                }\n",
       "                that.touch();\n",
       "            }\n",
       "        \n",
       "            var chunk_reader = function (_offset, _f) {\n",
       "                // console.log('CR' + ' ' + _f + ' ' + _offset);\n",
       "                reader = new FileReader();\n",
       "                var chunk = _f.slice(_offset, chunk_size + _offset);            \n",
       "                reader.readAsArrayBuffer(chunk);\n",
       "                reader.onload = reader_done;\n",
       "            }\n",
       "    \n",
       "            // OK. request next chunk\n",
       "            chunk_reader(offset, this.files[fnum]);\n",
       "        },\n",
       "        \n",
       "        \n",
       "        handle_file_change: function(evt) {\n",
       "\n",
       "            var _files = evt.target.files;\n",
       "            var filenames = [];\n",
       "            var file_readers = [];\n",
       "            this.files = [];\n",
       "\n",
       "            for (var i = 0; i < _files.length; i++) {\n",
       "                var file = _files[i];\n",
       "                console.log(\"Filename: \" + file.name);\n",
       "                console.log(\"Type: \" + file.type);\n",
       "                console.log(\"Size: \" + file.size + \" bytes\");\n",
       "                this.files.push(file);\n",
       "                filenames.push([file.name, file.size]);\n",
       "            };\n",
       "            \n",
       "            // Set the filenames of the files.\n",
       "            this.model.set('filenames', filenames);\n",
       "            this.touch();\n",
       "\n",
       "            // update the label\n",
       "            if (filenames.length == 0) {\n",
       "                this.label.innerHTML = this.labelstr;\n",
       "                this.file.removeAttribute(\"disabled\");\n",
       "            } else if (filenames.length == 1) {\n",
       "                this.label.innerHTML = \"  \" + filenames[0][0];\n",
       "                this.file.setAttribute('disabled', 'true');\n",
       "            } else {\n",
       "                this.label.innerHTML = \"  \" + filenames.length + \" files selected\";\n",
       "                this.file.setAttribute('disabled', 'true');           \n",
       "            };\n",
       "            this.label.prepend(this.icon);\n",
       "        },\n",
       "    });\n",
       "\n",
       "    // Register the FilePickerView with the widget manager.\n",
       "    return {\n",
       "        FilePickerView: FilePickerView\n",
       "    };\n",
       "});\n"
      ],
      "text/plain": [
       "<IPython.core.display.Javascript object>"
      ]
     },
     "metadata": {},
     "output_type": "display_data"
    }
   ],
   "source": [
    "from hublib.ui import Modal"
   ]
  },
  {
   "cell_type": "code",
   "execution_count": 2,
   "metadata": {},
   "outputs": [],
   "source": [
    "def modal_callback(val):\n",
    "    print(\"Modal Dialog Returned\", val)"
   ]
  },
  {
   "cell_type": "code",
   "execution_count": 3,
   "metadata": {},
   "outputs": [
    {
     "data": {
      "application/javascript": [
       "\n",
       "requirejs.undef('modal');\n",
       "define('modal', [\"base/js/dialog\", \"jupyter-js-widgets\"], function(dialog, widgets) {\n",
       "    var ModalView = widgets.DOMWidgetView.extend({\n",
       "        render: function() {\n",
       "            var that = this;\n",
       "            var but = this.model.get('buttons');\n",
       "            var primary = this.model.get('bprim');\n",
       "            var buttons = {};\n",
       "            for (var i = 0; i < but.length; i++) {\n",
       "                if (i === primary) {\n",
       "                    buttons[but[i]] = {class: 'btn-primary'};\n",
       "                } else {\n",
       "                    buttons[but[i]] = {};\n",
       "                }\n",
       "                (function(i) {\n",
       "                    buttons[but[i]].click = function () {that.model.set('value', i); that.touch()};\n",
       "                })(i);\n",
       "            }\n",
       "            dialog.modal({\n",
       "                body: this.model.get('body'),\n",
       "                title: this.model.get('title'),\n",
       "                buttons: buttons\n",
       "            })\n",
       "        },\n",
       "    });\n",
       "    return {\n",
       "        ModalView: ModalView\n",
       "    };\n",
       "});\n"
      ],
      "text/plain": [
       "<IPython.core.display.Javascript object>"
      ]
     },
     "metadata": {},
     "output_type": "display_data"
    },
    {
     "data": {
      "text/html": [
       "\n",
       "<style type=\"text/css\">\n",
       "\n",
       ".modal-dialog {\n",
       "    width: 50%;\n",
       "}\n"
      ],
      "text/plain": [
       "<IPython.core.display.HTML object>"
      ]
     },
     "metadata": {},
     "output_type": "display_data"
    },
    {
     "data": {
      "application/vnd.jupyter.widget-view+json": {
       "model_id": "c29cb1b9661a47829420eaacb6dcc262",
       "version_major": 2,
       "version_minor": 0
      },
      "text/plain": [
       "Modal(body='This is a test modal dialog.', bprim=1, buttons=['CANCEL', 'OK'], title='TEST DIALOG')"
      ]
     },
     "metadata": {},
     "output_type": "display_data"
    },
    {
     "name": "stdout",
     "output_type": "stream",
     "text": [
      "Modal Dialog Returned 1\n"
     ]
    }
   ],
   "source": [
    "Modal(body=\"This is a test modal dialog.\",\n",
    "      title='TEST DIALOG',\n",
    "      icon='fa-bell',\n",
    "      buttons=['CANCEL', 'OK'], \n",
    "      cb=modal_callback)"
   ]
  },
  {
   "cell_type": "code",
   "execution_count": 4,
   "metadata": {},
   "outputs": [
    {
     "data": {
      "application/javascript": [
       "\n",
       "requirejs.undef('modal');\n",
       "define('modal', [\"base/js/dialog\", \"jupyter-js-widgets\"], function(dialog, widgets) {\n",
       "    var ModalView = widgets.DOMWidgetView.extend({\n",
       "        render: function() {\n",
       "            var that = this;\n",
       "            var but = this.model.get('buttons');\n",
       "            var primary = this.model.get('bprim');\n",
       "            var buttons = {};\n",
       "            for (var i = 0; i < but.length; i++) {\n",
       "                if (i === primary) {\n",
       "                    buttons[but[i]] = {class: 'btn-primary'};\n",
       "                } else {\n",
       "                    buttons[but[i]] = {};\n",
       "                }\n",
       "                (function(i) {\n",
       "                    buttons[but[i]].click = function () {that.model.set('value', i); that.touch()};\n",
       "                })(i);\n",
       "            }\n",
       "            dialog.modal({\n",
       "                body: this.model.get('body'),\n",
       "                title: this.model.get('title'),\n",
       "                buttons: buttons\n",
       "            })\n",
       "        },\n",
       "    });\n",
       "    return {\n",
       "        ModalView: ModalView\n",
       "    };\n",
       "});\n"
      ],
      "text/plain": [
       "<IPython.core.display.Javascript object>"
      ]
     },
     "metadata": {},
     "output_type": "display_data"
    },
    {
     "data": {
      "text/html": [
       "\n",
       "<style type=\"text/css\">\n",
       "\n",
       ".modal-dialog {\n",
       "    width: 50%;\n",
       "}\n"
      ],
      "text/plain": [
       "<IPython.core.display.HTML object>"
      ]
     },
     "metadata": {},
     "output_type": "display_data"
    },
    {
     "data": {
      "application/vnd.jupyter.widget-view+json": {
       "model_id": "7bb2398a09114ab5a2155fa1a079f712",
       "version_major": 2,
       "version_minor": 0
      },
      "text/plain": [
       "Modal(body='This is a test modal dialog.', buttons=['CANCEL', 'OK'], title='TEST DIALOG')"
      ]
     },
     "metadata": {},
     "output_type": "display_data"
    },
    {
     "name": "stdout",
     "output_type": "stream",
     "text": [
      "Modal Dialog Returned 1\n"
     ]
    }
   ],
   "source": [
    "Modal(body=\"This is a test modal dialog.\",\n",
    "      title='TEST DIALOG',\n",
    "      buttons=['CANCEL', 'OK'],\n",
    "      primary='CANCEL',\n",
    "      cb=modal_callback)\n"
   ]
  },
  {
   "cell_type": "code",
   "execution_count": 5,
   "metadata": {},
   "outputs": [
    {
     "data": {
      "application/javascript": [
       "\n",
       "requirejs.undef('modal');\n",
       "define('modal', [\"base/js/dialog\", \"jupyter-js-widgets\"], function(dialog, widgets) {\n",
       "    var ModalView = widgets.DOMWidgetView.extend({\n",
       "        render: function() {\n",
       "            var that = this;\n",
       "            var but = this.model.get('buttons');\n",
       "            var primary = this.model.get('bprim');\n",
       "            var buttons = {};\n",
       "            for (var i = 0; i < but.length; i++) {\n",
       "                if (i === primary) {\n",
       "                    buttons[but[i]] = {class: 'btn-primary'};\n",
       "                } else {\n",
       "                    buttons[but[i]] = {};\n",
       "                }\n",
       "                (function(i) {\n",
       "                    buttons[but[i]].click = function () {that.model.set('value', i); that.touch()};\n",
       "                })(i);\n",
       "            }\n",
       "            dialog.modal({\n",
       "                body: this.model.get('body'),\n",
       "                title: this.model.get('title'),\n",
       "                buttons: buttons\n",
       "            })\n",
       "        },\n",
       "    });\n",
       "    return {\n",
       "        ModalView: ModalView\n",
       "    };\n",
       "});\n"
      ],
      "text/plain": [
       "<IPython.core.display.Javascript object>"
      ]
     },
     "metadata": {},
     "output_type": "display_data"
    },
    {
     "data": {
      "text/html": [
       "\n",
       "<style type=\"text/css\">\n",
       "\n",
       ".modal-dialog {\n",
       "    width: 50%;\n",
       "}\n"
      ],
      "text/plain": [
       "<IPython.core.display.HTML object>"
      ]
     },
     "metadata": {},
     "output_type": "display_data"
    },
    {
     "data": {
      "application/vnd.jupyter.widget-view+json": {
       "model_id": "7bca5d87d98d4e619a34ebf052bb7ffa",
       "version_major": 2,
       "version_minor": 0
      },
      "text/plain": [
       "Modal(body='This is a test modal dialog.', bprim=1, buttons=['CANCEL', 'OK'], title='TEST DIALOG')"
      ]
     },
     "metadata": {},
     "output_type": "display_data"
    },
    {
     "name": "stdout",
     "output_type": "stream",
     "text": [
      "Modal Dialog Returned 1\n"
     ]
    }
   ],
   "source": [
    "Modal(body=\"This is a test modal dialog.\",\n",
    "      title='TEST DIALOG',\n",
    "      buttons=['CANCEL', 'OK'],\n",
    "      primary=1,\n",
    "      cb=modal_callback)\n"
   ]
  }
 ],
 "metadata": {
  "kernelspec": {
   "display_name": "Python 3",
   "language": "python",
   "name": "python3"
  },
  "language_info": {
   "codemirror_mode": {
    "name": "ipython",
    "version": 3
   },
   "file_extension": ".py",
   "mimetype": "text/x-python",
   "name": "python",
   "nbconvert_exporter": "python",
   "pygments_lexer": "ipython3",
   "version": "3.7.7"
  }
 },
 "nbformat": 4,
 "nbformat_minor": 2
}
