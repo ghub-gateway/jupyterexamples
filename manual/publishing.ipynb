{
 "cells": [
  {
   "cell_type": "markdown",
   "metadata": {},
   "source": [
    "# Publishing Notebooks and Notebook-based Tools"
   ]
  },
  {
   "cell_type": "markdown",
   "metadata": {},
   "source": [
    "## What is Publishing?\n",
    "\n",
    "\n",
    "Publishing a notebook is similar to publishing anything on the hub platform. By publishing your work you will:\n",
    "\n",
    "* Make your work available to others.\n",
    "* Allow others to cite your work. \n",
    "\n",
    "To do this, you will have to go to https://vhub.org/tools/create and follow the process described there.  Detailed notes follow."
   ]
  },
  {
   "cell_type": "markdown",
   "metadata": {},
   "source": [
    "## Notebooks vs. Notebook-based Tools"
   ]
  },
  {
   "cell_type": "markdown",
   "metadata": {},
   "source": [
    "Publishing a notebook is a way to make your notebook available for others to run. To do so, users step through the cells manually (or select \"Cell/Run All\"). Additionally, users can make changes to the notebook as they tinker with it, but these won't be saved to the published notebook. This is great for tutorials and workflows, but may be distracting for complex tools where you don't want the users to see the code cells.  \n",
    "\n",
    "A \"Notebook-based Tool\", however, is a notebook that runs automatically.  Code cells are hidden. You can include interactive widgets to collect inputs or visualize the outputs.  "
   ]
  },
  {
   "cell_type": "markdown",
   "metadata": {},
   "source": [
    "## Publishing Notebooks\n",
    "\n",
    "For detailed information, see our Knowledge Base article: [Publishing Notebooks](https://vhub.org/kb/Development/pubjnotebook). "
   ]
  },
  {
   "cell_type": "markdown",
   "metadata": {},
   "source": [
    "## Publishing Notebook-based Tools\n",
    "\n",
    "For detailed information, see our Knowledge Base article: [Publishing Tools](https://vhub.org/kb/Development/deploy-styles-for-jupyter-tools). \n"
   ]
  },
  {
   "cell_type": "markdown",
   "metadata": {},
   "source": [
    "## Using Kernels\n",
    "\n",
    "Various kernels are available on this Hub, supporting different languages and specialized packages. \n",
    "\n",
    "For full details about available kernels and their installed packages, refer to: [Languages](manual/languages.ipynb)"
   ]
  },
  {
   "cell_type": "markdown",
   "metadata": {},
   "source": [
    "## Invoke scripts\n",
    "\n",
    "Invoke scripts are necessary to run your published Notebook or Notebook-based tool.  \n",
    "\n",
    "For information about invoke scripts for Jupyter notebooks, see: https://vhub.org/kb/Development/invoke-scripts-for-jupyter-notebooks"
   ]
  },
  {
   "cell_type": "code",
   "execution_count": 1,
   "metadata": {
    "scrolled": true
   },
   "outputs": [
    {
     "name": "stdout",
     "output_type": "stream",
     "text": [
      "#!/bin/sh\r\n",
      "\r\n",
      "/usr/bin/invoke_app \"$@\" \\\r\n",
      "\t-C \"start_jupyter -T @tool R-Example-Zoo.ipynb\" \\\r\n",
      "        -r none \\\r\n",
      "\t-u anaconda-6\r\n"
     ]
    }
   ],
   "source": [
    "# example:\n",
    "!cat /apps/rintro/dev/middleware/invoke"
   ]
  },
  {
   "cell_type": "markdown",
   "metadata": {},
   "source": [
    "For more information on invoke scripts, see https://help.hubzero.org/documentation/220/tooldevs/invoke\n",
    "\n",
    "For general developers information, see https://help.hubzero.org/documentation/220/tooldevs"
   ]
  },
  {
   "cell_type": "markdown",
   "metadata": {},
   "source": [
    "# Hiding Sources\n",
    "\n",
    "The new Appmode does not keep curious users from exiting Appmode and looking at your python code.  If you wish to keep your source code private, we recommend compiling your python code and publishing only the \".pyc\" files.  More details and examples coming..."
   ]
  }
 ],
 "metadata": {
  "kernelspec": {
   "display_name": "Python 3",
   "language": "python",
   "name": "python3"
  },
  "language_info": {
   "codemirror_mode": {
    "name": "ipython",
    "version": 3
   },
   "file_extension": ".py",
   "mimetype": "text/x-python",
   "name": "python",
   "nbconvert_exporter": "python",
   "pygments_lexer": "ipython3",
   "version": "3.7.7"
  }
 },
 "nbformat": 4,
 "nbformat_minor": 1
}
