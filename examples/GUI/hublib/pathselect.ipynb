{
 "cells": [
  {
   "cell_type": "markdown",
   "metadata": {},
   "source": [
    "# PathSelector Widget\n",
    "This notebook demonstrates the use of the Hublib PathSelector functionality. Run each cell to interact with the widget. \n",
    "\n",
    "Notice that this particular widget provides access to readable locations on the Hub server only, for example, the `/data` directory."
   ]
  },
  {
   "cell_type": "code",
   "execution_count": 1,
   "metadata": {},
   "outputs": [
    {
     "data": {
      "application/javascript": [
       "\n",
       "requirejs.undef('filepicker');\n",
       "\n",
       "define('filepicker', [\"@jupyter-widgets/base\"], function(widgets) {\n",
       "\n",
       "    var FilePickerView = widgets.DOMWidgetView.extend({\n",
       "        render: function(){\n",
       "            this.file = document.createElement('input');\n",
       "            this.file.setAttribute('class', 'fileinput');\n",
       "            this.file.setAttribute('id', this.cid);\n",
       "            this.file.multiple = this.model.get('multiple');\n",
       "            this.file.required = true;\n",
       "            this.file.setAttribute('type', 'file');\n",
       "            this.file.setAttribute('style', 'display:none');\n",
       "\n",
       "            this.label = document.createElement('label');\n",
       "            this.label.setAttribute('for', this.cid);\n",
       "            this.label.setAttribute('style', 'border: 1px solid; border-radius: 5px; display: inline-block; padding: 6px 12px');\n",
       "\n",
       "            this.icon = document.createElement('i');\n",
       "            this.icon.setAttribute(\"class\", \"fa fa-upload\");\n",
       "\n",
       "            if (this.file.multiple) {\n",
       "                this.labelstr = \"  Upload Files\";\n",
       "            } else {\n",
       "                this.labelstr = \"  Upload File\";\n",
       "            }\n",
       "            this.label.innerHTML = this.labelstr;\n",
       "            this.label.prepend(this.icon);\n",
       "            this.el.appendChild(this.label);\n",
       "            this.el.appendChild(this.file);\n",
       "            this.listenTo(this.model, 'change:send', this._send_changed, this);\n",
       "            this.listenTo(this.model, 'change:reset', this._reset, this);\n",
       "            this.update();\n",
       "        },\n",
       "\n",
       "        events: {\n",
       "            // List of events and their handlers.\n",
       "            'change': 'handle_file_change'\n",
       "        },\n",
       "\n",
       "        _reset: function() {\n",
       "            this.label.innerHTML = this.labelstr;\n",
       "            this.label.prepend(this.icon);\n",
       "            this.file.removeAttribute(\"disabled\");\n",
       "        },\n",
       "\n",
       "        _send_changed: function() {\n",
       "            var that = this;\n",
       "            var send = this.model.get('send');\n",
       "            var fnum = send[0];\n",
       "            var offset = send[1];\n",
       "            var chunk_size=64*1024;\n",
       "            var reader;\n",
       "\n",
       "            if (fnum == -1) {\n",
       "                // ignore\n",
       "                return\n",
       "            }\n",
       "\n",
       "            if (offset == 0) {\n",
       "                this.model.set('sent', -1);\n",
       "                this.touch();\n",
       "            }\n",
       "\n",
       "            // console.log('send: ' + fnum + ' ' + offset);\n",
       "            function tob64( buffer ) {\n",
       "                var binary = '';\n",
       "                var bytes = new Uint8Array( buffer );\n",
       "                var len = bytes.byteLength;\n",
       "                for (var i = 0; i < len; i++) {\n",
       "                    binary += String.fromCharCode( bytes[ i ] );\n",
       "                }\n",
       "                return window.btoa( binary );\n",
       "            }\n",
       "\n",
       "            var reader_done = function (event) {\n",
       "                // chunk is finished.  Send to python\n",
       "                if (event.target.error == null) {\n",
       "                    var b64 = tob64(event.target.result);\n",
       "                    that.model.set('data', b64);\n",
       "                    that.model.set('sent', offset);\n",
       "                    that.touch();\n",
       "                } else {\n",
       "                    console.log(\"Read error: \" + event.target.error);\n",
       "                    that.model.set('data', '');\n",
       "                    that.model.set('sent', -2);\n",
       "                    that.touch();\n",
       "                }\n",
       "                that.touch();\n",
       "            }\n",
       "        \n",
       "            var chunk_reader = function (_offset, _f) {\n",
       "                // console.log('CR' + ' ' + _f + ' ' + _offset);\n",
       "                reader = new FileReader();\n",
       "                var chunk = _f.slice(_offset, chunk_size + _offset);            \n",
       "                reader.readAsArrayBuffer(chunk);\n",
       "                reader.onload = reader_done;\n",
       "            }\n",
       "    \n",
       "            // OK. request next chunk\n",
       "            chunk_reader(offset, this.files[fnum]);\n",
       "        },\n",
       "        \n",
       "        \n",
       "        handle_file_change: function(evt) {\n",
       "\n",
       "            var _files = evt.target.files;\n",
       "            var filenames = [];\n",
       "            var file_readers = [];\n",
       "            this.files = [];\n",
       "\n",
       "            for (var i = 0; i < _files.length; i++) {\n",
       "                var file = _files[i];\n",
       "                console.log(\"Filename: \" + file.name);\n",
       "                console.log(\"Type: \" + file.type);\n",
       "                console.log(\"Size: \" + file.size + \" bytes\");\n",
       "                this.files.push(file);\n",
       "                filenames.push([file.name, file.size]);\n",
       "            };\n",
       "            \n",
       "            // Set the filenames of the files.\n",
       "            this.model.set('filenames', filenames);\n",
       "            this.touch();\n",
       "\n",
       "            // update the label\n",
       "            if (filenames.length == 0) {\n",
       "                this.label.innerHTML = this.labelstr;\n",
       "                this.file.removeAttribute(\"disabled\");\n",
       "            } else if (filenames.length == 1) {\n",
       "                this.label.innerHTML = \"  \" + filenames[0][0];\n",
       "                this.file.setAttribute('disabled', 'true');\n",
       "            } else {\n",
       "                this.label.innerHTML = \"  \" + filenames.length + \" files selected\";\n",
       "                this.file.setAttribute('disabled', 'true');           \n",
       "            };\n",
       "            this.label.prepend(this.icon);\n",
       "        },\n",
       "    });\n",
       "\n",
       "    // Register the FilePickerView with the widget manager.\n",
       "    return {\n",
       "        FilePickerView: FilePickerView\n",
       "    };\n",
       "});\n"
      ],
      "text/plain": [
       "<IPython.core.display.Javascript object>"
      ]
     },
     "metadata": {},
     "output_type": "display_data"
    }
   ],
   "source": [
    "from hublib.ui import PathSelector"
   ]
  },
  {
   "cell_type": "markdown",
   "metadata": {},
   "source": [
    "The PathSelector widget allows the user to choose a path in the server (container).  It cannot access files\n",
    "from the user's computer."
   ]
  },
  {
   "cell_type": "code",
   "execution_count": 6,
   "metadata": {
    "scrolled": false
   },
   "outputs": [
    {
     "data": {
      "application/vnd.jupyter.widget-view+json": {
       "model_id": "7b406a9ab48c417d854d5d920a4db0ff",
       "version_major": 2,
       "version_minor": 0
      },
      "text/plain": [
       "Accordion(children=(SelectMultiple(options=(('[..]', '..'), ('[groups]', 'groups'), ('[lost+found]', 'lost+fou…"
      ]
     },
     "metadata": {},
     "output_type": "display_data"
    }
   ],
   "source": [
    "p = PathSelector('/data', select_file=False)\n",
    "p"
   ]
  },
  {
   "cell_type": "markdown",
   "metadata": {},
   "source": [
    "`p.value` displays the path to the currently selected directory:"
   ]
  },
  {
   "cell_type": "code",
   "execution_count": 7,
   "metadata": {
    "scrolled": true
   },
   "outputs": [
    {
     "data": {
      "text/plain": [
       "'/data'"
      ]
     },
     "execution_count": 7,
     "metadata": {},
     "output_type": "execute_result"
    }
   ],
   "source": [
    "p.value"
   ]
  },
  {
   "cell_type": "markdown",
   "metadata": {},
   "source": [
    "## Selecting Files"
   ]
  },
  {
   "cell_type": "markdown",
   "metadata": {},
   "source": [
    "Setting `select_file=True` enables the selection of files using this widget:"
   ]
  },
  {
   "cell_type": "code",
   "execution_count": 14,
   "metadata": {
    "scrolled": true
   },
   "outputs": [
    {
     "data": {
      "application/vnd.jupyter.widget-view+json": {
       "model_id": "0ac4ecbb9bd34370ae592fc0be83d0a5",
       "version_major": 2,
       "version_minor": 0
      },
      "text/plain": [
       "Accordion(children=(SelectMultiple(options=(('[..]', '..'), ('[groups]', 'groups'), ('[lost+found]', 'lost+fou…"
      ]
     },
     "metadata": {},
     "output_type": "display_data"
    }
   ],
   "source": [
    "pf = PathSelector('/data', select_file=True)\n",
    "pf"
   ]
  },
  {
   "cell_type": "markdown",
   "metadata": {},
   "source": [
    "If a file has been selected, its full path can be determined from `pf.file`. Select a file using the selector above, then run the cell below to view its path:"
   ]
  },
  {
   "cell_type": "code",
   "execution_count": 15,
   "metadata": {},
   "outputs": [
    {
     "data": {
      "text/plain": [
       "'/data/groups/ghub/tools/cmctgm/lithk_GIS_JPL_ISSM_asmb.nc'"
      ]
     },
     "execution_count": 15,
     "metadata": {},
     "output_type": "execute_result"
    }
   ],
   "source": [
    "pf.file"
   ]
  },
  {
   "cell_type": "code",
   "execution_count": 16,
   "metadata": {},
   "outputs": [],
   "source": [
    "pf.visible=False"
   ]
  },
  {
   "cell_type": "code",
   "execution_count": 17,
   "metadata": {},
   "outputs": [],
   "source": [
    "pf.visible=True"
   ]
  },
  {
   "cell_type": "code",
   "execution_count": 18,
   "metadata": {},
   "outputs": [
    {
     "data": {
      "text/plain": [
       "False"
      ]
     },
     "execution_count": 18,
     "metadata": {},
     "output_type": "execute_result"
    }
   ],
   "source": [
    "pf.disabled"
   ]
  },
  {
   "cell_type": "code",
   "execution_count": 19,
   "metadata": {},
   "outputs": [],
   "source": [
    "pf.disabled=True"
   ]
  },
  {
   "cell_type": "code",
   "execution_count": 20,
   "metadata": {},
   "outputs": [],
   "source": [
    "pf.disabled=False"
   ]
  },
  {
   "cell_type": "code",
   "execution_count": null,
   "metadata": {},
   "outputs": [],
   "source": []
  }
 ],
 "metadata": {
  "kernelspec": {
   "display_name": "Python 3",
   "language": "python",
   "name": "python3"
  },
  "language_info": {
   "codemirror_mode": {
    "name": "ipython",
    "version": 3
   },
   "file_extension": ".py",
   "mimetype": "text/x-python",
   "name": "python",
   "nbconvert_exporter": "python",
   "pygments_lexer": "ipython3",
   "version": "3.7.7"
  }
 },
 "nbformat": 4,
 "nbformat_minor": 2
}
