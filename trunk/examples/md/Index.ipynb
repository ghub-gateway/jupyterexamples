{
 "cells": [
  {
   "cell_type": "markdown",
   "metadata": {},
   "source": [
    "<div style=\"background-color: #E6E6FA\">\n",
    "<center><h1 style=\"font-family:serif; font-size:48px\">Atoms and Molecules</h1></center>\n",
    "</div>"
   ]
  },
  {
   "cell_type": "markdown",
   "metadata": {},
   "source": [
    "# Libraries\n",
    "\n",
    "## RDKit: Open-Source Cheminformatics Software http://www.rdkit.org/ \n",
    "\n",
    "NOTE: Not installed in anaconda4.4!!!\n",
    "\n",
    "Here is an example using RDKit and py3Dmol: [Trying py3Dmol](TryingPy3Dmol.ipynb)\n",
    "\n",
    "[Basic Chemistry Example](basic_chem.ipynb)\n",
    "\n",
    "## AtomMan https://github.com/usnistgov/atomman\n",
    "AtomMan: the Atomistic Manipulation Toolkit is a Python library for interacting with large-scale atomic systems. The focus of the package is to facilitate the rapid design and development of simulations that are fully documented and easily adaptable to new potentials/atomic arrangements/etc. All of the property calculation scripts in iprPy use atomman.\n",
    "* Allows for efficient and fast calculations on millions of atoms, each with many freely defined per-atom properties.\n",
    "* Create dislocation monopoles and evaluate them with differential displacement and Nye tensor plots.\n",
    "* Generate point defects.\n",
    "* Call LAMMPS directly from Python and instantly retrieve the resulting data or LAMMPS error statement.\n",
    "* Easily convert systems to/from the other Python atomic environments of ASE and PyMatGen.\n",
    "* Can create systems based on CIF crystal structure files, and LAMMPS atom and dump files.\n",
    "* Built-in unit conversions.\n",
    "\n",
    "Demos: [atomman](atomman)\n",
    "\n",
    "## Atomic Simulation Environment https://wiki.fysik.dtu.dk/ase/\n",
    "\n",
    "The Atomic Simulation Environment (ASE) is a set of tools and Python modules for setting up, manipulating, running, visualizing and analyzing atomistic simulations.\n",
    "\n",
    "## MDAnalysis  http://www.mdanalysis.org/\n",
    "MDAnalysis is an object-oriented Python library to analyze trajectories from molecular dynamics (MD) simulations in many popular formats. It can write most of these formats, too, together with atom selections suitable for visualization or native analysis tools.\n",
    "\n",
    "\n",
    "## MDTraj http://mdtraj.org/\n",
    "MDTraj is a python library that allows users to manipulate molecular dynamics (MD) trajectories. Features include:\n",
    "\n",
    "* Wide MD format support, including pdb, xtc, trr, dcd, binpos, netcdf, mdcrd, prmtop, and more.\n",
    "* Extremely fast RMSD calculations (4x the speed of the original Theobald QCP).\n",
    "* Extensive analysis functions including those that compute bonds, angles, dihedrals, hydrogen bonds, secondary structure, and NMR observables.\n",
    "* Lightweight, Pythonic API."
   ]
  },
  {
   "cell_type": "markdown",
   "metadata": {},
   "source": [
    "# Viewers\n",
    "\n",
    "## NGLView http://arose.github.io/nglview/latest/\n",
    "An IPython/Jupyter widget to interactively view molecular structures and trajectories. Utilizes the embeddable NGL Viewer for rendering. Support for showing data from the file-system, RCSB PDB, simpletraj and from objects of analysis libraries mdtraj, pytraj, mdanalysis.\n",
    "\n",
    "Demos:\n",
    "* [Basic Test](nglview1.ipynb)\n",
    "* [Representations](nglview_representations.ipynb)\n",
    "\n",
    "## py3Dmol https://github.com/3dmol/3Dmol.js/tree/master/py3Dmol\n",
    "A simple IPython/Jupyter widget to embed an interactive [3Dmol.js](https://3dmol.csb.pitt.edu/) viewer in a notebook.\n",
    "* [Basic Demo](py3dmol_1.ipynb)\n",
    "* [Trying py3Dmol](TryingPy3Dmol.ipynb)\n"
   ]
  }
 ],
 "metadata": {
  "kernelspec": {
   "display_name": "Python 3",
   "language": "python",
   "name": "python3"
  },
  "language_info": {
   "codemirror_mode": {
    "name": "ipython",
    "version": 3
   },
   "file_extension": ".py",
   "mimetype": "text/x-python",
   "name": "python",
   "nbconvert_exporter": "python",
   "pygments_lexer": "ipython3",
   "version": "3.7.7"
  }
 },
 "nbformat": 4,
 "nbformat_minor": 1
}
