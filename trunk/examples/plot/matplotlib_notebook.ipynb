{
 "cells": [
  {
   "cell_type": "markdown",
   "metadata": {
    "extensions": {
     "jupyter_dashboards": {
      "version": 1,
      "views": {
       "grid_default": {
        "col": 0,
        "height": 5,
        "hidden": false,
        "row": 0,
        "width": 12
       },
       "report_default": {}
      }
     }
    }
   },
   "source": [
    "# matplotlib\n",
    "\n",
    "The most common python plotting library is matplotlib. Matplotlib provides an advanced\n",
    "object-oriented interface and a Matlab-like interface called **pyplot**\n",
    "\n",
    "You can see some examples of it in action at:\n",
    "https://matplotlib.org/gallery.html\n",
    "\n",
    "Step through and run each cell to demonstrate matplotlib's capabilities."
   ]
  },
  {
   "cell_type": "markdown",
   "metadata": {
    "extensions": {
     "jupyter_dashboards": {
      "version": 1,
      "views": {
       "grid_default": {
        "col": 0,
        "height": 7,
        "hidden": false,
        "row": 5,
        "width": 12
       },
       "report_default": {}
      }
     }
    }
   },
   "source": [
    "## matplotlib notebook\n",
    "\n",
    "Matplotlib can interact with Jupyter in two different ways; \"inline\" and \"notebook\".  \"Inline\" mode writes static images directly into the output cell.\n",
    "\"Notebook\" mode creates an interactive output widget.\n",
    "\n",
    "Changing between the two modes in a single notebook is discouraged.  Best practice is to declare one at the beginning of your notebook using the appropriate line magic.  For example,\n",
    "\n",
    "``` python\n",
    "%matplotlib notebook\n",
    "import matplotlib.pyplot as plt```"
   ]
  },
  {
   "cell_type": "markdown",
   "metadata": {},
   "source": [
    "<div class=\"alert alert-info\">\n",
    "Note:\n",
    "    \"%matplotlib widget\" is deprecated and will not work with JupyterLab.  Use \"%matplotlib notebook\" instead\n",
    "</div>"
   ]
  },
  {
   "cell_type": "code",
   "execution_count": 1,
   "metadata": {
    "extensions": {
     "jupyter_dashboards": {
      "version": 1,
      "views": {
       "grid_default": {
        "hidden": true
       },
       "report_default": {}
      }
     }
    },
    "scrolled": true
   },
   "outputs": [],
   "source": [
    "%matplotlib notebook"
   ]
  },
  {
   "cell_type": "code",
   "execution_count": 2,
   "metadata": {
    "scrolled": true
   },
   "outputs": [],
   "source": [
    "import numpy as np\n",
    "import matplotlib\n",
    "import matplotlib.pyplot as plt"
   ]
  },
  {
   "cell_type": "markdown",
   "metadata": {
    "extensions": {
     "jupyter_dashboards": {
      "version": 1,
      "views": {
       "grid_default": {
        "col": 0,
        "height": 4,
        "hidden": false,
        "row": 12,
        "width": 4
       },
       "report_default": {}
      }
     }
    }
   },
   "source": [
    "## Simple Example"
   ]
  },
  {
   "cell_type": "code",
   "execution_count": 3,
   "metadata": {
    "extensions": {
     "jupyter_dashboards": {
      "version": 1,
      "views": {
       "grid_default": {
        "col": 4,
        "height": 19,
        "hidden": false,
        "row": 12,
        "width": 5
       },
       "report_default": {}
      }
     }
    }
   },
   "outputs": [
    {
     "data": {
      "application/javascript": [
       "/* Put everything inside the global mpl namespace */\n",
       "/* global mpl */\n",
       "window.mpl = {};\n",
       "\n",
       "mpl.get_websocket_type = function () {\n",
       "    if (typeof WebSocket !== 'undefined') {\n",
       "        return WebSocket;\n",
       "    } else if (typeof MozWebSocket !== 'undefined') {\n",
       "        return MozWebSocket;\n",
       "    } else {\n",
       "        alert(\n",
       "            'Your browser does not have WebSocket support. ' +\n",
       "                'Please try Chrome, Safari or Firefox ≥ 6. ' +\n",
       "                'Firefox 4 and 5 are also supported but you ' +\n",
       "                'have to enable WebSockets in about:config.'\n",
       "        );\n",
       "    }\n",
       "};\n",
       "\n",
       "mpl.figure = function (figure_id, websocket, ondownload, parent_element) {\n",
       "    this.id = figure_id;\n",
       "\n",
       "    this.ws = websocket;\n",
       "\n",
       "    this.supports_binary = this.ws.binaryType !== undefined;\n",
       "\n",
       "    if (!this.supports_binary) {\n",
       "        var warnings = document.getElementById('mpl-warnings');\n",
       "        if (warnings) {\n",
       "            warnings.style.display = 'block';\n",
       "            warnings.textContent =\n",
       "                'This browser does not support binary websocket messages. ' +\n",
       "                'Performance may be slow.';\n",
       "        }\n",
       "    }\n",
       "\n",
       "    this.imageObj = new Image();\n",
       "\n",
       "    this.context = undefined;\n",
       "    this.message = undefined;\n",
       "    this.canvas = undefined;\n",
       "    this.rubberband_canvas = undefined;\n",
       "    this.rubberband_context = undefined;\n",
       "    this.format_dropdown = undefined;\n",
       "\n",
       "    this.image_mode = 'full';\n",
       "\n",
       "    this.root = document.createElement('div');\n",
       "    this.root.setAttribute('style', 'display: inline-block');\n",
       "    this._root_extra_style(this.root);\n",
       "\n",
       "    parent_element.appendChild(this.root);\n",
       "\n",
       "    this._init_header(this);\n",
       "    this._init_canvas(this);\n",
       "    this._init_toolbar(this);\n",
       "\n",
       "    var fig = this;\n",
       "\n",
       "    this.waiting = false;\n",
       "\n",
       "    this.ws.onopen = function () {\n",
       "        fig.send_message('supports_binary', { value: fig.supports_binary });\n",
       "        fig.send_message('send_image_mode', {});\n",
       "        if (fig.ratio !== 1) {\n",
       "            fig.send_message('set_dpi_ratio', { dpi_ratio: fig.ratio });\n",
       "        }\n",
       "        fig.send_message('refresh', {});\n",
       "    };\n",
       "\n",
       "    this.imageObj.onload = function () {\n",
       "        if (fig.image_mode === 'full') {\n",
       "            // Full images could contain transparency (where diff images\n",
       "            // almost always do), so we need to clear the canvas so that\n",
       "            // there is no ghosting.\n",
       "            fig.context.clearRect(0, 0, fig.canvas.width, fig.canvas.height);\n",
       "        }\n",
       "        fig.context.drawImage(fig.imageObj, 0, 0);\n",
       "    };\n",
       "\n",
       "    this.imageObj.onunload = function () {\n",
       "        fig.ws.close();\n",
       "    };\n",
       "\n",
       "    this.ws.onmessage = this._make_on_message_function(this);\n",
       "\n",
       "    this.ondownload = ondownload;\n",
       "};\n",
       "\n",
       "mpl.figure.prototype._init_header = function () {\n",
       "    var titlebar = document.createElement('div');\n",
       "    titlebar.classList =\n",
       "        'ui-dialog-titlebar ui-widget-header ui-corner-all ui-helper-clearfix';\n",
       "    var titletext = document.createElement('div');\n",
       "    titletext.classList = 'ui-dialog-title';\n",
       "    titletext.setAttribute(\n",
       "        'style',\n",
       "        'width: 100%; text-align: center; padding: 3px;'\n",
       "    );\n",
       "    titlebar.appendChild(titletext);\n",
       "    this.root.appendChild(titlebar);\n",
       "    this.header = titletext;\n",
       "};\n",
       "\n",
       "mpl.figure.prototype._canvas_extra_style = function (_canvas_div) {};\n",
       "\n",
       "mpl.figure.prototype._root_extra_style = function (_canvas_div) {};\n",
       "\n",
       "mpl.figure.prototype._init_canvas = function () {\n",
       "    var fig = this;\n",
       "\n",
       "    var canvas_div = (this.canvas_div = document.createElement('div'));\n",
       "    canvas_div.setAttribute(\n",
       "        'style',\n",
       "        'border: 1px solid #ddd;' +\n",
       "            'box-sizing: content-box;' +\n",
       "            'clear: both;' +\n",
       "            'min-height: 1px;' +\n",
       "            'min-width: 1px;' +\n",
       "            'outline: 0;' +\n",
       "            'overflow: hidden;' +\n",
       "            'position: relative;' +\n",
       "            'resize: both;'\n",
       "    );\n",
       "\n",
       "    function on_keyboard_event_closure(name) {\n",
       "        return function (event) {\n",
       "            return fig.key_event(event, name);\n",
       "        };\n",
       "    }\n",
       "\n",
       "    canvas_div.addEventListener(\n",
       "        'keydown',\n",
       "        on_keyboard_event_closure('key_press')\n",
       "    );\n",
       "    canvas_div.addEventListener(\n",
       "        'keyup',\n",
       "        on_keyboard_event_closure('key_release')\n",
       "    );\n",
       "\n",
       "    this._canvas_extra_style(canvas_div);\n",
       "    this.root.appendChild(canvas_div);\n",
       "\n",
       "    var canvas = (this.canvas = document.createElement('canvas'));\n",
       "    canvas.classList.add('mpl-canvas');\n",
       "    canvas.setAttribute('style', 'box-sizing: content-box;');\n",
       "\n",
       "    this.context = canvas.getContext('2d');\n",
       "\n",
       "    var backingStore =\n",
       "        this.context.backingStorePixelRatio ||\n",
       "        this.context.webkitBackingStorePixelRatio ||\n",
       "        this.context.mozBackingStorePixelRatio ||\n",
       "        this.context.msBackingStorePixelRatio ||\n",
       "        this.context.oBackingStorePixelRatio ||\n",
       "        this.context.backingStorePixelRatio ||\n",
       "        1;\n",
       "\n",
       "    this.ratio = (window.devicePixelRatio || 1) / backingStore;\n",
       "    if (this.ratio !== 1) {\n",
       "        fig.send_message('set_dpi_ratio', { dpi_ratio: this.ratio });\n",
       "    }\n",
       "\n",
       "    var rubberband_canvas = (this.rubberband_canvas = document.createElement(\n",
       "        'canvas'\n",
       "    ));\n",
       "    rubberband_canvas.setAttribute(\n",
       "        'style',\n",
       "        'box-sizing: content-box; position: absolute; left: 0; top: 0; z-index: 1;'\n",
       "    );\n",
       "\n",
       "    var resizeObserver = new ResizeObserver(function (entries) {\n",
       "        var nentries = entries.length;\n",
       "        for (var i = 0; i < nentries; i++) {\n",
       "            var entry = entries[i];\n",
       "            var width, height;\n",
       "            if (entry.contentBoxSize) {\n",
       "                if (entry.contentBoxSize instanceof Array) {\n",
       "                    // Chrome 84 implements new version of spec.\n",
       "                    width = entry.contentBoxSize[0].inlineSize;\n",
       "                    height = entry.contentBoxSize[0].blockSize;\n",
       "                } else {\n",
       "                    // Firefox implements old version of spec.\n",
       "                    width = entry.contentBoxSize.inlineSize;\n",
       "                    height = entry.contentBoxSize.blockSize;\n",
       "                }\n",
       "            } else {\n",
       "                // Chrome <84 implements even older version of spec.\n",
       "                width = entry.contentRect.width;\n",
       "                height = entry.contentRect.height;\n",
       "            }\n",
       "\n",
       "            // Keep the size of the canvas and rubber band canvas in sync with\n",
       "            // the canvas container.\n",
       "            if (entry.devicePixelContentBoxSize) {\n",
       "                // Chrome 84 implements new version of spec.\n",
       "                canvas.setAttribute(\n",
       "                    'width',\n",
       "                    entry.devicePixelContentBoxSize[0].inlineSize\n",
       "                );\n",
       "                canvas.setAttribute(\n",
       "                    'height',\n",
       "                    entry.devicePixelContentBoxSize[0].blockSize\n",
       "                );\n",
       "            } else {\n",
       "                canvas.setAttribute('width', width * fig.ratio);\n",
       "                canvas.setAttribute('height', height * fig.ratio);\n",
       "            }\n",
       "            canvas.setAttribute(\n",
       "                'style',\n",
       "                'width: ' + width + 'px; height: ' + height + 'px;'\n",
       "            );\n",
       "\n",
       "            rubberband_canvas.setAttribute('width', width);\n",
       "            rubberband_canvas.setAttribute('height', height);\n",
       "\n",
       "            // And update the size in Python. We ignore the initial 0/0 size\n",
       "            // that occurs as the element is placed into the DOM, which should\n",
       "            // otherwise not happen due to the minimum size styling.\n",
       "            if (width != 0 && height != 0) {\n",
       "                fig.request_resize(width, height);\n",
       "            }\n",
       "        }\n",
       "    });\n",
       "    resizeObserver.observe(canvas_div);\n",
       "\n",
       "    function on_mouse_event_closure(name) {\n",
       "        return function (event) {\n",
       "            return fig.mouse_event(event, name);\n",
       "        };\n",
       "    }\n",
       "\n",
       "    rubberband_canvas.addEventListener(\n",
       "        'mousedown',\n",
       "        on_mouse_event_closure('button_press')\n",
       "    );\n",
       "    rubberband_canvas.addEventListener(\n",
       "        'mouseup',\n",
       "        on_mouse_event_closure('button_release')\n",
       "    );\n",
       "    // Throttle sequential mouse events to 1 every 20ms.\n",
       "    rubberband_canvas.addEventListener(\n",
       "        'mousemove',\n",
       "        on_mouse_event_closure('motion_notify')\n",
       "    );\n",
       "\n",
       "    rubberband_canvas.addEventListener(\n",
       "        'mouseenter',\n",
       "        on_mouse_event_closure('figure_enter')\n",
       "    );\n",
       "    rubberband_canvas.addEventListener(\n",
       "        'mouseleave',\n",
       "        on_mouse_event_closure('figure_leave')\n",
       "    );\n",
       "\n",
       "    canvas_div.addEventListener('wheel', function (event) {\n",
       "        if (event.deltaY < 0) {\n",
       "            event.step = 1;\n",
       "        } else {\n",
       "            event.step = -1;\n",
       "        }\n",
       "        on_mouse_event_closure('scroll')(event);\n",
       "    });\n",
       "\n",
       "    canvas_div.appendChild(canvas);\n",
       "    canvas_div.appendChild(rubberband_canvas);\n",
       "\n",
       "    this.rubberband_context = rubberband_canvas.getContext('2d');\n",
       "    this.rubberband_context.strokeStyle = '#000000';\n",
       "\n",
       "    this._resize_canvas = function (width, height, forward) {\n",
       "        if (forward) {\n",
       "            canvas_div.style.width = width + 'px';\n",
       "            canvas_div.style.height = height + 'px';\n",
       "        }\n",
       "    };\n",
       "\n",
       "    // Disable right mouse context menu.\n",
       "    this.rubberband_canvas.addEventListener('contextmenu', function (_e) {\n",
       "        event.preventDefault();\n",
       "        return false;\n",
       "    });\n",
       "\n",
       "    function set_focus() {\n",
       "        canvas.focus();\n",
       "        canvas_div.focus();\n",
       "    }\n",
       "\n",
       "    window.setTimeout(set_focus, 100);\n",
       "};\n",
       "\n",
       "mpl.figure.prototype._init_toolbar = function () {\n",
       "    var fig = this;\n",
       "\n",
       "    var toolbar = document.createElement('div');\n",
       "    toolbar.classList = 'mpl-toolbar';\n",
       "    this.root.appendChild(toolbar);\n",
       "\n",
       "    function on_click_closure(name) {\n",
       "        return function (_event) {\n",
       "            return fig.toolbar_button_onclick(name);\n",
       "        };\n",
       "    }\n",
       "\n",
       "    function on_mouseover_closure(tooltip) {\n",
       "        return function (event) {\n",
       "            if (!event.currentTarget.disabled) {\n",
       "                return fig.toolbar_button_onmouseover(tooltip);\n",
       "            }\n",
       "        };\n",
       "    }\n",
       "\n",
       "    fig.buttons = {};\n",
       "    var buttonGroup = document.createElement('div');\n",
       "    buttonGroup.classList = 'mpl-button-group';\n",
       "    for (var toolbar_ind in mpl.toolbar_items) {\n",
       "        var name = mpl.toolbar_items[toolbar_ind][0];\n",
       "        var tooltip = mpl.toolbar_items[toolbar_ind][1];\n",
       "        var image = mpl.toolbar_items[toolbar_ind][2];\n",
       "        var method_name = mpl.toolbar_items[toolbar_ind][3];\n",
       "\n",
       "        if (!name) {\n",
       "            /* Instead of a spacer, we start a new button group. */\n",
       "            if (buttonGroup.hasChildNodes()) {\n",
       "                toolbar.appendChild(buttonGroup);\n",
       "            }\n",
       "            buttonGroup = document.createElement('div');\n",
       "            buttonGroup.classList = 'mpl-button-group';\n",
       "            continue;\n",
       "        }\n",
       "\n",
       "        var button = (fig.buttons[name] = document.createElement('button'));\n",
       "        button.classList = 'mpl-widget';\n",
       "        button.setAttribute('role', 'button');\n",
       "        button.setAttribute('aria-disabled', 'false');\n",
       "        button.addEventListener('click', on_click_closure(method_name));\n",
       "        button.addEventListener('mouseover', on_mouseover_closure(tooltip));\n",
       "\n",
       "        var icon_img = document.createElement('img');\n",
       "        icon_img.src = '_images/' + image + '.png';\n",
       "        icon_img.srcset = '_images/' + image + '_large.png 2x';\n",
       "        icon_img.alt = tooltip;\n",
       "        button.appendChild(icon_img);\n",
       "\n",
       "        buttonGroup.appendChild(button);\n",
       "    }\n",
       "\n",
       "    if (buttonGroup.hasChildNodes()) {\n",
       "        toolbar.appendChild(buttonGroup);\n",
       "    }\n",
       "\n",
       "    var fmt_picker = document.createElement('select');\n",
       "    fmt_picker.classList = 'mpl-widget';\n",
       "    toolbar.appendChild(fmt_picker);\n",
       "    this.format_dropdown = fmt_picker;\n",
       "\n",
       "    for (var ind in mpl.extensions) {\n",
       "        var fmt = mpl.extensions[ind];\n",
       "        var option = document.createElement('option');\n",
       "        option.selected = fmt === mpl.default_extension;\n",
       "        option.innerHTML = fmt;\n",
       "        fmt_picker.appendChild(option);\n",
       "    }\n",
       "\n",
       "    var status_bar = document.createElement('span');\n",
       "    status_bar.classList = 'mpl-message';\n",
       "    toolbar.appendChild(status_bar);\n",
       "    this.message = status_bar;\n",
       "};\n",
       "\n",
       "mpl.figure.prototype.request_resize = function (x_pixels, y_pixels) {\n",
       "    // Request matplotlib to resize the figure. Matplotlib will then trigger a resize in the client,\n",
       "    // which will in turn request a refresh of the image.\n",
       "    this.send_message('resize', { width: x_pixels, height: y_pixels });\n",
       "};\n",
       "\n",
       "mpl.figure.prototype.send_message = function (type, properties) {\n",
       "    properties['type'] = type;\n",
       "    properties['figure_id'] = this.id;\n",
       "    this.ws.send(JSON.stringify(properties));\n",
       "};\n",
       "\n",
       "mpl.figure.prototype.send_draw_message = function () {\n",
       "    if (!this.waiting) {\n",
       "        this.waiting = true;\n",
       "        this.ws.send(JSON.stringify({ type: 'draw', figure_id: this.id }));\n",
       "    }\n",
       "};\n",
       "\n",
       "mpl.figure.prototype.handle_save = function (fig, _msg) {\n",
       "    var format_dropdown = fig.format_dropdown;\n",
       "    var format = format_dropdown.options[format_dropdown.selectedIndex].value;\n",
       "    fig.ondownload(fig, format);\n",
       "};\n",
       "\n",
       "mpl.figure.prototype.handle_resize = function (fig, msg) {\n",
       "    var size = msg['size'];\n",
       "    if (size[0] !== fig.canvas.width || size[1] !== fig.canvas.height) {\n",
       "        fig._resize_canvas(size[0], size[1], msg['forward']);\n",
       "        fig.send_message('refresh', {});\n",
       "    }\n",
       "};\n",
       "\n",
       "mpl.figure.prototype.handle_rubberband = function (fig, msg) {\n",
       "    var x0 = msg['x0'] / fig.ratio;\n",
       "    var y0 = (fig.canvas.height - msg['y0']) / fig.ratio;\n",
       "    var x1 = msg['x1'] / fig.ratio;\n",
       "    var y1 = (fig.canvas.height - msg['y1']) / fig.ratio;\n",
       "    x0 = Math.floor(x0) + 0.5;\n",
       "    y0 = Math.floor(y0) + 0.5;\n",
       "    x1 = Math.floor(x1) + 0.5;\n",
       "    y1 = Math.floor(y1) + 0.5;\n",
       "    var min_x = Math.min(x0, x1);\n",
       "    var min_y = Math.min(y0, y1);\n",
       "    var width = Math.abs(x1 - x0);\n",
       "    var height = Math.abs(y1 - y0);\n",
       "\n",
       "    fig.rubberband_context.clearRect(\n",
       "        0,\n",
       "        0,\n",
       "        fig.canvas.width / fig.ratio,\n",
       "        fig.canvas.height / fig.ratio\n",
       "    );\n",
       "\n",
       "    fig.rubberband_context.strokeRect(min_x, min_y, width, height);\n",
       "};\n",
       "\n",
       "mpl.figure.prototype.handle_figure_label = function (fig, msg) {\n",
       "    // Updates the figure title.\n",
       "    fig.header.textContent = msg['label'];\n",
       "};\n",
       "\n",
       "mpl.figure.prototype.handle_cursor = function (fig, msg) {\n",
       "    var cursor = msg['cursor'];\n",
       "    switch (cursor) {\n",
       "        case 0:\n",
       "            cursor = 'pointer';\n",
       "            break;\n",
       "        case 1:\n",
       "            cursor = 'default';\n",
       "            break;\n",
       "        case 2:\n",
       "            cursor = 'crosshair';\n",
       "            break;\n",
       "        case 3:\n",
       "            cursor = 'move';\n",
       "            break;\n",
       "    }\n",
       "    fig.rubberband_canvas.style.cursor = cursor;\n",
       "};\n",
       "\n",
       "mpl.figure.prototype.handle_message = function (fig, msg) {\n",
       "    fig.message.textContent = msg['message'];\n",
       "};\n",
       "\n",
       "mpl.figure.prototype.handle_draw = function (fig, _msg) {\n",
       "    // Request the server to send over a new figure.\n",
       "    fig.send_draw_message();\n",
       "};\n",
       "\n",
       "mpl.figure.prototype.handle_image_mode = function (fig, msg) {\n",
       "    fig.image_mode = msg['mode'];\n",
       "};\n",
       "\n",
       "mpl.figure.prototype.handle_history_buttons = function (fig, msg) {\n",
       "    for (var key in msg) {\n",
       "        if (!(key in fig.buttons)) {\n",
       "            continue;\n",
       "        }\n",
       "        fig.buttons[key].disabled = !msg[key];\n",
       "        fig.buttons[key].setAttribute('aria-disabled', !msg[key]);\n",
       "    }\n",
       "};\n",
       "\n",
       "mpl.figure.prototype.handle_navigate_mode = function (fig, msg) {\n",
       "    if (msg['mode'] === 'PAN') {\n",
       "        fig.buttons['Pan'].classList.add('active');\n",
       "        fig.buttons['Zoom'].classList.remove('active');\n",
       "    } else if (msg['mode'] === 'ZOOM') {\n",
       "        fig.buttons['Pan'].classList.remove('active');\n",
       "        fig.buttons['Zoom'].classList.add('active');\n",
       "    } else {\n",
       "        fig.buttons['Pan'].classList.remove('active');\n",
       "        fig.buttons['Zoom'].classList.remove('active');\n",
       "    }\n",
       "};\n",
       "\n",
       "mpl.figure.prototype.updated_canvas_event = function () {\n",
       "    // Called whenever the canvas gets updated.\n",
       "    this.send_message('ack', {});\n",
       "};\n",
       "\n",
       "// A function to construct a web socket function for onmessage handling.\n",
       "// Called in the figure constructor.\n",
       "mpl.figure.prototype._make_on_message_function = function (fig) {\n",
       "    return function socket_on_message(evt) {\n",
       "        if (evt.data instanceof Blob) {\n",
       "            /* FIXME: We get \"Resource interpreted as Image but\n",
       "             * transferred with MIME type text/plain:\" errors on\n",
       "             * Chrome.  But how to set the MIME type?  It doesn't seem\n",
       "             * to be part of the websocket stream */\n",
       "            evt.data.type = 'image/png';\n",
       "\n",
       "            /* Free the memory for the previous frames */\n",
       "            if (fig.imageObj.src) {\n",
       "                (window.URL || window.webkitURL).revokeObjectURL(\n",
       "                    fig.imageObj.src\n",
       "                );\n",
       "            }\n",
       "\n",
       "            fig.imageObj.src = (window.URL || window.webkitURL).createObjectURL(\n",
       "                evt.data\n",
       "            );\n",
       "            fig.updated_canvas_event();\n",
       "            fig.waiting = false;\n",
       "            return;\n",
       "        } else if (\n",
       "            typeof evt.data === 'string' &&\n",
       "            evt.data.slice(0, 21) === 'data:image/png;base64'\n",
       "        ) {\n",
       "            fig.imageObj.src = evt.data;\n",
       "            fig.updated_canvas_event();\n",
       "            fig.waiting = false;\n",
       "            return;\n",
       "        }\n",
       "\n",
       "        var msg = JSON.parse(evt.data);\n",
       "        var msg_type = msg['type'];\n",
       "\n",
       "        // Call the  \"handle_{type}\" callback, which takes\n",
       "        // the figure and JSON message as its only arguments.\n",
       "        try {\n",
       "            var callback = fig['handle_' + msg_type];\n",
       "        } catch (e) {\n",
       "            console.log(\n",
       "                \"No handler for the '\" + msg_type + \"' message type: \",\n",
       "                msg\n",
       "            );\n",
       "            return;\n",
       "        }\n",
       "\n",
       "        if (callback) {\n",
       "            try {\n",
       "                // console.log(\"Handling '\" + msg_type + \"' message: \", msg);\n",
       "                callback(fig, msg);\n",
       "            } catch (e) {\n",
       "                console.log(\n",
       "                    \"Exception inside the 'handler_\" + msg_type + \"' callback:\",\n",
       "                    e,\n",
       "                    e.stack,\n",
       "                    msg\n",
       "                );\n",
       "            }\n",
       "        }\n",
       "    };\n",
       "};\n",
       "\n",
       "// from http://stackoverflow.com/questions/1114465/getting-mouse-location-in-canvas\n",
       "mpl.findpos = function (e) {\n",
       "    //this section is from http://www.quirksmode.org/js/events_properties.html\n",
       "    var targ;\n",
       "    if (!e) {\n",
       "        e = window.event;\n",
       "    }\n",
       "    if (e.target) {\n",
       "        targ = e.target;\n",
       "    } else if (e.srcElement) {\n",
       "        targ = e.srcElement;\n",
       "    }\n",
       "    if (targ.nodeType === 3) {\n",
       "        // defeat Safari bug\n",
       "        targ = targ.parentNode;\n",
       "    }\n",
       "\n",
       "    // pageX,Y are the mouse positions relative to the document\n",
       "    var boundingRect = targ.getBoundingClientRect();\n",
       "    var x = e.pageX - (boundingRect.left + document.body.scrollLeft);\n",
       "    var y = e.pageY - (boundingRect.top + document.body.scrollTop);\n",
       "\n",
       "    return { x: x, y: y };\n",
       "};\n",
       "\n",
       "/*\n",
       " * return a copy of an object with only non-object keys\n",
       " * we need this to avoid circular references\n",
       " * http://stackoverflow.com/a/24161582/3208463\n",
       " */\n",
       "function simpleKeys(original) {\n",
       "    return Object.keys(original).reduce(function (obj, key) {\n",
       "        if (typeof original[key] !== 'object') {\n",
       "            obj[key] = original[key];\n",
       "        }\n",
       "        return obj;\n",
       "    }, {});\n",
       "}\n",
       "\n",
       "mpl.figure.prototype.mouse_event = function (event, name) {\n",
       "    var canvas_pos = mpl.findpos(event);\n",
       "\n",
       "    if (name === 'button_press') {\n",
       "        this.canvas.focus();\n",
       "        this.canvas_div.focus();\n",
       "    }\n",
       "\n",
       "    var x = canvas_pos.x * this.ratio;\n",
       "    var y = canvas_pos.y * this.ratio;\n",
       "\n",
       "    this.send_message(name, {\n",
       "        x: x,\n",
       "        y: y,\n",
       "        button: event.button,\n",
       "        step: event.step,\n",
       "        guiEvent: simpleKeys(event),\n",
       "    });\n",
       "\n",
       "    /* This prevents the web browser from automatically changing to\n",
       "     * the text insertion cursor when the button is pressed.  We want\n",
       "     * to control all of the cursor setting manually through the\n",
       "     * 'cursor' event from matplotlib */\n",
       "    event.preventDefault();\n",
       "    return false;\n",
       "};\n",
       "\n",
       "mpl.figure.prototype._key_event_extra = function (_event, _name) {\n",
       "    // Handle any extra behaviour associated with a key event\n",
       "};\n",
       "\n",
       "mpl.figure.prototype.key_event = function (event, name) {\n",
       "    // Prevent repeat events\n",
       "    if (name === 'key_press') {\n",
       "        if (event.which === this._key) {\n",
       "            return;\n",
       "        } else {\n",
       "            this._key = event.which;\n",
       "        }\n",
       "    }\n",
       "    if (name === 'key_release') {\n",
       "        this._key = null;\n",
       "    }\n",
       "\n",
       "    var value = '';\n",
       "    if (event.ctrlKey && event.which !== 17) {\n",
       "        value += 'ctrl+';\n",
       "    }\n",
       "    if (event.altKey && event.which !== 18) {\n",
       "        value += 'alt+';\n",
       "    }\n",
       "    if (event.shiftKey && event.which !== 16) {\n",
       "        value += 'shift+';\n",
       "    }\n",
       "\n",
       "    value += 'k';\n",
       "    value += event.which.toString();\n",
       "\n",
       "    this._key_event_extra(event, name);\n",
       "\n",
       "    this.send_message(name, { key: value, guiEvent: simpleKeys(event) });\n",
       "    return false;\n",
       "};\n",
       "\n",
       "mpl.figure.prototype.toolbar_button_onclick = function (name) {\n",
       "    if (name === 'download') {\n",
       "        this.handle_save(this, null);\n",
       "    } else {\n",
       "        this.send_message('toolbar_button', { name: name });\n",
       "    }\n",
       "};\n",
       "\n",
       "mpl.figure.prototype.toolbar_button_onmouseover = function (tooltip) {\n",
       "    this.message.textContent = tooltip;\n",
       "};\n",
       "mpl.toolbar_items = [[\"Home\", \"Reset original view\", \"fa fa-home icon-home\", \"home\"], [\"Back\", \"Back to previous view\", \"fa fa-arrow-left icon-arrow-left\", \"back\"], [\"Forward\", \"Forward to next view\", \"fa fa-arrow-right icon-arrow-right\", \"forward\"], [\"\", \"\", \"\", \"\"], [\"Pan\", \"Left button pans, Right button zooms\\nx/y fixes axis, CTRL fixes aspect\", \"fa fa-arrows icon-move\", \"pan\"], [\"Zoom\", \"Zoom to rectangle\\nx/y fixes axis, CTRL fixes aspect\", \"fa fa-square-o icon-check-empty\", \"zoom\"], [\"\", \"\", \"\", \"\"], [\"Download\", \"Download plot\", \"fa fa-floppy-o icon-save\", \"download\"]];\n",
       "\n",
       "mpl.extensions = [\"eps\", \"jpeg\", \"pdf\", \"png\", \"ps\", \"raw\", \"svg\", \"tif\"];\n",
       "\n",
       "mpl.default_extension = \"png\";/* global mpl */\n",
       "\n",
       "var comm_websocket_adapter = function (comm) {\n",
       "    // Create a \"websocket\"-like object which calls the given IPython comm\n",
       "    // object with the appropriate methods. Currently this is a non binary\n",
       "    // socket, so there is still some room for performance tuning.\n",
       "    var ws = {};\n",
       "\n",
       "    ws.close = function () {\n",
       "        comm.close();\n",
       "    };\n",
       "    ws.send = function (m) {\n",
       "        //console.log('sending', m);\n",
       "        comm.send(m);\n",
       "    };\n",
       "    // Register the callback with on_msg.\n",
       "    comm.on_msg(function (msg) {\n",
       "        //console.log('receiving', msg['content']['data'], msg);\n",
       "        // Pass the mpl event to the overridden (by mpl) onmessage function.\n",
       "        ws.onmessage(msg['content']['data']);\n",
       "    });\n",
       "    return ws;\n",
       "};\n",
       "\n",
       "mpl.mpl_figure_comm = function (comm, msg) {\n",
       "    // This is the function which gets called when the mpl process\n",
       "    // starts-up an IPython Comm through the \"matplotlib\" channel.\n",
       "\n",
       "    var id = msg.content.data.id;\n",
       "    // Get hold of the div created by the display call when the Comm\n",
       "    // socket was opened in Python.\n",
       "    var element = document.getElementById(id);\n",
       "    var ws_proxy = comm_websocket_adapter(comm);\n",
       "\n",
       "    function ondownload(figure, _format) {\n",
       "        window.open(figure.canvas.toDataURL());\n",
       "    }\n",
       "\n",
       "    var fig = new mpl.figure(id, ws_proxy, ondownload, element);\n",
       "\n",
       "    // Call onopen now - mpl needs it, as it is assuming we've passed it a real\n",
       "    // web socket which is closed, not our websocket->open comm proxy.\n",
       "    ws_proxy.onopen();\n",
       "\n",
       "    fig.parent_element = element;\n",
       "    fig.cell_info = mpl.find_output_cell(\"<div id='\" + id + \"'></div>\");\n",
       "    if (!fig.cell_info) {\n",
       "        console.error('Failed to find cell for figure', id, fig);\n",
       "        return;\n",
       "    }\n",
       "    fig.cell_info[0].output_area.element.one(\n",
       "        'cleared',\n",
       "        { fig: fig },\n",
       "        fig._remove_fig_handler\n",
       "    );\n",
       "};\n",
       "\n",
       "mpl.figure.prototype.handle_close = function (fig, msg) {\n",
       "    var width = fig.canvas.width / fig.ratio;\n",
       "    fig.cell_info[0].output_area.element.off(\n",
       "        'cleared',\n",
       "        fig._remove_fig_handler\n",
       "    );\n",
       "\n",
       "    // Update the output cell to use the data from the current canvas.\n",
       "    fig.push_to_output();\n",
       "    var dataURL = fig.canvas.toDataURL();\n",
       "    // Re-enable the keyboard manager in IPython - without this line, in FF,\n",
       "    // the notebook keyboard shortcuts fail.\n",
       "    IPython.keyboard_manager.enable();\n",
       "    fig.parent_element.innerHTML =\n",
       "        '<img src=\"' + dataURL + '\" width=\"' + width + '\">';\n",
       "    fig.close_ws(fig, msg);\n",
       "};\n",
       "\n",
       "mpl.figure.prototype.close_ws = function (fig, msg) {\n",
       "    fig.send_message('closing', msg);\n",
       "    // fig.ws.close()\n",
       "};\n",
       "\n",
       "mpl.figure.prototype.push_to_output = function (_remove_interactive) {\n",
       "    // Turn the data on the canvas into data in the output cell.\n",
       "    var width = this.canvas.width / this.ratio;\n",
       "    var dataURL = this.canvas.toDataURL();\n",
       "    this.cell_info[1]['text/html'] =\n",
       "        '<img src=\"' + dataURL + '\" width=\"' + width + '\">';\n",
       "};\n",
       "\n",
       "mpl.figure.prototype.updated_canvas_event = function () {\n",
       "    // Tell IPython that the notebook contents must change.\n",
       "    IPython.notebook.set_dirty(true);\n",
       "    this.send_message('ack', {});\n",
       "    var fig = this;\n",
       "    // Wait a second, then push the new image to the DOM so\n",
       "    // that it is saved nicely (might be nice to debounce this).\n",
       "    setTimeout(function () {\n",
       "        fig.push_to_output();\n",
       "    }, 1000);\n",
       "};\n",
       "\n",
       "mpl.figure.prototype._init_toolbar = function () {\n",
       "    var fig = this;\n",
       "\n",
       "    var toolbar = document.createElement('div');\n",
       "    toolbar.classList = 'btn-toolbar';\n",
       "    this.root.appendChild(toolbar);\n",
       "\n",
       "    function on_click_closure(name) {\n",
       "        return function (_event) {\n",
       "            return fig.toolbar_button_onclick(name);\n",
       "        };\n",
       "    }\n",
       "\n",
       "    function on_mouseover_closure(tooltip) {\n",
       "        return function (event) {\n",
       "            if (!event.currentTarget.disabled) {\n",
       "                return fig.toolbar_button_onmouseover(tooltip);\n",
       "            }\n",
       "        };\n",
       "    }\n",
       "\n",
       "    fig.buttons = {};\n",
       "    var buttonGroup = document.createElement('div');\n",
       "    buttonGroup.classList = 'btn-group';\n",
       "    var button;\n",
       "    for (var toolbar_ind in mpl.toolbar_items) {\n",
       "        var name = mpl.toolbar_items[toolbar_ind][0];\n",
       "        var tooltip = mpl.toolbar_items[toolbar_ind][1];\n",
       "        var image = mpl.toolbar_items[toolbar_ind][2];\n",
       "        var method_name = mpl.toolbar_items[toolbar_ind][3];\n",
       "\n",
       "        if (!name) {\n",
       "            /* Instead of a spacer, we start a new button group. */\n",
       "            if (buttonGroup.hasChildNodes()) {\n",
       "                toolbar.appendChild(buttonGroup);\n",
       "            }\n",
       "            buttonGroup = document.createElement('div');\n",
       "            buttonGroup.classList = 'btn-group';\n",
       "            continue;\n",
       "        }\n",
       "\n",
       "        button = fig.buttons[name] = document.createElement('button');\n",
       "        button.classList = 'btn btn-default';\n",
       "        button.href = '#';\n",
       "        button.title = name;\n",
       "        button.innerHTML = '<i class=\"fa ' + image + ' fa-lg\"></i>';\n",
       "        button.addEventListener('click', on_click_closure(method_name));\n",
       "        button.addEventListener('mouseover', on_mouseover_closure(tooltip));\n",
       "        buttonGroup.appendChild(button);\n",
       "    }\n",
       "\n",
       "    if (buttonGroup.hasChildNodes()) {\n",
       "        toolbar.appendChild(buttonGroup);\n",
       "    }\n",
       "\n",
       "    // Add the status bar.\n",
       "    var status_bar = document.createElement('span');\n",
       "    status_bar.classList = 'mpl-message pull-right';\n",
       "    toolbar.appendChild(status_bar);\n",
       "    this.message = status_bar;\n",
       "\n",
       "    // Add the close button to the window.\n",
       "    var buttongrp = document.createElement('div');\n",
       "    buttongrp.classList = 'btn-group inline pull-right';\n",
       "    button = document.createElement('button');\n",
       "    button.classList = 'btn btn-mini btn-primary';\n",
       "    button.href = '#';\n",
       "    button.title = 'Stop Interaction';\n",
       "    button.innerHTML = '<i class=\"fa fa-power-off icon-remove icon-large\"></i>';\n",
       "    button.addEventListener('click', function (_evt) {\n",
       "        fig.handle_close(fig, {});\n",
       "    });\n",
       "    button.addEventListener(\n",
       "        'mouseover',\n",
       "        on_mouseover_closure('Stop Interaction')\n",
       "    );\n",
       "    buttongrp.appendChild(button);\n",
       "    var titlebar = this.root.querySelector('.ui-dialog-titlebar');\n",
       "    titlebar.insertBefore(buttongrp, titlebar.firstChild);\n",
       "};\n",
       "\n",
       "mpl.figure.prototype._remove_fig_handler = function (event) {\n",
       "    var fig = event.data.fig;\n",
       "    fig.close_ws(fig, {});\n",
       "};\n",
       "\n",
       "mpl.figure.prototype._root_extra_style = function (el) {\n",
       "    el.style.boxSizing = 'content-box'; // override notebook setting of border-box.\n",
       "};\n",
       "\n",
       "mpl.figure.prototype._canvas_extra_style = function (el) {\n",
       "    // this is important to make the div 'focusable\n",
       "    el.setAttribute('tabindex', 0);\n",
       "    // reach out to IPython and tell the keyboard manager to turn it's self\n",
       "    // off when our div gets focus\n",
       "\n",
       "    // location in version 3\n",
       "    if (IPython.notebook.keyboard_manager) {\n",
       "        IPython.notebook.keyboard_manager.register_events(el);\n",
       "    } else {\n",
       "        // location in version 2\n",
       "        IPython.keyboard_manager.register_events(el);\n",
       "    }\n",
       "};\n",
       "\n",
       "mpl.figure.prototype._key_event_extra = function (event, _name) {\n",
       "    var manager = IPython.notebook.keyboard_manager;\n",
       "    if (!manager) {\n",
       "        manager = IPython.keyboard_manager;\n",
       "    }\n",
       "\n",
       "    // Check for shift+enter\n",
       "    if (event.shiftKey && event.which === 13) {\n",
       "        this.canvas_div.blur();\n",
       "        // select the cell after this one\n",
       "        var index = IPython.notebook.find_cell_index(this.cell_info[0]);\n",
       "        IPython.notebook.select(index + 1);\n",
       "    }\n",
       "};\n",
       "\n",
       "mpl.figure.prototype.handle_save = function (fig, _msg) {\n",
       "    fig.ondownload(fig, null);\n",
       "};\n",
       "\n",
       "mpl.find_output_cell = function (html_output) {\n",
       "    // Return the cell and output element which can be found *uniquely* in the notebook.\n",
       "    // Note - this is a bit hacky, but it is done because the \"notebook_saving.Notebook\"\n",
       "    // IPython event is triggered only after the cells have been serialised, which for\n",
       "    // our purposes (turning an active figure into a static one), is too late.\n",
       "    var cells = IPython.notebook.get_cells();\n",
       "    var ncells = cells.length;\n",
       "    for (var i = 0; i < ncells; i++) {\n",
       "        var cell = cells[i];\n",
       "        if (cell.cell_type === 'code') {\n",
       "            for (var j = 0; j < cell.output_area.outputs.length; j++) {\n",
       "                var data = cell.output_area.outputs[j];\n",
       "                if (data.data) {\n",
       "                    // IPython >= 3 moved mimebundle to data attribute of output\n",
       "                    data = data.data;\n",
       "                }\n",
       "                if (data['text/html'] === html_output) {\n",
       "                    return [cell, data, j];\n",
       "                }\n",
       "            }\n",
       "        }\n",
       "    }\n",
       "};\n",
       "\n",
       "// Register the function which deals with the matplotlib target/channel.\n",
       "// The kernel may be null if the page has been refreshed.\n",
       "if (IPython.notebook.kernel !== null) {\n",
       "    IPython.notebook.kernel.comm_manager.register_target(\n",
       "        'matplotlib',\n",
       "        mpl.mpl_figure_comm\n",
       "    );\n",
       "}\n"
      ],
      "text/plain": [
       "<IPython.core.display.Javascript object>"
      ]
     },
     "metadata": {},
     "output_type": "display_data"
    },
    {
     "data": {
      "text/html": [
       "<img src=\"data:image/png;base64,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\" width=\"639.85\">"
      ],
      "text/plain": [
       "<IPython.core.display.HTML object>"
      ]
     },
     "metadata": {},
     "output_type": "display_data"
    }
   ],
   "source": [
    "# generate some data\n",
    "N = 50\n",
    "xp = np.random.rand(N)\n",
    "yp = 3*np.random.rand(N)\n",
    "colors = np.random.rand(N)\n",
    "radii = 15 * np.random.rand(N)\n",
    "area = np.pi * radii**2  # 0 to 15 point radiuses\n",
    "\n",
    "# plot the data\n",
    "plt.scatter(xp, yp, s=area, c=colors, alpha=0.5);"
   ]
  },
  {
   "cell_type": "markdown",
   "metadata": {
    "extensions": {
     "jupyter_dashboards": {
      "version": 1,
      "views": {
       "grid_default": {
        "col": 0,
        "height": 4,
        "hidden": false,
        "row": 16,
        "width": 4
       },
       "report_default": {}
      }
     }
    }
   },
   "source": [
    "## Setting The Aspect Ratio\n",
    "\n",
    "You can easily fix the aspect ratio for the default plot."
   ]
  },
  {
   "cell_type": "code",
   "execution_count": null,
   "metadata": {
    "extensions": {
     "jupyter_dashboards": {
      "version": 1,
      "views": {
       "grid_default": {
        "hidden": true
       },
       "report_default": {}
      }
     }
    }
   },
   "outputs": [],
   "source": [
    "plt.scatter(xp, yp, s=area, c=colors, alpha=0.5)\n",
    "plt.axes().set_aspect('equal')\n",
    "plt.show()"
   ]
  },
  {
   "cell_type": "markdown",
   "metadata": {
    "extensions": {
     "jupyter_dashboards": {
      "version": 1,
      "views": {
       "grid_default": {
        "col": 0,
        "height": 4,
        "hidden": false,
        "row": 31,
        "width": 12
       },
       "report_default": {}
      }
     }
    }
   },
   "source": [
    "<div class=\"alert alert-warning\">\n",
    "<h1>What just happened???</h1>\n",
    "In \"Notebook\" mode, matplotlib does not create new figures in each cell, it modifies the most recent figure.  You need to create a new one when needed.  For example,\n",
    "</div>"
   ]
  },
  {
   "cell_type": "code",
   "execution_count": null,
   "metadata": {
    "extensions": {
     "jupyter_dashboards": {
      "version": 1,
      "views": {
       "grid_default": {
        "col": 0,
        "height": 19,
        "hidden": false,
        "row": 35,
        "width": 5
       },
       "report_default": {}
      }
     }
    }
   },
   "outputs": [],
   "source": [
    "plt.figure()\n",
    "plt.scatter(xp, yp, s=area, c=colors, alpha=0.5);"
   ]
  },
  {
   "cell_type": "markdown",
   "metadata": {
    "extensions": {
     "jupyter_dashboards": {
      "version": 1,
      "views": {
       "grid_default": {
        "col": 0,
        "height": 4,
        "hidden": false,
        "row": 20,
        "width": 4
       },
       "report_default": {}
      }
     }
    }
   },
   "source": [
    "## Modifying Previous Plots\n",
    "\n",
    "If you call plt.figure() with a name, it will create a new one, unless one with that name already exists.  Lets create some new plots."
   ]
  },
  {
   "cell_type": "code",
   "execution_count": null,
   "metadata": {
    "extensions": {
     "jupyter_dashboards": {
      "version": 1,
      "views": {
       "grid_default": {
        "col": 5,
        "height": 38,
        "hidden": false,
        "row": 35,
        "width": 5
       },
       "report_default": {}
      }
     }
    },
    "scrolled": false
   },
   "outputs": [],
   "source": [
    "plt.figure(\"Line Plot 1\")\n",
    "plt.plot([1,2,3,4,5,6],[1,4,9,16,25,36])\n",
    "plt.figure(\"Line Plot 2\")\n",
    "plt.plot([1,2,3,4,5,6],[-1,-4,-9,-16,-25,-36]);"
   ]
  },
  {
   "cell_type": "code",
   "execution_count": null,
   "metadata": {
    "extensions": {
     "jupyter_dashboards": {
      "version": 1,
      "views": {
       "grid_default": {
        "hidden": true
       },
       "report_default": {}
      }
     }
    }
   },
   "outputs": [],
   "source": [
    "# Lets modify the title of the seecond plot\n",
    "plt.figure(\"Line Plot 2\")\n",
    "plt.title('Plot 2');"
   ]
  },
  {
   "cell_type": "code",
   "execution_count": null,
   "metadata": {
    "extensions": {
     "jupyter_dashboards": {
      "version": 1,
      "views": {
       "grid_default": {
        "hidden": true
       },
       "report_default": {}
      }
     }
    }
   },
   "outputs": [],
   "source": [
    "# And now modify the title of the first plot and add some data, change the color and linewidth\n",
    "plt.figure(\"Line Plot 1\")\n",
    "plt.title('Plot 1')\n",
    "plt.plot([0,1,2,3,4,5,6,7],[0,1,4,9,16,25,36,49], color='red', linewidth=2);"
   ]
  },
  {
   "cell_type": "markdown",
   "metadata": {
    "extensions": {
     "jupyter_dashboards": {
      "version": 1,
      "views": {
       "grid_default": {
        "col": 0,
        "height": 4,
        "hidden": false,
        "row": 24,
        "width": 4
       },
       "report_default": {}
      }
     }
    }
   },
   "source": [
    "When using \"notebook\" mode, good practice is to always name your figures.  Because named figures\n",
    "can be easily updated, this makes them ideal for animations and dashboards. "
   ]
  },
  {
   "cell_type": "markdown",
   "metadata": {
    "extensions": {
     "jupyter_dashboards": {
      "version": 1,
      "views": {
       "grid_default": {
        "col": 0,
        "height": 5,
        "hidden": false,
        "row": 73,
        "width": 12
       },
       "report_default": {}
      }
     }
    }
   },
   "source": [
    "## Controlling the Plot Size\n",
    "\n",
    "Depending on your monitor, the plot may be hard to see.  You can specify a plot size in inches, and a DPI (dots-per-inch).\n",
    "\n",
    "First, lets take a look at the defaults:"
   ]
  },
  {
   "cell_type": "code",
   "execution_count": null,
   "metadata": {
    "extensions": {
     "jupyter_dashboards": {
      "version": 1,
      "views": {
       "grid_default": {
        "col": 0,
        "height": 4,
        "hidden": false,
        "row": 54,
        "width": 4
       },
       "report_default": {}
      }
     }
    }
   },
   "outputs": [],
   "source": [
    "from __future__ import print_function\n",
    "fig = plt.gcf();\n",
    "dpi = fig.get_dpi();\n",
    "size = fig.get_size_inches();\n",
    "print(\"Default Size: %s.   Default DPI: %s\" % (size, dpi))"
   ]
  },
  {
   "cell_type": "markdown",
   "metadata": {
    "extensions": {
     "jupyter_dashboards": {
      "version": 1,
      "views": {
       "grid_default": {
        "col": 0,
        "height": 4,
        "hidden": false,
        "row": 58,
        "width": 4
       },
       "report_default": {}
      }
     }
    }
   },
   "source": [
    "Now, to make the image larger on the screen, we can either increase the DPI or the size."
   ]
  },
  {
   "cell_type": "code",
   "execution_count": null,
   "metadata": {
    "extensions": {
     "jupyter_dashboards": {
      "version": 1,
      "views": {
       "grid_default": {
        "col": 0,
        "height": 35,
        "hidden": false,
        "row": 78,
        "width": 9
       },
       "report_default": {}
      }
     }
    }
   },
   "outputs": [],
   "source": [
    "plt.figure(dpi=200)\n",
    "plt.scatter(xp, yp, s=area, c=colors, alpha=0.5);"
   ]
  },
  {
   "cell_type": "markdown",
   "metadata": {
    "extensions": {
     "jupyter_dashboards": {
      "version": 1,
      "views": {
       "grid_default": {
        "col": 0,
        "height": 4,
        "hidden": false,
        "row": 62,
        "width": 4
       },
       "report_default": {}
      }
     }
    }
   },
   "source": [
    "You can set both the size and DPI at once.  Notice that setting the size also sets the aspect ratio."
   ]
  },
  {
   "cell_type": "code",
   "execution_count": null,
   "metadata": {
    "extensions": {
     "jupyter_dashboards": {
      "version": 1,
      "views": {
       "grid_default": {
        "col": 0,
        "height": 23,
        "hidden": false,
        "row": 113,
        "width": 5
       },
       "report_default": {}
      }
     }
    },
    "scrolled": false
   },
   "outputs": [],
   "source": [
    "plt.figure(figsize=(3,3), dpi=200)\n",
    "plt.scatter(xp, yp, s=area, c=colors, alpha=0.5);"
   ]
  },
  {
   "cell_type": "markdown",
   "metadata": {
    "extensions": {
     "jupyter_dashboards": {
      "version": 1,
      "views": {
       "grid_default": {
        "col": 0,
        "height": 4,
        "hidden": false,
        "row": 66,
        "width": 4
       },
       "report_default": {}
      }
     }
    }
   },
   "source": [
    "You can still adjust the aspect ratio later."
   ]
  },
  {
   "cell_type": "code",
   "execution_count": null,
   "metadata": {
    "extensions": {
     "jupyter_dashboards": {
      "version": 1,
      "views": {
       "grid_default": {
        "col": 5,
        "height": 23,
        "hidden": false,
        "row": 113,
        "width": 5
       },
       "report_default": {}
      }
     }
    }
   },
   "outputs": [],
   "source": [
    "plt.figure(figsize=(3,3), dpi=200)\n",
    "plt.axes().set_aspect('equal')\n",
    "plt.scatter(xp, yp, s=area, c=colors, alpha=0.5);"
   ]
  },
  {
   "cell_type": "markdown",
   "metadata": {
    "extensions": {
     "jupyter_dashboards": {
      "version": 1,
      "views": {
       "grid_default": {
        "col": 0,
        "height": 4,
        "hidden": false,
        "row": 136,
        "width": 4
       },
       "report_default": {}
      }
     }
    }
   },
   "source": [
    "## Resizing Notebook Plots\n",
    "\n",
    "Notebook plots do not resize with the browser.  Instead scrollbars appear.  However, you can resize the\n",
    "plots by moving the bottom-right corner.  Try it..."
   ]
  },
  {
   "cell_type": "markdown",
   "metadata": {
    "extensions": {
     "jupyter_dashboards": {
      "version": 1,
      "views": {
       "grid_default": {
        "col": 4,
        "height": 4,
        "hidden": false,
        "row": 136,
        "width": 4
       },
       "report_default": {}
      }
     }
    }
   },
   "source": [
    "## Interactive Use"
   ]
  },
  {
   "cell_type": "code",
   "execution_count": null,
   "metadata": {
    "extensions": {
     "jupyter_dashboards": {
      "version": 1,
      "views": {
       "grid_default": {
        "col": 0,
        "height": 22,
        "hidden": false,
        "row": 140,
        "width": 5
       },
       "report_default": {}
      }
     }
    },
    "scrolled": true
   },
   "outputs": [],
   "source": [
    "from ipywidgets import interact\n",
    "\n",
    "# create the figure\n",
    "x = np.linspace(0,10,200)\n",
    "plt.figure('Interactive Test 0')\n",
    "\n",
    "# Enable clearing and redrawing entire plot\n",
    "def plot_sine(A, B):\n",
    "    plt.clf()  # Clear Figure\n",
    "    y = np.sin(A*x+B)\n",
    "    plt.plot(x,y,linewidth=2)"
   ]
  },
  {
   "cell_type": "code",
   "execution_count": null,
   "metadata": {
    "scrolled": true
   },
   "outputs": [],
   "source": [
    "# now send the parameters and draw the plot.\n",
    "interact(plot_sine, A=(1, 10), B=(0,10));"
   ]
  },
  {
   "cell_type": "markdown",
   "metadata": {},
   "source": [
    "## Another interactive example"
   ]
  },
  {
   "cell_type": "code",
   "execution_count": null,
   "metadata": {},
   "outputs": [],
   "source": [
    "f = plt.figure('Interactive Test 1')\n",
    "ax = f.add_subplot(111)\n",
    "myline, = ax.plot(x, np.sin(0*x), 'b-', linewidth=2)\n",
    "ax.set_ylim(-1, 1)\n",
    "ax.grid(True)"
   ]
  },
  {
   "cell_type": "code",
   "execution_count": null,
   "metadata": {},
   "outputs": [],
   "source": [
    "# Updating ydata \n",
    "def plot_sine2(A, B):\n",
    "    y = np.sin(A*x + B)\n",
    "    myline.set_ydata(y)\n",
    "\n",
    "interact(plot_sine2, A=(1, 10), B=(0,10));"
   ]
  }
 ],
 "metadata": {
  "extensions": {
   "jupyter_dashboards": {
    "activeView": "grid_default",
    "version": 1,
    "views": {
     "grid_default": {
      "cellMargin": 10,
      "defaultCellHeight": 20,
      "maxColumns": 12,
      "name": "grid",
      "type": "grid"
     },
     "report_default": {
      "name": "report",
      "type": "report"
     }
    }
   }
  },
  "kernelspec": {
   "display_name": "Python 3",
   "language": "python",
   "name": "python3"
  },
  "language_info": {
   "codemirror_mode": {
    "name": "ipython",
    "version": 3
   },
   "file_extension": ".py",
   "mimetype": "text/x-python",
   "name": "python",
   "nbconvert_exporter": "python",
   "pygments_lexer": "ipython3",
   "version": "3.7.7"
  }
 },
 "nbformat": 4,
 "nbformat_minor": 2
}
