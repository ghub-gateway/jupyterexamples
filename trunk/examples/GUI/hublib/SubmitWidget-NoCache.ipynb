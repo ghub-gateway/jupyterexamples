{
 "cells": [
  {
   "cell_type": "markdown",
   "metadata": {},
   "source": [
    "# Submit widget (no cache)\n",
    "To demo, run all cells then click Appmode to activate the dashboard preview. Click the Run button to run the simulation.\n",
    "\n",
    "See the [Submit Widget -- Parametric](SubmitWidget-Parametric.ipynb) notebook for more information about Submit Cacheing."
   ]
  },
  {
   "cell_type": "code",
   "execution_count": null,
   "metadata": {
    "extensions": {
     "jupyter_dashboards": {
      "version": 1,
      "views": {
       "grid_default": {
        "col": 0,
        "height": 4,
        "hidden": true,
        "row": 0,
        "width": 4
       },
       "report_default": {}
      }
     }
    }
   },
   "outputs": [],
   "source": [
    "%matplotlib notebook\n",
    "import matplotlib.pyplot as plt\n",
    "plt.style.use('ggplot')\n",
    "\n",
    "from hublib.ui import Submit\n",
    "import numpy as np\n",
    "import ipywidgets as w\n",
    "from IPython.display import display"
   ]
  },
  {
   "cell_type": "code",
   "execution_count": null,
   "metadata": {},
   "outputs": [],
   "source": [
    "# need this because this example is running in a read-only directory\n",
    "import os\n",
    "try:\n",
    "    os.mkdir('/tmp/submit')\n",
    "except:\n",
    "    pass\n",
    "os.chdir('/tmp/submit')"
   ]
  },
  {
   "cell_type": "markdown",
   "metadata": {},
   "source": [
    "# RC Circuit\n",
    "\n",
    "<img  src=\"rc.png\" style=\"width: 10%; float: left\"/>\n",
    "A capacitor is charged in series with a resistor.  \n",
    "The voltage across the capacitor can be expressed as\n",
    "$V_c(t) = V_0(1-e^{-t/(R*C)})$\n",
    "\n",
    "Clearly we don't need to use Submit to have this run on a cluster.  But for this example, we want something simple so we can get results quickly."
   ]
  },
  {
   "cell_type": "code",
   "execution_count": null,
   "metadata": {
    "extensions": {
     "jupyter_dashboards": {
      "version": 1,
      "views": {
       "grid_default": {
        "hidden": true
       },
       "report_default": {}
      }
     }
    }
   },
   "outputs": [],
   "source": [
    "# this is the function called when the run button is clicked\n",
    "\n",
    "def my_start(s):\n",
    "    # get a unique runname \n",
    "    rname = 'rctest'\n",
    "    # run locally for this demo, but it works on other venues\n",
    "    submit_str = '--local /apps/pegtut/current/examples/capacitor_voltage/sim1.py  --Vin=%s' % (vin.value)\n",
    "    s.run(rname, submit_str) "
   ]
  },
  {
   "cell_type": "code",
   "execution_count": null,
   "metadata": {
    "extensions": {
     "jupyter_dashboards": {
      "version": 1,
      "views": {
       "grid_default": {
        "hidden": true
       },
       "report_default": {}
      }
     }
    }
   },
   "outputs": [],
   "source": [
    "# after the run finished, plot the data\n",
    "\n",
    "def plot_data(s, rdir):\n",
    "    # We ignore rdir because submit puts non-parametric runs in the current directory\n",
    "    # When caching is enabled, they get put in a chached directory and rdit is always used.\n",
    "    \n",
    "    plt.figure('Capacitor Voltage')  \n",
    "    plt.clf()  # clear old plot\n",
    "\n",
    "    # our simulation writes to 'out.log'\n",
    "    vals = np.loadtxt('out.log')\n",
    "    x = vals[:,0]\n",
    "    y = vals[:,1]\n",
    "    plt.plot(x,y)\n",
    "    plt.ylabel('$V_c$')\n",
    "    plt.xlabel('Time (seconds)')\n",
    "    plt.title('Vin = %.1f' % vin.value)\n",
    "    plt.show()"
   ]
  },
  {
   "cell_type": "code",
   "execution_count": null,
   "metadata": {
    "extensions": {
     "jupyter_dashboards": {
      "version": 1,
      "views": {
       "grid_default": {
        "hidden": true
       },
       "report_default": {
        "hidden": true
       }
      }
     }
    }
   },
   "outputs": [],
   "source": [
    "# Just to show how it is done, we create two widgets linked\n",
    "# to give the user different options for entering the input voltage\n",
    "\n",
    "vin = w.FloatSlider(\n",
    "    value=10,\n",
    "    min=0,\n",
    "    max=50.0,\n",
    "    step=0.1,\n",
    "    description='Vin:',\n",
    "    readout_format='.1f',\n",
    ")\n",
    "\n",
    "vin2 = w.BoundedFloatText(\n",
    "    min=0,\n",
    "    max=50.0,\n",
    "    description='Vin:',\n",
    ")\n",
    "mylink = w.jslink((vin, 'value'), (vin2, 'value'))"
   ]
  },
  {
   "cell_type": "code",
   "execution_count": null,
   "metadata": {
    "extensions": {
     "jupyter_dashboards": {
      "version": 1,
      "views": {
       "grid_default": {
        "col": null,
        "height": 19,
        "hidden": false,
        "row": 14,
        "width": null
       },
       "report_default": {}
      }
     }
    },
    "scrolled": false
   },
   "outputs": [],
   "source": [
    "# we want the plot to go here, so create an empty one initially\n",
    "plt.figure('Capacitor Voltage')\n",
    "plt.ylabel('$V_c$')\n",
    "plt.xlabel('Time (seconds)')\n",
    "plt.show()"
   ]
  },
  {
   "cell_type": "code",
   "execution_count": null,
   "metadata": {
    "extensions": {
     "jupyter_dashboards": {
      "version": 1,
      "views": {
       "grid_default": {
        "col": 4,
        "height": 4,
        "hidden": false,
        "row": 0,
        "width": 4
       },
       "report_default": {}
      }
     }
    }
   },
   "outputs": [],
   "source": [
    "display(vin, vin2)"
   ]
  },
  {
   "cell_type": "code",
   "execution_count": null,
   "metadata": {
    "extensions": {
     "jupyter_dashboards": {
      "version": 1,
      "views": {
       "grid_default": {
        "col": 0,
        "height": 10,
        "hidden": false,
        "row": 4,
        "width": null
       },
       "report_default": {}
      }
     }
    },
    "scrolled": false
   },
   "outputs": [],
   "source": [
    "# use Submit widget without a cache\n",
    "Submit(start_func=my_start, done_func=plot_data)"
   ]
  }
 ],
 "metadata": {
  "extensions": {
   "jupyter_dashboards": {
    "activeView": "grid_default",
    "version": 1,
    "views": {
     "grid_default": {
      "cellMargin": 10,
      "defaultCellHeight": 20,
      "maxColumns": 12,
      "name": "grid",
      "type": "grid"
     },
     "report_default": {
      "name": "report",
      "type": "report"
     }
    }
   }
  },
  "kernelspec": {
   "display_name": "Python 3",
   "language": "python",
   "name": "python3"
  },
  "language_info": {
   "codemirror_mode": {
    "name": "ipython",
    "version": 3
   },
   "file_extension": ".py",
   "mimetype": "text/x-python",
   "name": "python",
   "nbconvert_exporter": "python",
   "pygments_lexer": "ipython3",
   "version": "3.7.7"
  }
 },
 "nbformat": 4,
 "nbformat_minor": 2
}
