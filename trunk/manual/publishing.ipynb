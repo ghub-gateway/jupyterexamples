{
 "cells": [
  {
   "cell_type": "markdown",
   "metadata": {},
   "source": [
    "# Publishing Notebooks and Notebook-based Tools"
   ]
  },
  {
   "cell_type": "markdown",
   "metadata": {},
   "source": [
    "## What is Publishing?\n",
    "\n",
    "\n",
    "Publishing a notebook is similar to publishing anything on the hub platform. By publishing your work you will:\n",
    "\n",
    "* Make your work available to others.\n",
    "* Allow others to cite your work. \n",
    "\n",
    "To do this, you will have to go to https://nanohub.org/tools/create and follow the process described there.  Detailed notes follow."
   ]
  },
  {
   "cell_type": "markdown",
   "metadata": {},
   "source": [
    "## Notebooks vs Notebook-based Tools"
   ]
  },
  {
   "cell_type": "markdown",
   "metadata": {},
   "source": [
    "Publishing a notebook is just making your notebook available for others to run.  They will have to step through the cells (or select \"Cell/Run All\") manually.  This is great for tutorials and workflows, but my be distracting for tools where you don't want the users\n",
    "to see (or optionally modify) the code cells.  \n",
    "\n",
    "A \"Notebook-based Tool\" is a notebook that runs automatically.  Code cells are hidden. You can include interactive widgets to get inputs or visualize the outputs.  Using this mode, it is possible to make tools similar to the Rappture-based tools."
   ]
  },
  {
   "cell_type": "markdown",
   "metadata": {},
   "source": [
    "## Publishing Notebooks\n",
    "\n",
    "For detailed information, see [Publishing Notebooks](PublishingNotebooks.ipynb). "
   ]
  },
  {
   "cell_type": "markdown",
   "metadata": {},
   "source": [
    "## Publishing Notebook-based Tools\n",
    "\n",
    "For detailed information, see [Publishing Tools](PublishingTools.ipynb). \n"
   ]
  },
  {
   "cell_type": "markdown",
   "metadata": {},
   "source": [
    "## Installing Python Modules\n",
    "See [Installing Local Python Modules](../examples/misc/installing_python_modules.ipynb)"
   ]
  },
  {
   "cell_type": "markdown",
   "metadata": {},
   "source": [
    "## Installing Libraries\n",
    "\n",
    "Create a local \"lib\" directory for your tool.  In your \"src\" directory you should have a Makefile which builds binaries and puts library files in \"lib\" and executables in \"bin\".\n",
    "\n",
    "To make the system use your \"lib\" directory, put the following in your invoke script:\n",
    "\n",
    "```\n",
    "    -e LD_LIBRARY_PATH=@tool/lib:${LD_LIBRARY_PATH}\n",
    "```"
   ]
  },
  {
   "cell_type": "code",
   "execution_count": 1,
   "metadata": {},
   "outputs": [
    {
     "name": "stdout",
     "output_type": "stream",
     "text": [
      "#!/bin/sh\r\n",
      "\r\n",
      "/usr/bin/invoke_app \"$@\" -C \"start_jupyter -T @tool Index.ipynb\" \\\r\n",
      "                         -u anaconda-6 \\\r\n",
      "                         -e LD_LIBRARY_PATH=@tool/lib:${LD_LIBRARY_PATH}\r\n"
     ]
    }
   ],
   "source": [
    "# example:\n",
    "!cat /apps/jupyterexamples/dev/middleware/invoke"
   ]
  },
  {
   "cell_type": "markdown",
   "metadata": {},
   "source": [
    "For more information on invoke scripts, see https://help.hubzero.org/documentation/220/tooldevs/invoke\n",
    "\n",
    "For general developers information, see https://help.hubzero.org/documentation/220/tooldevs"
   ]
  },
  {
   "cell_type": "markdown",
   "metadata": {},
   "source": [
    "# Hiding Sources\n",
    "\n",
    "The new Appmode does not keep curious users from exiting Appmode and looking at your python code.  If you wish to keep your source code private, we recommend compiling your python code and publishing only the \".pyc\" files.  More details and examples coming..."
   ]
  }
 ],
 "metadata": {
  "kernelspec": {
   "display_name": "Python 3",
   "language": "python",
   "name": "python3"
  },
  "language_info": {
   "codemirror_mode": {
    "name": "ipython",
    "version": 3
   },
   "file_extension": ".py",
   "mimetype": "text/x-python",
   "name": "python",
   "nbconvert_exporter": "python",
   "pygments_lexer": "ipython3",
   "version": "3.7.2"
  }
 },
 "nbformat": 4,
 "nbformat_minor": 1
}
