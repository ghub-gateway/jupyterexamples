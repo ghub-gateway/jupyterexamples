{
 "cells": [
  {
   "cell_type": "markdown",
   "metadata": {},
   "source": [
    "# JUPYTER MANUAL AND EXAMPLES"
   ]
  },
  {
   "cell_type": "markdown",
   "metadata": {
    "extensions": {
     "jupyter_dashboards": {
      "version": 1,
      "views": {
       "grid_default": {
        "col": 0,
        "height": 11,
        "hidden": false,
        "row": 5,
        "width": 12
       },
       "report_default": {
        "hidden": false
       }
      }
     }
    }
   },
   "source": [
    "## Examples have moved to this tool\n",
    "Examples in \"notebooks/_NOTEBOOK_EXAMPLES_\"  and \"notebooks/DOCS_AND_EXAMPLES\" are from previous releases.  You may delete these directories, although they will be recreated in you run an old version of Jupyter.\n",
    "\n",
    "These examples may be installed as tool \"jupyterexamples\" on your hub.  They are also available on github at https://github.com/hubzero/jupyter_notebook_examples\n",
    "\n",
    "## Jupyter Lab is available\n",
    "It is installed as tool \"jupyterlab\".  \n",
    "\n",
    "## [Current Package List](../apps/packages.ipynb)\n",
    "\n",
    "### For more information on Jupyter versions, see [versions](versions.ipynb)"
   ]
  },
  {
   "cell_type": "markdown",
   "metadata": {
    "extensions": {
     "jupyter_dashboards": {
      "version": 1,
      "views": {
       "grid_default": {
        "col": 0,
        "height": 4,
        "hidden": false,
        "row": 20,
        "width": 12
       },
       "report_default": {
        "hidden": false
       }
      }
     }
    }
   },
   "source": [
    "<hr style='background-color:#B0B0B0;height:2px;width:50%;'>\n",
    "\n",
    "# Hub Notebook Examples and  Documentation"
   ]
  },
  {
   "cell_type": "markdown",
   "metadata": {
    "extensions": {
     "jupyter_dashboards": {
      "version": 1,
      "views": {
       "grid_default": {
        "col": 0,
        "height": 10,
        "hidden": false,
        "row": 28,
        "width": 12
       },
       "report_default": {
        "hidden": false
       }
      }
     }
    }
   },
   "source": [
    "## [Users Manual](manual/manual.ipynb)\n",
    "\n",
    "## [Examples](examples/examples.ipynb)\n",
    "    Example notebooks demonstrating some of the installed packages\n",
    "\n",
    "## [Learning Python](examples/python/LearningPython.ipynb) \n",
    "    Materials for learning Python, focusing on scientific programing.\n",
    "    \n",
    "## For Publishing instructions, see [Publishing](manual/publishing.ipynb) \n",
    "    "
   ]
  },
  {
   "cell_type": "markdown",
   "metadata": {
    "extensions": {
     "jupyter_dashboards": {
      "version": 1,
      "views": {
       "grid_default": {
        "col": 0,
        "height": 4,
        "hidden": false,
        "row": 16,
        "width": 12
       },
       "report_default": {
        "hidden": false
       }
      }
     }
    }
   },
   "source": [
    "<div class=\"alert alert-info\">\n",
    "If the notebooks have small fonts and are hard to read, magnify the same way you do with any web page.\n",
    "<kbd>ctrl+</kbd> and <kbd>ctrl-</kbd> or <kbd>ctrl</kbd>+mouse wheel.\n",
    "</div>"
   ]
  },
  {
   "cell_type": "markdown",
   "metadata": {
    "extensions": {
     "jupyter_dashboards": {
      "version": 1,
      "views": {
       "grid_default": {
        "col": 4,
        "height": 4,
        "hidden": false,
        "row": 24,
        "width": 4
       },
       "report_default": {
        "hidden": false
       }
      }
     }
    }
   },
   "source": [
    "## Resources\n",
    "[A Gallery of Interesting Notebooks](https://github.com/jupyter/jupyter/wiki/A-gallery-of-interesting-Jupyter-Notebooks)"
   ]
  }
 ],
 "metadata": {
  "extensions": {
   "jupyter_dashboards": {
    "activeView": "report_default",
    "version": 1,
    "views": {
     "grid_default": {
      "cellMargin": 10,
      "defaultCellHeight": 20,
      "maxColumns": 12,
      "name": "grid",
      "type": "grid"
     },
     "report_default": {
      "name": "report",
      "type": "report"
     }
    }
   }
  },
  "kernelspec": {
   "display_name": "Python 3",
   "language": "python",
   "name": "python3"
  },
  "language_info": {
   "codemirror_mode": {
    "name": "ipython",
    "version": 3
   },
   "file_extension": ".py",
   "mimetype": "text/x-python",
   "name": "python",
   "nbconvert_exporter": "python",
   "pygments_lexer": "ipython3",
   "version": "3.7.3"
  },
  "tool": false
 },
 "nbformat": 4,
 "nbformat_minor": 1
}
