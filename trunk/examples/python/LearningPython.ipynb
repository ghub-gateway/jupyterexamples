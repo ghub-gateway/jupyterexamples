{
 "cells": [
  {
   "cell_type": "markdown",
   "metadata": {},
   "source": [
    "# Learning Python"
   ]
  },
  {
   "cell_type": "markdown",
   "metadata": {},
   "source": [
    "There are lots of great online resources for learning Python and learning Jupyter notebooks with Python.    "
   ]
  },
  {
   "cell_type": "markdown",
   "metadata": {},
   "source": [
    "### Probably the best, most complete book on scientific Python:\n",
    "\n",
    "A Primer on Scientific Programming with Python (Texts in Computational Science and Engineering) 5th ed. 2016 Edition\n",
    "\n",
    "by Hans Petter Langtangen\n",
    "\n",
    "https://www.amazon.com/Scientific-Programming-Computational-Science-Engineering/dp/3662498863/ref=mt_hardcover?_encoding=UTF8"
   ]
  },
  {
   "cell_type": "markdown",
   "metadata": {},
   "source": [
    "### S. Linge and H. P. Langtangen: Programming for Computations\n",
    "\n",
    "A bit more focused, but exectronic version is free. Highly recommended.  Both Python and Matlab versions available:\n",
    "\n",
    "https://hplgit.github.io/prog4comp/index.html\n",
    "\n",
    "Hardcopy:\n",
    "https://www.amazon.com/Programming-Computations-Introduction-Simulations-Computational/dp/3319324276"
   ]
  },
  {
   "cell_type": "markdown",
   "metadata": {},
   "source": [
    "### Another great list of resources:\n",
    "\n",
    "http://hplgit.github.io/bumpy/doc/pub/._bumpy010.html#app:resources"
   ]
  },
  {
   "cell_type": "markdown",
   "metadata": {},
   "source": [
    "Note:\n",
    "\n",
    "I have found that beginners coming from lower-level languages such as C++, Fortran, or Java often stumble when it comes to computations.  They create arrays and then loop over the arrays with nested for loops, computing the new values for each element one-by-one.  This approach works, but will result in very poor performance.  \n",
    "\n",
    "Python's numerical arrays are implemented in the numpy module.  It is designed so you can create n-dimensional arrays and then efficiently perform operations on the whole array, or slices of it.  If you are familiar with Matlab, numpy should feel very familiar.  "
   ]
  }
 ],
 "metadata": {
  "kernelspec": {
   "display_name": "Python3",
   "language": "python",
   "name": "python3"
  },
  "language_info": {
   "codemirror_mode": {
    "name": "ipython",
    "version": 3
   },
   "file_extension": ".py",
   "mimetype": "text/x-python",
   "name": "python",
   "nbconvert_exporter": "python",
   "pygments_lexer": "ipython3",
   "version": "3.7.2"
  }
 },
 "nbformat": 4,
 "nbformat_minor": 2
}
