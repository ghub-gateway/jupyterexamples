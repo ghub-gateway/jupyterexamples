{
 "cells": [
  {
   "cell_type": "markdown",
   "metadata": {},
   "source": [
    "#Table of Contents\n",
    "* [1. Test Entries](#1.-Test-Entries)\n",
    "* [2. Entries for Sample Calican History Paper](#2.-Entries-for-Sample-Calican-History-Paper)\n",
    "\t* [2.1 Real Entries](#2.1-Real-Entries)\n",
    "\t\t* [2.1.1 Books](#2.1.1-Books)\n",
    "\t\t* [2.1.2 Articles](#2.1.2-Articles)\n",
    "\t* [2.2 Fake Entries](#2.2-Fake-Entries)\n",
    "\t\t* [2.2.1 Books](#2.2.1-Books)\n",
    "\t\t* [2.2.2 Articles](#2.2.2-Articles)\n",
    "* [3. Markdown History Entries](#3.-Markdown-History-Entries)\n"
   ]
  },
  {
   "cell_type": "markdown",
   "metadata": {},
   "source": [
    "# 1. Test Entries"
   ]
  },
  {
   "cell_type": "code",
   "execution_count": null,
   "metadata": {
    "collapsed": true
   },
   "outputs": [],
   "source": [
    "<!--bibtex\n",
    "\n",
    "@techreport{ipre:572,\n",
    "     title = {Assessing the Impact of using Robots in Education, or: How we learned to Stop Worrying and Love the Chaos},\n",
    "     author = {Blank, D. and Kumar, D.},\n",
    "     journal = {Educational Robotics and Beyond: Design and Evaluation},\n",
    "     pages = {3--7},\n",
    "     year = {2010},\n",
    "     month = {3},\n",
    "     publisher = {AAAI Press},\n",
    "     series = {AAAI Spring Symposium Series},\n",
    "     url = {http://www.cs.cmu.edu/~AAAI10-ETPL/},\n",
    "     ipre-article-id = {572}\n",
    "}\n",
    "-->"
   ]
  },
  {
   "cell_type": "markdown",
   "metadata": {},
   "source": [
    "# 2. Entries for Sample Calican History Paper"
   ]
  },
  {
   "cell_type": "markdown",
   "metadata": {},
   "source": [
    "File name: Sample Paper.ipynb"
   ]
  },
  {
   "cell_type": "markdown",
   "metadata": {},
   "source": [
    "## 2.1 Real Entries"
   ]
  },
  {
   "cell_type": "markdown",
   "metadata": {},
   "source": [
    "### 2.1.1 Books"
   ]
  },
  {
   "cell_type": "markdown",
   "metadata": {},
   "source": [
    "### 2.1.2 Articles"
   ]
  },
  {
   "cell_type": "code",
   "execution_count": 2,
   "metadata": {
    "collapsed": false
   },
   "outputs": [
    {
     "ename": "SyntaxError",
     "evalue": "invalid syntax (<ipython-input-2-9243ebfec29f>, line 1)",
     "output_type": "error",
     "traceback": [
      "\u001b[1;36m  File \u001b[1;32m\"<ipython-input-2-9243ebfec29f>\"\u001b[1;36m, line \u001b[1;32m1\u001b[0m\n\u001b[1;33m    <!--bibtex\u001b[0m\n\u001b[1;37m    ^\u001b[0m\n\u001b[1;31mSyntaxError\u001b[0m\u001b[1;31m:\u001b[0m invalid syntax\n"
     ]
    }
   ],
   "source": [
    "<!--bibtex\n",
    "\n",
    "@article{wikipediagreatrecession,\n",
    "    title = {Great Recession},\n",
    "    author = {Wikipedia, Empty},\n",
    "    journal = {Wikipedia.org},\n",
    "    url = {http://en.wikipedia.org/wiki/Great_Recession},\n",
    "    year = {2014}\n",
    "}\n",
    "-->"
   ]
  },
  {
   "cell_type": "markdown",
   "metadata": {},
   "source": [
    "## 2.2 Fake Entries"
   ]
  },
  {
   "cell_type": "markdown",
   "metadata": {},
   "source": [
    "### 2.2.1 Books"
   ]
  },
  {
   "cell_type": "code",
   "execution_count": null,
   "metadata": {
    "collapsed": false
   },
   "outputs": [],
   "source": [
    "<!--bibtex\n",
    "\n",
    "@book{wellfarecut,\n",
    "      title = {Our Greatest Threat: The Rise of Anti-Wellfare Politics in Calico in the 21st Century},\n",
    "      author = {Jacob, Bernadette},\n",
    "      year = {2010},\n",
    "      publisher = {Jupyter University Press},\n",
    "      address = {Jupyter, JY}\n",
    "\n",
    "}\n",
    "@book{calicoww2:1,\n",
    "    title = {Calico and WWII: Untold History},\n",
    "    author = {French, Viola},\n",
    "    year = {1997},\n",
    "    publisher = {Calicia City Free Press},\n",
    "    address = {Calicia City, CA}\n",
    "}\n",
    "\n",
    "@book{calicoww2:2,\n",
    "    title = {Rebuilding Calico After Japanese Occupation},\n",
    "    author = {Kepps, Milo},\n",
    "    year = {2002},\n",
    "    publisher = {Python Books},\n",
    "    address = {Pythonia, PY}\n",
    "}   \n",
    "-->"
   ]
  },
  {
   "cell_type": "markdown",
   "metadata": {},
   "source": [
    "### 2.2.2 Articles"
   ]
  },
  {
   "cell_type": "code",
   "execution_count": null,
   "metadata": {
    "collapsed": false
   },
   "outputs": [],
   "source": [
    "-"
   ]
  },
  {
   "cell_type": "markdown",
   "metadata": {},
   "source": [
    "# 3. Markdown History Entries"
   ]
  },
  {
   "cell_type": "markdown",
   "metadata": {},
   "source": [
    "File Name: Markdown History.ipynb"
   ]
  },
  {
   "cell_type": "code",
   "execution_count": null,
   "metadata": {
    "collapsed": false
   },
   "outputs": [],
   "source": [
    "<!--bibtex\n",
    "    \n",
    "@article{markdownswartz,\n",
    "    title = {Markdown},\n",
    "    author = {Swartz, Aaron},\n",
    "    url = {http://www.aaronsw.com/weblog/001189},\n",
    "    year = {2004},\n",
    "    journal = { Aaron Swartz's Blog}\n",
    "}\n",
    "-->\n",
    "    \n",
    "\n"
   ]
  },
  {
   "cell_type": "markdown",
   "metadata": {},
   "source": [
    "# References\n",
    "\n"
   ]
  }
 ],
 "metadata": {
  "kernelspec": {
   "display_name": "Python2",
   "language": "python",
   "name": "python2"
  },
  "language_info": {
   "codemirror_mode": {
    "name": "ipython",
    "version": 2
   },
   "file_extension": ".py",
   "mimetype": "text/x-python",
   "name": "python",
   "nbconvert_exporter": "python",
   "pygments_lexer": "ipython2",
   "version": "2.7.12"
  }
 },
 "nbformat": 4,
 "nbformat_minor": 0
}
