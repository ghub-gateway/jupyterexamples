{
 "cells": [
  {
   "cell_type": "markdown",
   "metadata": {},
   "source": [
    "# Table of Contents\n",
    "* [1. Introduction: Current Events and Misrepresented History](#1.-Introduction:-Current-Events-and-Misrepresented-History)\n",
    "* [2. Historical Background: 1945-1955](#2.-Historical-Background:-1945-1955)\n",
    "\t* [2.1 Early Debates](#2.1-Early-Debates)\n",
    "\t\t* [2.1.1 The Dairy Lobby](#2.1.1-The-Dairy-Lobby)\n",
    "\t\t* [2.1.2 The Corn Lobby](#2.1.2-The-Corn-Lobby)\n",
    "\t\t* [2.1.3 The Fish Lobby](#2.1.3-The-Fish-Lobby)\n",
    "\t* [2.2 Stirring Ideas and Skinny Kids](#2.2-Stirring-Ideas-and-Skinny-Kids)\n",
    "\t* [2.3 The Role of Activism](#2.3-The-Role-of-Activism)\n",
    "\t* [2.4 HealthyStart's Healthy Start](#2.4-HealthyStart's-Healthy-Start)\n",
    "* [3. HealthyStart's Immediate and Long-Term Effects](#3.-HealthyStart's-Immediate-and-Long-Term-Effects)\n",
    "* [4. The Afterlife of HealthyStart in Calico's Historical Imagination](#4.-The-Afterlife-of-HealthyStart-in-Calico's-Historical-Imagination)\n"
   ]
  },
  {
   "cell_type": "markdown",
   "metadata": {},
   "source": [
    "# 1. Introduction: Current Events and Misrepresented History"
   ]
  },
  {
   "cell_type": "markdown",
   "metadata": {},
   "source": [
    "Due to the widespread economic crisis of the aughts and early teens of the 21st century<a name=\"ref-1\"/>[(Wikipedia, 2014)](#cite-wikipediagreatrecession), there have been many debates on the floor of the Calican parliment about raising taxes and allocating federal funds appropriately. In keeping with their big business sympathetic ideology, the Right wing senators have, over the past decade, relentlessly pursued tax cuts and redirection of federal funds away from wellfare programs<a name=\"ref-2\"/>[(Jacob, 2010)](#cite-wellfarecut) and into military expansion<a name=\"ref-3\"/>[(Lane, 2011)](#cite-militaryex1) <a name=\"ref-4\"/>[(Collier, 2012)](#cite-militaryex2)and oil drilling off the coast off of the capital Calican island, Jupyter<a name=\"ref-5\"/>[(Marks, 2012)](#cite-oildrill). Conservatives argue that historically, wellfare programs in Calico have had little, long term beneficial effect and that, furthermore,\"it isn't right to ask the more affluent Calican citizens, prospering from their own hard work, to help those among them who refuse to help themselves,\" as Senator Riese of Python, the rural, northermost island of Calico, explains in a recent correspondence with The Jupyter Times<a name=\"ref-6\"/>[(Wilmington, 2012)](#cite-rieseinterview). In the same interview, Riese goes on to evoke the tired adage about teaching a man to fish, comparing wellfare to unearned and undeserved handouts without any long-term strategy to avoide dependency <a name=\"ref-7\"/>[(Wilmington, 2012)](#cite-rieseinterview).\n",
    "\n",
    "While there have been many poorly organized and ineffective government programs over the last century, this paper seeks to complicate the prevalent narrative concerning Calican wellfare, elucidated so clearly by Senator Riese in the Times article quoted and referenced above. In order to problematize and introduce nuance to this often cited interpretation of Calican history, I intend to analyze one very well-known government project and its long-term effects in great detail. The program, which for many years was the pride and joy of the Calican progressive faction, is none other than the widely (and in its early inception bipartisanly) acclaimed 1950s and 60s fully federally-funded pediatric nutrition campaign, HealthyStart.\n",
    "\n",
    "\n"
   ]
  },
  {
   "cell_type": "markdown",
   "metadata": {},
   "source": [
    "# 2. Historical Background: 1945-1955"
   ]
  },
  {
   "cell_type": "markdown",
   "metadata": {},
   "source": [
    "After the end of WWII, and with it the end of Calico's brief ocupation as one of Japan's major puppet states, the reestablished parliment set about immediately to repair the damage to their small nation's fragile infrastructure <a name=\"ref-8\"/>[(French, 1997)](#cite-calicoww2:1). In his book *Rebuilding Calico After Japanese Occupation*, Milo Kepps argues that because many of the Calico's young men had died defending Calico's southernmost border on the coast of Pieridae between March of 1942 and January of 1944, the nation collectively became obsessed with the health, vitality, and ultimate promise of its children and adolescents <a name=\"ref-9\"/>[(Kepps, 2002)](#cite-calicoww2:2). As evidence of this obsession, Kepps cites a number of famous poitical cartoons, featuring a young boy as the metaphorical Calico in post-war negotiation with other nations. The cartoons, whose illustrator is unknown, were published by The Jupyter Times in a series beginning in 1946 and endig in 1949. The images soon became iconic, appearing on all manner of patriotic memorabilia, from postcards to dinner plates. In 1967, the Calican postal department even issued special addition Boy Calico forever stamps, which proved immensely popular and are now worth a small fortune on online auction. \n",
    "\n",
    "Below is a timeline summarizing the key events leading up to the advent of the HealthyStart program. I will discuss and analyze these events in greater detail in the subsections below. \n",
    "\n"
   ]
  },
  {
   "cell_type": "markdown",
   "metadata": {},
   "source": [
    "[Time Line]"
   ]
  },
  {
   "cell_type": "markdown",
   "metadata": {},
   "source": [
    "## 2.1 Early Debates"
   ]
  },
  {
   "cell_type": "markdown",
   "metadata": {},
   "source": [
    "By 1952 it had become clear that federal nutritional guidelines were on the horizon and the fraught conversation over what were and were not healthy food recomendations began in the Calican parliment. "
   ]
  },
  {
   "cell_type": "markdown",
   "metadata": {},
   "source": [
    "### 2.1.1 The Dairy Lobby"
   ]
  },
  {
   "cell_type": "markdown",
   "metadata": {},
   "source": [
    "### 2.1.2 The Corn Lobby"
   ]
  },
  {
   "cell_type": "markdown",
   "metadata": {},
   "source": [
    "### 2.1.3 The Fish Lobby"
   ]
  },
  {
   "cell_type": "markdown",
   "metadata": {},
   "source": [
    "## 2.2 Stirring Ideas and Skinny Kids"
   ]
  },
  {
   "cell_type": "code",
   "execution_count": null,
   "metadata": {
    "collapsed": false
   },
   "outputs": [],
   "source": []
  },
  {
   "cell_type": "markdown",
   "metadata": {},
   "source": [
    "## 2.3 The Role of Activism"
   ]
  },
  {
   "cell_type": "markdown",
   "metadata": {},
   "source": [
    "## 2.4 HealthyStart's Healthy Start"
   ]
  },
  {
   "cell_type": "markdown",
   "metadata": {},
   "source": [
    "# 3. HealthyStart's Immediate and Long-Term Effects"
   ]
  },
  {
   "cell_type": "markdown",
   "metadata": {
    "collapsed": false,
    "format": "tab"
   },
   "source": [
    "import Csv\n",
    "\n",
    "reader = Csv.reader(\"/home/mwechsler/fakeheightdata4.csv\")\n",
    "\n",
    "data = reader.readLines()\n",
    "\n",
    "calico.GoogleChart(\"Histogram\", [float(x[0]) for x in data])"
   ]
  },
  {
   "cell_type": "markdown",
   "metadata": {},
   "source": [
    "# 4. The Afterlife of HealthyStart in Calico's Historical Imagination"
   ]
  },
  {
   "cell_type": "markdown",
   "metadata": {},
   "source": [
    "Notes: \n",
    "    map of world war 2 puppet states, allies, axis, important allies, important axis \n",
    "(not calico is too little to view on this map)\n",
    "\n",
    "make up reason for geochart that doesn't include calico\n",
    "calico is not included on google maps because of a privacy case where google's commodification of web-user data was declared unconstitutional by the Calican Supreme Court"
   ]
  },
  {
   "cell_type": "markdown",
   "metadata": {},
   "source": [
    "#References\n",
    "\n",
    "<a name=\"cite-militaryex1\"/><sup>[^](#ref-3) </sup>Lane, Lois. 2011. _Conservative Majority Passes Budget to Grow Military_.\n",
    "\n",
    "<a name=\"cite-militaryex2\"/><sup>[^](#ref-4) </sup>Collier, Brian F.. 2012. _Rethinking Calican Military Expansion for the New Century_.\n",
    "\n",
    "<a name=\"cite-oildrill\"/><sup>[^](#ref-5) </sup>Marks, Meghan L.. 2012. _Oil Drilling Off the Coast of Jupyter Approved for Early Next Year_.\n",
    "\n",
    "<a name=\"cite-rieseinterview\"/><sup>[^](#ref-6) [^](#ref-7) </sup>Wilmington, Oliver. 2012. _Interview with Up and Coming Freshman Senator, Alec Riese of Python_.\n",
    "\n"
   ]
  },
  {
   "cell_type": "raw",
   "metadata": {
    "collapsed": false
   },
   "source": [
    "<!--bibtex     \n",
    "         \n",
    "@article{militaryex2,\n",
    "    title = {Rethinking Calican Military Expansion for the New Century},\n",
    "    author = {Collier, Brian F.},\n",
    "    journal = {Modern Politics},\n",
    "    volume = {60},\n",
    "    issue = {25},\n",
    "    pages = {35 - 70},\n",
    "    year = {2012} \n",
    "}\n",
    "\n",
    "@article{militaryex1,\n",
    "    title = {Conservative Majority Passes Budget to Grow Military},\n",
    "    author = {Lane, Lois},\n",
    "    journal = {The Daily Calican},\n",
    "    month = {October 19th, 2011},\n",
    "    pages = {15 - 17},\n",
    "    year = {2011}\n",
    "}\n",
    "\n",
    "@article{oildrill,\n",
    "    title = {Oil Drilling Off the Coast of Jupyter Approved for Early Next Year},\n",
    "    author = {Marks, Meghan L.},\n",
    "    journal = {The Python Gazette},\n",
    "    month = {December 5th, 2012},\n",
    "    pages = {8 - 9},\n",
    "    year = {2012}\n",
    "}\n",
    "\n",
    "@article{rieseinterview,\n",
    "    title = {Interview with Up and Coming Freshman Senator, Alec Riese of Python},\n",
    "    author = {Wilmington, Oliver},\n",
    "    journal = {The Jupyter Times},\n",
    "    month = {November 24th, 2012},\n",
    "    pages = {4 - 7},\n",
    "    year = {2012}\n",
    "}\n",
    "\n",
    "-->"
   ]
  },
  {
   "cell_type": "code",
   "execution_count": null,
   "metadata": {
    "collapsed": true
   },
   "outputs": [],
   "source": []
  },
  {
   "cell_type": "code",
   "execution_count": null,
   "metadata": {
    "collapsed": true
   },
   "outputs": [],
   "source": []
  }
 ],
 "metadata": {
  "celltoolbar": "Raw Cell Format",
  "kernelspec": {
   "display_name": "Python2",
   "language": "python",
   "name": "python2"
  },
  "language_info": {
   "codemirror_mode": {
    "name": "ipython",
    "version": 2
   },
   "file_extension": ".py",
   "mimetype": "text/x-python",
   "name": "python",
   "nbconvert_exporter": "python",
   "pygments_lexer": "ipython2",
   "version": "2.7.12"
  }
 },
 "nbformat": 4,
 "nbformat_minor": 0
}
