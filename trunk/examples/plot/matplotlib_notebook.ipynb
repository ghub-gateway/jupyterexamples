{
 "cells": [
  {
   "cell_type": "markdown",
   "metadata": {
    "extensions": {
     "jupyter_dashboards": {
      "version": 1,
      "views": {
       "grid_default": {
        "col": 0,
        "height": 5,
        "hidden": false,
        "row": 0,
        "width": 12
       },
       "report_default": {}
      }
     }
    }
   },
   "source": [
    "# matplotlib\n",
    "\n",
    "The most common python plotting library is matplotlib. Matplotlib provides an advanced\n",
    "object-oriented interface and a Matlab-like interface called **pyplot**\n",
    "\n",
    "You can see some examples of it in action at:\n",
    "https://matplotlib.org/gallery.html"
   ]
  },
  {
   "cell_type": "markdown",
   "metadata": {
    "extensions": {
     "jupyter_dashboards": {
      "version": 1,
      "views": {
       "grid_default": {
        "col": 0,
        "height": 7,
        "hidden": false,
        "row": 5,
        "width": 12
       },
       "report_default": {}
      }
     }
    }
   },
   "source": [
    "## matplotlib notebook\n",
    "\n",
    "Matplotlib can interact with Jupyter in two different ways; \"inline\" and \"notebook\".  \"Inline\" mode writes static images directly into the output cell.\n",
    "\"Notebook\" mode creates an interactive output widget.\n",
    "\n",
    "Changing between the two modes in a single notebook is discouraged.  Best practice is to declare one at the beginning of your notebook using the appropriate line magic.  For example,\n",
    "\n",
    "``` python\n",
    "%matplotlib notebook\n",
    "import matplotlib.pyplot as plt\n",
    "```"
   ]
  },
  {
   "cell_type": "markdown",
   "metadata": {},
   "source": [
    "<div class=\"alert alert-info\">\n",
    "Note:\n",
    "    \"%matplotlib widget\" is deprecated and will not work with JupyterLab.  Use \"%matplotlib notebook\" instead\n",
    "</div>"
   ]
  },
  {
   "cell_type": "code",
   "execution_count": 2,
   "metadata": {
    "extensions": {
     "jupyter_dashboards": {
      "version": 1,
      "views": {
       "grid_default": {
        "hidden": true
       },
       "report_default": {}
      }
     }
    },
    "scrolled": true
   },
   "outputs": [],
   "source": [
    "%matplotlib notebook"
   ]
  },
  {
   "cell_type": "code",
   "execution_count": 4,
   "metadata": {
    "scrolled": true
   },
   "outputs": [],
   "source": [
    "import numpy as np\n",
    "import matplotlib\n",
    "import matplotlib.pyplot as plt"
   ]
  },
  {
   "cell_type": "markdown",
   "metadata": {
    "extensions": {
     "jupyter_dashboards": {
      "version": 1,
      "views": {
       "grid_default": {
        "col": 0,
        "height": 4,
        "hidden": false,
        "row": 12,
        "width": 4
       },
       "report_default": {}
      }
     }
    }
   },
   "source": [
    "## Simple Example"
   ]
  },
  {
   "cell_type": "code",
   "execution_count": 5,
   "metadata": {
    "extensions": {
     "jupyter_dashboards": {
      "version": 1,
      "views": {
       "grid_default": {
        "col": 4,
        "height": 19,
        "hidden": false,
        "row": 12,
        "width": 5
       },
       "report_default": {}
      }
     }
    }
   },
   "outputs": [
    {
     "data": {
      "application/javascript": [
       "/* Put everything inside the global mpl namespace */\n",
       "/* global mpl */\n",
       "window.mpl = {};\n",
       "\n",
       "mpl.get_websocket_type = function () {\n",
       "    if (typeof WebSocket !== 'undefined') {\n",
       "        return WebSocket;\n",
       "    } else if (typeof MozWebSocket !== 'undefined') {\n",
       "        return MozWebSocket;\n",
       "    } else {\n",
       "        alert(\n",
       "            'Your browser does not have WebSocket support. ' +\n",
       "                'Please try Chrome, Safari or Firefox ≥ 6. ' +\n",
       "                'Firefox 4 and 5 are also supported but you ' +\n",
       "                'have to enable WebSockets in about:config.'\n",
       "        );\n",
       "    }\n",
       "};\n",
       "\n",
       "mpl.figure = function (figure_id, websocket, ondownload, parent_element) {\n",
       "    this.id = figure_id;\n",
       "\n",
       "    this.ws = websocket;\n",
       "\n",
       "    this.supports_binary = this.ws.binaryType !== undefined;\n",
       "\n",
       "    if (!this.supports_binary) {\n",
       "        var warnings = document.getElementById('mpl-warnings');\n",
       "        if (warnings) {\n",
       "            warnings.style.display = 'block';\n",
       "            warnings.textContent =\n",
       "                'This browser does not support binary websocket messages. ' +\n",
       "                'Performance may be slow.';\n",
       "        }\n",
       "    }\n",
       "\n",
       "    this.imageObj = new Image();\n",
       "\n",
       "    this.context = undefined;\n",
       "    this.message = undefined;\n",
       "    this.canvas = undefined;\n",
       "    this.rubberband_canvas = undefined;\n",
       "    this.rubberband_context = undefined;\n",
       "    this.format_dropdown = undefined;\n",
       "\n",
       "    this.image_mode = 'full';\n",
       "\n",
       "    this.root = document.createElement('div');\n",
       "    this.root.setAttribute('style', 'display: inline-block');\n",
       "    this._root_extra_style(this.root);\n",
       "\n",
       "    parent_element.appendChild(this.root);\n",
       "\n",
       "    this._init_header(this);\n",
       "    this._init_canvas(this);\n",
       "    this._init_toolbar(this);\n",
       "\n",
       "    var fig = this;\n",
       "\n",
       "    this.waiting = false;\n",
       "\n",
       "    this.ws.onopen = function () {\n",
       "        fig.send_message('supports_binary', { value: fig.supports_binary });\n",
       "        fig.send_message('send_image_mode', {});\n",
       "        if (fig.ratio !== 1) {\n",
       "            fig.send_message('set_dpi_ratio', { dpi_ratio: fig.ratio });\n",
       "        }\n",
       "        fig.send_message('refresh', {});\n",
       "    };\n",
       "\n",
       "    this.imageObj.onload = function () {\n",
       "        if (fig.image_mode === 'full') {\n",
       "            // Full images could contain transparency (where diff images\n",
       "            // almost always do), so we need to clear the canvas so that\n",
       "            // there is no ghosting.\n",
       "            fig.context.clearRect(0, 0, fig.canvas.width, fig.canvas.height);\n",
       "        }\n",
       "        fig.context.drawImage(fig.imageObj, 0, 0);\n",
       "    };\n",
       "\n",
       "    this.imageObj.onunload = function () {\n",
       "        fig.ws.close();\n",
       "    };\n",
       "\n",
       "    this.ws.onmessage = this._make_on_message_function(this);\n",
       "\n",
       "    this.ondownload = ondownload;\n",
       "};\n",
       "\n",
       "mpl.figure.prototype._init_header = function () {\n",
       "    var titlebar = document.createElement('div');\n",
       "    titlebar.classList =\n",
       "        'ui-dialog-titlebar ui-widget-header ui-corner-all ui-helper-clearfix';\n",
       "    var titletext = document.createElement('div');\n",
       "    titletext.classList = 'ui-dialog-title';\n",
       "    titletext.setAttribute(\n",
       "        'style',\n",
       "        'width: 100%; text-align: center; padding: 3px;'\n",
       "    );\n",
       "    titlebar.appendChild(titletext);\n",
       "    this.root.appendChild(titlebar);\n",
       "    this.header = titletext;\n",
       "};\n",
       "\n",
       "mpl.figure.prototype._canvas_extra_style = function (_canvas_div) {};\n",
       "\n",
       "mpl.figure.prototype._root_extra_style = function (_canvas_div) {};\n",
       "\n",
       "mpl.figure.prototype._init_canvas = function () {\n",
       "    var fig = this;\n",
       "\n",
       "    var canvas_div = (this.canvas_div = document.createElement('div'));\n",
       "    canvas_div.setAttribute(\n",
       "        'style',\n",
       "        'border: 1px solid #ddd;' +\n",
       "            'box-sizing: content-box;' +\n",
       "            'clear: both;' +\n",
       "            'min-height: 1px;' +\n",
       "            'min-width: 1px;' +\n",
       "            'outline: 0;' +\n",
       "            'overflow: hidden;' +\n",
       "            'position: relative;' +\n",
       "            'resize: both;'\n",
       "    );\n",
       "\n",
       "    function on_keyboard_event_closure(name) {\n",
       "        return function (event) {\n",
       "            return fig.key_event(event, name);\n",
       "        };\n",
       "    }\n",
       "\n",
       "    canvas_div.addEventListener(\n",
       "        'keydown',\n",
       "        on_keyboard_event_closure('key_press')\n",
       "    );\n",
       "    canvas_div.addEventListener(\n",
       "        'keyup',\n",
       "        on_keyboard_event_closure('key_release')\n",
       "    );\n",
       "\n",
       "    this._canvas_extra_style(canvas_div);\n",
       "    this.root.appendChild(canvas_div);\n",
       "\n",
       "    var canvas = (this.canvas = document.createElement('canvas'));\n",
       "    canvas.classList.add('mpl-canvas');\n",
       "    canvas.setAttribute('style', 'box-sizing: content-box;');\n",
       "\n",
       "    this.context = canvas.getContext('2d');\n",
       "\n",
       "    var backingStore =\n",
       "        this.context.backingStorePixelRatio ||\n",
       "        this.context.webkitBackingStorePixelRatio ||\n",
       "        this.context.mozBackingStorePixelRatio ||\n",
       "        this.context.msBackingStorePixelRatio ||\n",
       "        this.context.oBackingStorePixelRatio ||\n",
       "        this.context.backingStorePixelRatio ||\n",
       "        1;\n",
       "\n",
       "    this.ratio = (window.devicePixelRatio || 1) / backingStore;\n",
       "    if (this.ratio !== 1) {\n",
       "        fig.send_message('set_dpi_ratio', { dpi_ratio: this.ratio });\n",
       "    }\n",
       "\n",
       "    var rubberband_canvas = (this.rubberband_canvas = document.createElement(\n",
       "        'canvas'\n",
       "    ));\n",
       "    rubberband_canvas.setAttribute(\n",
       "        'style',\n",
       "        'box-sizing: content-box; position: absolute; left: 0; top: 0; z-index: 1;'\n",
       "    );\n",
       "\n",
       "    var resizeObserver = new ResizeObserver(function (entries) {\n",
       "        var nentries = entries.length;\n",
       "        for (var i = 0; i < nentries; i++) {\n",
       "            var entry = entries[i];\n",
       "            var width, height;\n",
       "            if (entry.contentBoxSize) {\n",
       "                if (entry.contentBoxSize instanceof Array) {\n",
       "                    // Chrome 84 implements new version of spec.\n",
       "                    width = entry.contentBoxSize[0].inlineSize;\n",
       "                    height = entry.contentBoxSize[0].blockSize;\n",
       "                } else {\n",
       "                    // Firefox implements old version of spec.\n",
       "                    width = entry.contentBoxSize.inlineSize;\n",
       "                    height = entry.contentBoxSize.blockSize;\n",
       "                }\n",
       "            } else {\n",
       "                // Chrome <84 implements even older version of spec.\n",
       "                width = entry.contentRect.width;\n",
       "                height = entry.contentRect.height;\n",
       "            }\n",
       "\n",
       "            // Keep the size of the canvas and rubber band canvas in sync with\n",
       "            // the canvas container.\n",
       "            if (entry.devicePixelContentBoxSize) {\n",
       "                // Chrome 84 implements new version of spec.\n",
       "                canvas.setAttribute(\n",
       "                    'width',\n",
       "                    entry.devicePixelContentBoxSize[0].inlineSize\n",
       "                );\n",
       "                canvas.setAttribute(\n",
       "                    'height',\n",
       "                    entry.devicePixelContentBoxSize[0].blockSize\n",
       "                );\n",
       "            } else {\n",
       "                canvas.setAttribute('width', width * fig.ratio);\n",
       "                canvas.setAttribute('height', height * fig.ratio);\n",
       "            }\n",
       "            canvas.setAttribute(\n",
       "                'style',\n",
       "                'width: ' + width + 'px; height: ' + height + 'px;'\n",
       "            );\n",
       "\n",
       "            rubberband_canvas.setAttribute('width', width);\n",
       "            rubberband_canvas.setAttribute('height', height);\n",
       "\n",
       "            // And update the size in Python. We ignore the initial 0/0 size\n",
       "            // that occurs as the element is placed into the DOM, which should\n",
       "            // otherwise not happen due to the minimum size styling.\n",
       "            if (width != 0 && height != 0) {\n",
       "                fig.request_resize(width, height);\n",
       "            }\n",
       "        }\n",
       "    });\n",
       "    resizeObserver.observe(canvas_div);\n",
       "\n",
       "    function on_mouse_event_closure(name) {\n",
       "        return function (event) {\n",
       "            return fig.mouse_event(event, name);\n",
       "        };\n",
       "    }\n",
       "\n",
       "    rubberband_canvas.addEventListener(\n",
       "        'mousedown',\n",
       "        on_mouse_event_closure('button_press')\n",
       "    );\n",
       "    rubberband_canvas.addEventListener(\n",
       "        'mouseup',\n",
       "        on_mouse_event_closure('button_release')\n",
       "    );\n",
       "    // Throttle sequential mouse events to 1 every 20ms.\n",
       "    rubberband_canvas.addEventListener(\n",
       "        'mousemove',\n",
       "        on_mouse_event_closure('motion_notify')\n",
       "    );\n",
       "\n",
       "    rubberband_canvas.addEventListener(\n",
       "        'mouseenter',\n",
       "        on_mouse_event_closure('figure_enter')\n",
       "    );\n",
       "    rubberband_canvas.addEventListener(\n",
       "        'mouseleave',\n",
       "        on_mouse_event_closure('figure_leave')\n",
       "    );\n",
       "\n",
       "    canvas_div.addEventListener('wheel', function (event) {\n",
       "        if (event.deltaY < 0) {\n",
       "            event.step = 1;\n",
       "        } else {\n",
       "            event.step = -1;\n",
       "        }\n",
       "        on_mouse_event_closure('scroll')(event);\n",
       "    });\n",
       "\n",
       "    canvas_div.appendChild(canvas);\n",
       "    canvas_div.appendChild(rubberband_canvas);\n",
       "\n",
       "    this.rubberband_context = rubberband_canvas.getContext('2d');\n",
       "    this.rubberband_context.strokeStyle = '#000000';\n",
       "\n",
       "    this._resize_canvas = function (width, height, forward) {\n",
       "        if (forward) {\n",
       "            canvas_div.style.width = width + 'px';\n",
       "            canvas_div.style.height = height + 'px';\n",
       "        }\n",
       "    };\n",
       "\n",
       "    // Disable right mouse context menu.\n",
       "    this.rubberband_canvas.addEventListener('contextmenu', function (_e) {\n",
       "        event.preventDefault();\n",
       "        return false;\n",
       "    });\n",
       "\n",
       "    function set_focus() {\n",
       "        canvas.focus();\n",
       "        canvas_div.focus();\n",
       "    }\n",
       "\n",
       "    window.setTimeout(set_focus, 100);\n",
       "};\n",
       "\n",
       "mpl.figure.prototype._init_toolbar = function () {\n",
       "    var fig = this;\n",
       "\n",
       "    var toolbar = document.createElement('div');\n",
       "    toolbar.classList = 'mpl-toolbar';\n",
       "    this.root.appendChild(toolbar);\n",
       "\n",
       "    function on_click_closure(name) {\n",
       "        return function (_event) {\n",
       "            return fig.toolbar_button_onclick(name);\n",
       "        };\n",
       "    }\n",
       "\n",
       "    function on_mouseover_closure(tooltip) {\n",
       "        return function (event) {\n",
       "            if (!event.currentTarget.disabled) {\n",
       "                return fig.toolbar_button_onmouseover(tooltip);\n",
       "            }\n",
       "        };\n",
       "    }\n",
       "\n",
       "    fig.buttons = {};\n",
       "    var buttonGroup = document.createElement('div');\n",
       "    buttonGroup.classList = 'mpl-button-group';\n",
       "    for (var toolbar_ind in mpl.toolbar_items) {\n",
       "        var name = mpl.toolbar_items[toolbar_ind][0];\n",
       "        var tooltip = mpl.toolbar_items[toolbar_ind][1];\n",
       "        var image = mpl.toolbar_items[toolbar_ind][2];\n",
       "        var method_name = mpl.toolbar_items[toolbar_ind][3];\n",
       "\n",
       "        if (!name) {\n",
       "            /* Instead of a spacer, we start a new button group. */\n",
       "            if (buttonGroup.hasChildNodes()) {\n",
       "                toolbar.appendChild(buttonGroup);\n",
       "            }\n",
       "            buttonGroup = document.createElement('div');\n",
       "            buttonGroup.classList = 'mpl-button-group';\n",
       "            continue;\n",
       "        }\n",
       "\n",
       "        var button = (fig.buttons[name] = document.createElement('button'));\n",
       "        button.classList = 'mpl-widget';\n",
       "        button.setAttribute('role', 'button');\n",
       "        button.setAttribute('aria-disabled', 'false');\n",
       "        button.addEventListener('click', on_click_closure(method_name));\n",
       "        button.addEventListener('mouseover', on_mouseover_closure(tooltip));\n",
       "\n",
       "        var icon_img = document.createElement('img');\n",
       "        icon_img.src = '_images/' + image + '.png';\n",
       "        icon_img.srcset = '_images/' + image + '_large.png 2x';\n",
       "        icon_img.alt = tooltip;\n",
       "        button.appendChild(icon_img);\n",
       "\n",
       "        buttonGroup.appendChild(button);\n",
       "    }\n",
       "\n",
       "    if (buttonGroup.hasChildNodes()) {\n",
       "        toolbar.appendChild(buttonGroup);\n",
       "    }\n",
       "\n",
       "    var fmt_picker = document.createElement('select');\n",
       "    fmt_picker.classList = 'mpl-widget';\n",
       "    toolbar.appendChild(fmt_picker);\n",
       "    this.format_dropdown = fmt_picker;\n",
       "\n",
       "    for (var ind in mpl.extensions) {\n",
       "        var fmt = mpl.extensions[ind];\n",
       "        var option = document.createElement('option');\n",
       "        option.selected = fmt === mpl.default_extension;\n",
       "        option.innerHTML = fmt;\n",
       "        fmt_picker.appendChild(option);\n",
       "    }\n",
       "\n",
       "    var status_bar = document.createElement('span');\n",
       "    status_bar.classList = 'mpl-message';\n",
       "    toolbar.appendChild(status_bar);\n",
       "    this.message = status_bar;\n",
       "};\n",
       "\n",
       "mpl.figure.prototype.request_resize = function (x_pixels, y_pixels) {\n",
       "    // Request matplotlib to resize the figure. Matplotlib will then trigger a resize in the client,\n",
       "    // which will in turn request a refresh of the image.\n",
       "    this.send_message('resize', { width: x_pixels, height: y_pixels });\n",
       "};\n",
       "\n",
       "mpl.figure.prototype.send_message = function (type, properties) {\n",
       "    properties['type'] = type;\n",
       "    properties['figure_id'] = this.id;\n",
       "    this.ws.send(JSON.stringify(properties));\n",
       "};\n",
       "\n",
       "mpl.figure.prototype.send_draw_message = function () {\n",
       "    if (!this.waiting) {\n",
       "        this.waiting = true;\n",
       "        this.ws.send(JSON.stringify({ type: 'draw', figure_id: this.id }));\n",
       "    }\n",
       "};\n",
       "\n",
       "mpl.figure.prototype.handle_save = function (fig, _msg) {\n",
       "    var format_dropdown = fig.format_dropdown;\n",
       "    var format = format_dropdown.options[format_dropdown.selectedIndex].value;\n",
       "    fig.ondownload(fig, format);\n",
       "};\n",
       "\n",
       "mpl.figure.prototype.handle_resize = function (fig, msg) {\n",
       "    var size = msg['size'];\n",
       "    if (size[0] !== fig.canvas.width || size[1] !== fig.canvas.height) {\n",
       "        fig._resize_canvas(size[0], size[1], msg['forward']);\n",
       "        fig.send_message('refresh', {});\n",
       "    }\n",
       "};\n",
       "\n",
       "mpl.figure.prototype.handle_rubberband = function (fig, msg) {\n",
       "    var x0 = msg['x0'] / fig.ratio;\n",
       "    var y0 = (fig.canvas.height - msg['y0']) / fig.ratio;\n",
       "    var x1 = msg['x1'] / fig.ratio;\n",
       "    var y1 = (fig.canvas.height - msg['y1']) / fig.ratio;\n",
       "    x0 = Math.floor(x0) + 0.5;\n",
       "    y0 = Math.floor(y0) + 0.5;\n",
       "    x1 = Math.floor(x1) + 0.5;\n",
       "    y1 = Math.floor(y1) + 0.5;\n",
       "    var min_x = Math.min(x0, x1);\n",
       "    var min_y = Math.min(y0, y1);\n",
       "    var width = Math.abs(x1 - x0);\n",
       "    var height = Math.abs(y1 - y0);\n",
       "\n",
       "    fig.rubberband_context.clearRect(\n",
       "        0,\n",
       "        0,\n",
       "        fig.canvas.width / fig.ratio,\n",
       "        fig.canvas.height / fig.ratio\n",
       "    );\n",
       "\n",
       "    fig.rubberband_context.strokeRect(min_x, min_y, width, height);\n",
       "};\n",
       "\n",
       "mpl.figure.prototype.handle_figure_label = function (fig, msg) {\n",
       "    // Updates the figure title.\n",
       "    fig.header.textContent = msg['label'];\n",
       "};\n",
       "\n",
       "mpl.figure.prototype.handle_cursor = function (fig, msg) {\n",
       "    var cursor = msg['cursor'];\n",
       "    switch (cursor) {\n",
       "        case 0:\n",
       "            cursor = 'pointer';\n",
       "            break;\n",
       "        case 1:\n",
       "            cursor = 'default';\n",
       "            break;\n",
       "        case 2:\n",
       "            cursor = 'crosshair';\n",
       "            break;\n",
       "        case 3:\n",
       "            cursor = 'move';\n",
       "            break;\n",
       "    }\n",
       "    fig.rubberband_canvas.style.cursor = cursor;\n",
       "};\n",
       "\n",
       "mpl.figure.prototype.handle_message = function (fig, msg) {\n",
       "    fig.message.textContent = msg['message'];\n",
       "};\n",
       "\n",
       "mpl.figure.prototype.handle_draw = function (fig, _msg) {\n",
       "    // Request the server to send over a new figure.\n",
       "    fig.send_draw_message();\n",
       "};\n",
       "\n",
       "mpl.figure.prototype.handle_image_mode = function (fig, msg) {\n",
       "    fig.image_mode = msg['mode'];\n",
       "};\n",
       "\n",
       "mpl.figure.prototype.handle_history_buttons = function (fig, msg) {\n",
       "    for (var key in msg) {\n",
       "        if (!(key in fig.buttons)) {\n",
       "            continue;\n",
       "        }\n",
       "        fig.buttons[key].disabled = !msg[key];\n",
       "        fig.buttons[key].setAttribute('aria-disabled', !msg[key]);\n",
       "    }\n",
       "};\n",
       "\n",
       "mpl.figure.prototype.handle_navigate_mode = function (fig, msg) {\n",
       "    if (msg['mode'] === 'PAN') {\n",
       "        fig.buttons['Pan'].classList.add('active');\n",
       "        fig.buttons['Zoom'].classList.remove('active');\n",
       "    } else if (msg['mode'] === 'ZOOM') {\n",
       "        fig.buttons['Pan'].classList.remove('active');\n",
       "        fig.buttons['Zoom'].classList.add('active');\n",
       "    } else {\n",
       "        fig.buttons['Pan'].classList.remove('active');\n",
       "        fig.buttons['Zoom'].classList.remove('active');\n",
       "    }\n",
       "};\n",
       "\n",
       "mpl.figure.prototype.updated_canvas_event = function () {\n",
       "    // Called whenever the canvas gets updated.\n",
       "    this.send_message('ack', {});\n",
       "};\n",
       "\n",
       "// A function to construct a web socket function for onmessage handling.\n",
       "// Called in the figure constructor.\n",
       "mpl.figure.prototype._make_on_message_function = function (fig) {\n",
       "    return function socket_on_message(evt) {\n",
       "        if (evt.data instanceof Blob) {\n",
       "            /* FIXME: We get \"Resource interpreted as Image but\n",
       "             * transferred with MIME type text/plain:\" errors on\n",
       "             * Chrome.  But how to set the MIME type?  It doesn't seem\n",
       "             * to be part of the websocket stream */\n",
       "            evt.data.type = 'image/png';\n",
       "\n",
       "            /* Free the memory for the previous frames */\n",
       "            if (fig.imageObj.src) {\n",
       "                (window.URL || window.webkitURL).revokeObjectURL(\n",
       "                    fig.imageObj.src\n",
       "                );\n",
       "            }\n",
       "\n",
       "            fig.imageObj.src = (window.URL || window.webkitURL).createObjectURL(\n",
       "                evt.data\n",
       "            );\n",
       "            fig.updated_canvas_event();\n",
       "            fig.waiting = false;\n",
       "            return;\n",
       "        } else if (\n",
       "            typeof evt.data === 'string' &&\n",
       "            evt.data.slice(0, 21) === 'data:image/png;base64'\n",
       "        ) {\n",
       "            fig.imageObj.src = evt.data;\n",
       "            fig.updated_canvas_event();\n",
       "            fig.waiting = false;\n",
       "            return;\n",
       "        }\n",
       "\n",
       "        var msg = JSON.parse(evt.data);\n",
       "        var msg_type = msg['type'];\n",
       "\n",
       "        // Call the  \"handle_{type}\" callback, which takes\n",
       "        // the figure and JSON message as its only arguments.\n",
       "        try {\n",
       "            var callback = fig['handle_' + msg_type];\n",
       "        } catch (e) {\n",
       "            console.log(\n",
       "                \"No handler for the '\" + msg_type + \"' message type: \",\n",
       "                msg\n",
       "            );\n",
       "            return;\n",
       "        }\n",
       "\n",
       "        if (callback) {\n",
       "            try {\n",
       "                // console.log(\"Handling '\" + msg_type + \"' message: \", msg);\n",
       "                callback(fig, msg);\n",
       "            } catch (e) {\n",
       "                console.log(\n",
       "                    \"Exception inside the 'handler_\" + msg_type + \"' callback:\",\n",
       "                    e,\n",
       "                    e.stack,\n",
       "                    msg\n",
       "                );\n",
       "            }\n",
       "        }\n",
       "    };\n",
       "};\n",
       "\n",
       "// from http://stackoverflow.com/questions/1114465/getting-mouse-location-in-canvas\n",
       "mpl.findpos = function (e) {\n",
       "    //this section is from http://www.quirksmode.org/js/events_properties.html\n",
       "    var targ;\n",
       "    if (!e) {\n",
       "        e = window.event;\n",
       "    }\n",
       "    if (e.target) {\n",
       "        targ = e.target;\n",
       "    } else if (e.srcElement) {\n",
       "        targ = e.srcElement;\n",
       "    }\n",
       "    if (targ.nodeType === 3) {\n",
       "        // defeat Safari bug\n",
       "        targ = targ.parentNode;\n",
       "    }\n",
       "\n",
       "    // pageX,Y are the mouse positions relative to the document\n",
       "    var boundingRect = targ.getBoundingClientRect();\n",
       "    var x = e.pageX - (boundingRect.left + document.body.scrollLeft);\n",
       "    var y = e.pageY - (boundingRect.top + document.body.scrollTop);\n",
       "\n",
       "    return { x: x, y: y };\n",
       "};\n",
       "\n",
       "/*\n",
       " * return a copy of an object with only non-object keys\n",
       " * we need this to avoid circular references\n",
       " * http://stackoverflow.com/a/24161582/3208463\n",
       " */\n",
       "function simpleKeys(original) {\n",
       "    return Object.keys(original).reduce(function (obj, key) {\n",
       "        if (typeof original[key] !== 'object') {\n",
       "            obj[key] = original[key];\n",
       "        }\n",
       "        return obj;\n",
       "    }, {});\n",
       "}\n",
       "\n",
       "mpl.figure.prototype.mouse_event = function (event, name) {\n",
       "    var canvas_pos = mpl.findpos(event);\n",
       "\n",
       "    if (name === 'button_press') {\n",
       "        this.canvas.focus();\n",
       "        this.canvas_div.focus();\n",
       "    }\n",
       "\n",
       "    var x = canvas_pos.x * this.ratio;\n",
       "    var y = canvas_pos.y * this.ratio;\n",
       "\n",
       "    this.send_message(name, {\n",
       "        x: x,\n",
       "        y: y,\n",
       "        button: event.button,\n",
       "        step: event.step,\n",
       "        guiEvent: simpleKeys(event),\n",
       "    });\n",
       "\n",
       "    /* This prevents the web browser from automatically changing to\n",
       "     * the text insertion cursor when the button is pressed.  We want\n",
       "     * to control all of the cursor setting manually through the\n",
       "     * 'cursor' event from matplotlib */\n",
       "    event.preventDefault();\n",
       "    return false;\n",
       "};\n",
       "\n",
       "mpl.figure.prototype._key_event_extra = function (_event, _name) {\n",
       "    // Handle any extra behaviour associated with a key event\n",
       "};\n",
       "\n",
       "mpl.figure.prototype.key_event = function (event, name) {\n",
       "    // Prevent repeat events\n",
       "    if (name === 'key_press') {\n",
       "        if (event.which === this._key) {\n",
       "            return;\n",
       "        } else {\n",
       "            this._key = event.which;\n",
       "        }\n",
       "    }\n",
       "    if (name === 'key_release') {\n",
       "        this._key = null;\n",
       "    }\n",
       "\n",
       "    var value = '';\n",
       "    if (event.ctrlKey && event.which !== 17) {\n",
       "        value += 'ctrl+';\n",
       "    }\n",
       "    if (event.altKey && event.which !== 18) {\n",
       "        value += 'alt+';\n",
       "    }\n",
       "    if (event.shiftKey && event.which !== 16) {\n",
       "        value += 'shift+';\n",
       "    }\n",
       "\n",
       "    value += 'k';\n",
       "    value += event.which.toString();\n",
       "\n",
       "    this._key_event_extra(event, name);\n",
       "\n",
       "    this.send_message(name, { key: value, guiEvent: simpleKeys(event) });\n",
       "    return false;\n",
       "};\n",
       "\n",
       "mpl.figure.prototype.toolbar_button_onclick = function (name) {\n",
       "    if (name === 'download') {\n",
       "        this.handle_save(this, null);\n",
       "    } else {\n",
       "        this.send_message('toolbar_button', { name: name });\n",
       "    }\n",
       "};\n",
       "\n",
       "mpl.figure.prototype.toolbar_button_onmouseover = function (tooltip) {\n",
       "    this.message.textContent = tooltip;\n",
       "};\n",
       "mpl.toolbar_items = [[\"Home\", \"Reset original view\", \"fa fa-home icon-home\", \"home\"], [\"Back\", \"Back to previous view\", \"fa fa-arrow-left icon-arrow-left\", \"back\"], [\"Forward\", \"Forward to next view\", \"fa fa-arrow-right icon-arrow-right\", \"forward\"], [\"\", \"\", \"\", \"\"], [\"Pan\", \"Left button pans, Right button zooms\\nx/y fixes axis, CTRL fixes aspect\", \"fa fa-arrows icon-move\", \"pan\"], [\"Zoom\", \"Zoom to rectangle\\nx/y fixes axis, CTRL fixes aspect\", \"fa fa-square-o icon-check-empty\", \"zoom\"], [\"\", \"\", \"\", \"\"], [\"Download\", \"Download plot\", \"fa fa-floppy-o icon-save\", \"download\"]];\n",
       "\n",
       "mpl.extensions = [\"eps\", \"jpeg\", \"pdf\", \"png\", \"ps\", \"raw\", \"svg\", \"tif\"];\n",
       "\n",
       "mpl.default_extension = \"png\";/* global mpl */\n",
       "\n",
       "var comm_websocket_adapter = function (comm) {\n",
       "    // Create a \"websocket\"-like object which calls the given IPython comm\n",
       "    // object with the appropriate methods. Currently this is a non binary\n",
       "    // socket, so there is still some room for performance tuning.\n",
       "    var ws = {};\n",
       "\n",
       "    ws.close = function () {\n",
       "        comm.close();\n",
       "    };\n",
       "    ws.send = function (m) {\n",
       "        //console.log('sending', m);\n",
       "        comm.send(m);\n",
       "    };\n",
       "    // Register the callback with on_msg.\n",
       "    comm.on_msg(function (msg) {\n",
       "        //console.log('receiving', msg['content']['data'], msg);\n",
       "        // Pass the mpl event to the overridden (by mpl) onmessage function.\n",
       "        ws.onmessage(msg['content']['data']);\n",
       "    });\n",
       "    return ws;\n",
       "};\n",
       "\n",
       "mpl.mpl_figure_comm = function (comm, msg) {\n",
       "    // This is the function which gets called when the mpl process\n",
       "    // starts-up an IPython Comm through the \"matplotlib\" channel.\n",
       "\n",
       "    var id = msg.content.data.id;\n",
       "    // Get hold of the div created by the display call when the Comm\n",
       "    // socket was opened in Python.\n",
       "    var element = document.getElementById(id);\n",
       "    var ws_proxy = comm_websocket_adapter(comm);\n",
       "\n",
       "    function ondownload(figure, _format) {\n",
       "        window.open(figure.canvas.toDataURL());\n",
       "    }\n",
       "\n",
       "    var fig = new mpl.figure(id, ws_proxy, ondownload, element);\n",
       "\n",
       "    // Call onopen now - mpl needs it, as it is assuming we've passed it a real\n",
       "    // web socket which is closed, not our websocket->open comm proxy.\n",
       "    ws_proxy.onopen();\n",
       "\n",
       "    fig.parent_element = element;\n",
       "    fig.cell_info = mpl.find_output_cell(\"<div id='\" + id + \"'></div>\");\n",
       "    if (!fig.cell_info) {\n",
       "        console.error('Failed to find cell for figure', id, fig);\n",
       "        return;\n",
       "    }\n",
       "    fig.cell_info[0].output_area.element.one(\n",
       "        'cleared',\n",
       "        { fig: fig },\n",
       "        fig._remove_fig_handler\n",
       "    );\n",
       "};\n",
       "\n",
       "mpl.figure.prototype.handle_close = function (fig, msg) {\n",
       "    var width = fig.canvas.width / fig.ratio;\n",
       "    fig.cell_info[0].output_area.element.off(\n",
       "        'cleared',\n",
       "        fig._remove_fig_handler\n",
       "    );\n",
       "\n",
       "    // Update the output cell to use the data from the current canvas.\n",
       "    fig.push_to_output();\n",
       "    var dataURL = fig.canvas.toDataURL();\n",
       "    // Re-enable the keyboard manager in IPython - without this line, in FF,\n",
       "    // the notebook keyboard shortcuts fail.\n",
       "    IPython.keyboard_manager.enable();\n",
       "    fig.parent_element.innerHTML =\n",
       "        '<img src=\"' + dataURL + '\" width=\"' + width + '\">';\n",
       "    fig.close_ws(fig, msg);\n",
       "};\n",
       "\n",
       "mpl.figure.prototype.close_ws = function (fig, msg) {\n",
       "    fig.send_message('closing', msg);\n",
       "    // fig.ws.close()\n",
       "};\n",
       "\n",
       "mpl.figure.prototype.push_to_output = function (_remove_interactive) {\n",
       "    // Turn the data on the canvas into data in the output cell.\n",
       "    var width = this.canvas.width / this.ratio;\n",
       "    var dataURL = this.canvas.toDataURL();\n",
       "    this.cell_info[1]['text/html'] =\n",
       "        '<img src=\"' + dataURL + '\" width=\"' + width + '\">';\n",
       "};\n",
       "\n",
       "mpl.figure.prototype.updated_canvas_event = function () {\n",
       "    // Tell IPython that the notebook contents must change.\n",
       "    IPython.notebook.set_dirty(true);\n",
       "    this.send_message('ack', {});\n",
       "    var fig = this;\n",
       "    // Wait a second, then push the new image to the DOM so\n",
       "    // that it is saved nicely (might be nice to debounce this).\n",
       "    setTimeout(function () {\n",
       "        fig.push_to_output();\n",
       "    }, 1000);\n",
       "};\n",
       "\n",
       "mpl.figure.prototype._init_toolbar = function () {\n",
       "    var fig = this;\n",
       "\n",
       "    var toolbar = document.createElement('div');\n",
       "    toolbar.classList = 'btn-toolbar';\n",
       "    this.root.appendChild(toolbar);\n",
       "\n",
       "    function on_click_closure(name) {\n",
       "        return function (_event) {\n",
       "            return fig.toolbar_button_onclick(name);\n",
       "        };\n",
       "    }\n",
       "\n",
       "    function on_mouseover_closure(tooltip) {\n",
       "        return function (event) {\n",
       "            if (!event.currentTarget.disabled) {\n",
       "                return fig.toolbar_button_onmouseover(tooltip);\n",
       "            }\n",
       "        };\n",
       "    }\n",
       "\n",
       "    fig.buttons = {};\n",
       "    var buttonGroup = document.createElement('div');\n",
       "    buttonGroup.classList = 'btn-group';\n",
       "    var button;\n",
       "    for (var toolbar_ind in mpl.toolbar_items) {\n",
       "        var name = mpl.toolbar_items[toolbar_ind][0];\n",
       "        var tooltip = mpl.toolbar_items[toolbar_ind][1];\n",
       "        var image = mpl.toolbar_items[toolbar_ind][2];\n",
       "        var method_name = mpl.toolbar_items[toolbar_ind][3];\n",
       "\n",
       "        if (!name) {\n",
       "            /* Instead of a spacer, we start a new button group. */\n",
       "            if (buttonGroup.hasChildNodes()) {\n",
       "                toolbar.appendChild(buttonGroup);\n",
       "            }\n",
       "            buttonGroup = document.createElement('div');\n",
       "            buttonGroup.classList = 'btn-group';\n",
       "            continue;\n",
       "        }\n",
       "\n",
       "        button = fig.buttons[name] = document.createElement('button');\n",
       "        button.classList = 'btn btn-default';\n",
       "        button.href = '#';\n",
       "        button.title = name;\n",
       "        button.innerHTML = '<i class=\"fa ' + image + ' fa-lg\"></i>';\n",
       "        button.addEventListener('click', on_click_closure(method_name));\n",
       "        button.addEventListener('mouseover', on_mouseover_closure(tooltip));\n",
       "        buttonGroup.appendChild(button);\n",
       "    }\n",
       "\n",
       "    if (buttonGroup.hasChildNodes()) {\n",
       "        toolbar.appendChild(buttonGroup);\n",
       "    }\n",
       "\n",
       "    // Add the status bar.\n",
       "    var status_bar = document.createElement('span');\n",
       "    status_bar.classList = 'mpl-message pull-right';\n",
       "    toolbar.appendChild(status_bar);\n",
       "    this.message = status_bar;\n",
       "\n",
       "    // Add the close button to the window.\n",
       "    var buttongrp = document.createElement('div');\n",
       "    buttongrp.classList = 'btn-group inline pull-right';\n",
       "    button = document.createElement('button');\n",
       "    button.classList = 'btn btn-mini btn-primary';\n",
       "    button.href = '#';\n",
       "    button.title = 'Stop Interaction';\n",
       "    button.innerHTML = '<i class=\"fa fa-power-off icon-remove icon-large\"></i>';\n",
       "    button.addEventListener('click', function (_evt) {\n",
       "        fig.handle_close(fig, {});\n",
       "    });\n",
       "    button.addEventListener(\n",
       "        'mouseover',\n",
       "        on_mouseover_closure('Stop Interaction')\n",
       "    );\n",
       "    buttongrp.appendChild(button);\n",
       "    var titlebar = this.root.querySelector('.ui-dialog-titlebar');\n",
       "    titlebar.insertBefore(buttongrp, titlebar.firstChild);\n",
       "};\n",
       "\n",
       "mpl.figure.prototype._remove_fig_handler = function (event) {\n",
       "    var fig = event.data.fig;\n",
       "    fig.close_ws(fig, {});\n",
       "};\n",
       "\n",
       "mpl.figure.prototype._root_extra_style = function (el) {\n",
       "    el.style.boxSizing = 'content-box'; // override notebook setting of border-box.\n",
       "};\n",
       "\n",
       "mpl.figure.prototype._canvas_extra_style = function (el) {\n",
       "    // this is important to make the div 'focusable\n",
       "    el.setAttribute('tabindex', 0);\n",
       "    // reach out to IPython and tell the keyboard manager to turn it's self\n",
       "    // off when our div gets focus\n",
       "\n",
       "    // location in version 3\n",
       "    if (IPython.notebook.keyboard_manager) {\n",
       "        IPython.notebook.keyboard_manager.register_events(el);\n",
       "    } else {\n",
       "        // location in version 2\n",
       "        IPython.keyboard_manager.register_events(el);\n",
       "    }\n",
       "};\n",
       "\n",
       "mpl.figure.prototype._key_event_extra = function (event, _name) {\n",
       "    var manager = IPython.notebook.keyboard_manager;\n",
       "    if (!manager) {\n",
       "        manager = IPython.keyboard_manager;\n",
       "    }\n",
       "\n",
       "    // Check for shift+enter\n",
       "    if (event.shiftKey && event.which === 13) {\n",
       "        this.canvas_div.blur();\n",
       "        // select the cell after this one\n",
       "        var index = IPython.notebook.find_cell_index(this.cell_info[0]);\n",
       "        IPython.notebook.select(index + 1);\n",
       "    }\n",
       "};\n",
       "\n",
       "mpl.figure.prototype.handle_save = function (fig, _msg) {\n",
       "    fig.ondownload(fig, null);\n",
       "};\n",
       "\n",
       "mpl.find_output_cell = function (html_output) {\n",
       "    // Return the cell and output element which can be found *uniquely* in the notebook.\n",
       "    // Note - this is a bit hacky, but it is done because the \"notebook_saving.Notebook\"\n",
       "    // IPython event is triggered only after the cells have been serialised, which for\n",
       "    // our purposes (turning an active figure into a static one), is too late.\n",
       "    var cells = IPython.notebook.get_cells();\n",
       "    var ncells = cells.length;\n",
       "    for (var i = 0; i < ncells; i++) {\n",
       "        var cell = cells[i];\n",
       "        if (cell.cell_type === 'code') {\n",
       "            for (var j = 0; j < cell.output_area.outputs.length; j++) {\n",
       "                var data = cell.output_area.outputs[j];\n",
       "                if (data.data) {\n",
       "                    // IPython >= 3 moved mimebundle to data attribute of output\n",
       "                    data = data.data;\n",
       "                }\n",
       "                if (data['text/html'] === html_output) {\n",
       "                    return [cell, data, j];\n",
       "                }\n",
       "            }\n",
       "        }\n",
       "    }\n",
       "};\n",
       "\n",
       "// Register the function which deals with the matplotlib target/channel.\n",
       "// The kernel may be null if the page has been refreshed.\n",
       "if (IPython.notebook.kernel !== null) {\n",
       "    IPython.notebook.kernel.comm_manager.register_target(\n",
       "        'matplotlib',\n",
       "        mpl.mpl_figure_comm\n",
       "    );\n",
       "}\n"
      ],
      "text/plain": [
       "<IPython.core.display.Javascript object>"
      ]
     },
     "metadata": {},
     "output_type": "display_data"
    },
    {
     "data": {
      "text/html": [
       "<img src=\"data:image/png;base64,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\" width=\"639.85\">"
      ],
      "text/plain": [
       "<IPython.core.display.HTML object>"
      ]
     },
     "metadata": {},
     "output_type": "display_data"
    }
   ],
   "source": [
    "# generate some data\n",
    "N = 50\n",
    "xp = np.random.rand(N)\n",
    "yp = 3*np.random.rand(N)\n",
    "colors = np.random.rand(N)\n",
    "radii = 15 * np.random.rand(N)\n",
    "area = np.pi * radii**2  # 0 to 15 point radiuses\n",
    "\n",
    "# plot the data\n",
    "plt.scatter(xp, yp, s=area, c=colors, alpha=0.5);"
   ]
  },
  {
   "cell_type": "markdown",
   "metadata": {
    "extensions": {
     "jupyter_dashboards": {
      "version": 1,
      "views": {
       "grid_default": {
        "col": 0,
        "height": 4,
        "hidden": false,
        "row": 16,
        "width": 4
       },
       "report_default": {}
      }
     }
    }
   },
   "source": [
    "## Setting The Aspect Ratio\n",
    "\n",
    "You can easily fix the aspect ratio for the default plot."
   ]
  },
  {
   "cell_type": "code",
   "execution_count": null,
   "metadata": {
    "extensions": {
     "jupyter_dashboards": {
      "version": 1,
      "views": {
       "grid_default": {
        "hidden": true
       },
       "report_default": {}
      }
     }
    }
   },
   "outputs": [],
   "source": [
    "plt.scatter(xp, yp, s=area, c=colors, alpha=0.5)\n",
    "plt.axes().set_aspect('equal')\n",
    "plt.show()"
   ]
  },
  {
   "cell_type": "markdown",
   "metadata": {
    "extensions": {
     "jupyter_dashboards": {
      "version": 1,
      "views": {
       "grid_default": {
        "col": 0,
        "height": 4,
        "hidden": false,
        "row": 31,
        "width": 12
       },
       "report_default": {}
      }
     }
    }
   },
   "source": [
    "<div class=\"alert alert-warning\">\n",
    "<h1>What just happened???</h1>\n",
    "In \"Notebook\" mode, matplotlib does not create new figures in each cell, it modifies the most recent figure.  You need to create a new one when needed.  For example,\n",
    "</div>"
   ]
  },
  {
   "cell_type": "code",
   "execution_count": null,
   "metadata": {
    "extensions": {
     "jupyter_dashboards": {
      "version": 1,
      "views": {
       "grid_default": {
        "col": 0,
        "height": 19,
        "hidden": false,
        "row": 35,
        "width": 5
       },
       "report_default": {}
      }
     }
    }
   },
   "outputs": [],
   "source": [
    "plt.figure()\n",
    "plt.scatter(xp, yp, s=area, c=colors, alpha=0.5);"
   ]
  },
  {
   "cell_type": "markdown",
   "metadata": {
    "extensions": {
     "jupyter_dashboards": {
      "version": 1,
      "views": {
       "grid_default": {
        "col": 0,
        "height": 4,
        "hidden": false,
        "row": 20,
        "width": 4
       },
       "report_default": {}
      }
     }
    }
   },
   "source": [
    "## Modifying Previous Plots\n",
    "\n",
    "If you call plt.figure() with a name, it will create a new one, unless one with that name already exists.  Lets create some new plots."
   ]
  },
  {
   "cell_type": "code",
   "execution_count": null,
   "metadata": {
    "extensions": {
     "jupyter_dashboards": {
      "version": 1,
      "views": {
       "grid_default": {
        "col": 5,
        "height": 38,
        "hidden": false,
        "row": 35,
        "width": 5
       },
       "report_default": {}
      }
     }
    },
    "scrolled": false
   },
   "outputs": [],
   "source": [
    "plt.figure(\"Line Plot 1\")\n",
    "plt.plot([1,2,3,4,5,6],[1,4,9,16,25,36])\n",
    "plt.figure(\"Line Plot 2\")\n",
    "plt.plot([1,2,3,4,5,6],[-1,-4,-9,-16,-25,-36]);"
   ]
  },
  {
   "cell_type": "code",
   "execution_count": null,
   "metadata": {
    "extensions": {
     "jupyter_dashboards": {
      "version": 1,
      "views": {
       "grid_default": {
        "hidden": true
       },
       "report_default": {}
      }
     }
    }
   },
   "outputs": [],
   "source": [
    "# Lets modify the title of the seecond plot\n",
    "plt.figure(\"Line Plot 2\")\n",
    "plt.title('Plot 2');"
   ]
  },
  {
   "cell_type": "code",
   "execution_count": null,
   "metadata": {
    "extensions": {
     "jupyter_dashboards": {
      "version": 1,
      "views": {
       "grid_default": {
        "hidden": true
       },
       "report_default": {}
      }
     }
    }
   },
   "outputs": [],
   "source": [
    "# And now modify the title of the first plot and add some data, change the color and linewidth\n",
    "plt.figure(\"Line Plot 1\")\n",
    "plt.title('Plot 1')\n",
    "plt.plot([0,1,2,3,4,5,6,7],[0,1,4,9,16,25,36,49], color='red', linewidth=2);"
   ]
  },
  {
   "cell_type": "markdown",
   "metadata": {
    "extensions": {
     "jupyter_dashboards": {
      "version": 1,
      "views": {
       "grid_default": {
        "col": 0,
        "height": 4,
        "hidden": false,
        "row": 24,
        "width": 4
       },
       "report_default": {}
      }
     }
    }
   },
   "source": [
    "When using \"notebook\" mode, good practice is to always name your figures.  Because named figures\n",
    "can be easily updated, this makes them ideal for animations and dashboards. "
   ]
  },
  {
   "cell_type": "markdown",
   "metadata": {
    "extensions": {
     "jupyter_dashboards": {
      "version": 1,
      "views": {
       "grid_default": {
        "col": 0,
        "height": 5,
        "hidden": false,
        "row": 73,
        "width": 12
       },
       "report_default": {}
      }
     }
    }
   },
   "source": [
    "## Controlling the Plot Size\n",
    "\n",
    "Depending on your monitor, the plot may be hard to see.  You can specify a plot size in inches, and a DPI (dots-per-inch).\n",
    "\n",
    "First, lets take a look at the defaults:"
   ]
  },
  {
   "cell_type": "code",
   "execution_count": null,
   "metadata": {
    "extensions": {
     "jupyter_dashboards": {
      "version": 1,
      "views": {
       "grid_default": {
        "col": 0,
        "height": 4,
        "hidden": false,
        "row": 54,
        "width": 4
       },
       "report_default": {}
      }
     }
    }
   },
   "outputs": [],
   "source": [
    "from __future__ import print_function\n",
    "fig = plt.gcf();\n",
    "dpi = fig.get_dpi();\n",
    "size = fig.get_size_inches();\n",
    "print(\"Default Size: %s.   Default DPI: %s\" % (size, dpi))"
   ]
  },
  {
   "cell_type": "markdown",
   "metadata": {
    "extensions": {
     "jupyter_dashboards": {
      "version": 1,
      "views": {
       "grid_default": {
        "col": 0,
        "height": 4,
        "hidden": false,
        "row": 58,
        "width": 4
       },
       "report_default": {}
      }
     }
    }
   },
   "source": [
    "Now, to make the image larger on the screen, we can either increase the DPI or the size."
   ]
  },
  {
   "cell_type": "code",
   "execution_count": null,
   "metadata": {
    "extensions": {
     "jupyter_dashboards": {
      "version": 1,
      "views": {
       "grid_default": {
        "col": 0,
        "height": 35,
        "hidden": false,
        "row": 78,
        "width": 9
       },
       "report_default": {}
      }
     }
    }
   },
   "outputs": [],
   "source": [
    "plt.figure(dpi=200)\n",
    "plt.scatter(xp, yp, s=area, c=colors, alpha=0.5);"
   ]
  },
  {
   "cell_type": "markdown",
   "metadata": {
    "extensions": {
     "jupyter_dashboards": {
      "version": 1,
      "views": {
       "grid_default": {
        "col": 0,
        "height": 4,
        "hidden": false,
        "row": 62,
        "width": 4
       },
       "report_default": {}
      }
     }
    }
   },
   "source": [
    "You can set both the size and DPI at once.  Notice that setting the size also sets the aspect ratio."
   ]
  },
  {
   "cell_type": "code",
   "execution_count": null,
   "metadata": {
    "extensions": {
     "jupyter_dashboards": {
      "version": 1,
      "views": {
       "grid_default": {
        "col": 0,
        "height": 23,
        "hidden": false,
        "row": 113,
        "width": 5
       },
       "report_default": {}
      }
     }
    },
    "scrolled": false
   },
   "outputs": [],
   "source": [
    "plt.figure(figsize=(3,3), dpi=200)\n",
    "plt.scatter(xp, yp, s=area, c=colors, alpha=0.5);"
   ]
  },
  {
   "cell_type": "markdown",
   "metadata": {
    "extensions": {
     "jupyter_dashboards": {
      "version": 1,
      "views": {
       "grid_default": {
        "col": 0,
        "height": 4,
        "hidden": false,
        "row": 66,
        "width": 4
       },
       "report_default": {}
      }
     }
    }
   },
   "source": [
    "You can still adjust the aspect ratio later."
   ]
  },
  {
   "cell_type": "code",
   "execution_count": null,
   "metadata": {
    "extensions": {
     "jupyter_dashboards": {
      "version": 1,
      "views": {
       "grid_default": {
        "col": 5,
        "height": 23,
        "hidden": false,
        "row": 113,
        "width": 5
       },
       "report_default": {}
      }
     }
    }
   },
   "outputs": [],
   "source": [
    "plt.figure(figsize=(3,3), dpi=200)\n",
    "plt.axes().set_aspect('equal')\n",
    "plt.scatter(xp, yp, s=area, c=colors, alpha=0.5);"
   ]
  },
  {
   "cell_type": "markdown",
   "metadata": {
    "extensions": {
     "jupyter_dashboards": {
      "version": 1,
      "views": {
       "grid_default": {
        "col": 0,
        "height": 4,
        "hidden": false,
        "row": 136,
        "width": 4
       },
       "report_default": {}
      }
     }
    }
   },
   "source": [
    "## Resizing Notebook Plots\n",
    "\n",
    "Notebook plots do not resize with the browser.  Instead scrollbars appear.  However, you can resize the\n",
    "plots by moving the bottom-right corner.  Try it..."
   ]
  },
  {
   "cell_type": "markdown",
   "metadata": {
    "extensions": {
     "jupyter_dashboards": {
      "version": 1,
      "views": {
       "grid_default": {
        "col": 4,
        "height": 4,
        "hidden": false,
        "row": 136,
        "width": 4
       },
       "report_default": {}
      }
     }
    }
   },
   "source": [
    "## Interactive Use"
   ]
  },
  {
   "cell_type": "code",
   "execution_count": null,
   "metadata": {
    "extensions": {
     "jupyter_dashboards": {
      "version": 1,
      "views": {
       "grid_default": {
        "col": 0,
        "height": 22,
        "hidden": false,
        "row": 140,
        "width": 5
       },
       "report_default": {}
      }
     }
    }
   },
   "outputs": [],
   "source": [
    "from ipywidgets import interact\n",
    "\n",
    "# Clearing and redrawing entire plot\n",
    "x = np.linspace(0,10,200)\n",
    "plt.figure('Interactive Test 0')\n",
    "def plot_sine(A, B):\n",
    "    plt.clf()  # Clear Figure\n",
    "    y = np.sin(A*x+B)\n",
    "    plt.plot(x,y,linewidth=2)\n",
    "\n",
    "interact(plot_sine, A=(1, 10), B=(0,10));"
   ]
  },
  {
   "cell_type": "code",
   "execution_count": null,
   "metadata": {},
   "outputs": [],
   "source": [
    "f = plt.figure('Interactive Test 1')\n",
    "ax = f.add_subplot(111)\n",
    "myline, = ax.plot(x, np.sin(0*x), 'b-', linewidth=2)\n",
    "ax.set_ylim(-1, 1)\n",
    "ax.grid(True)\n",
    "\n",
    "# Updating ydata \n",
    "def plot_sine2(A, B):\n",
    "    y = np.sin(A*x + B)\n",
    "    myline.set_ydata(y)\n",
    "\n",
    "interact(plot_sine2, A=(1, 10), B=(0,10));"
   ]
  }
 ],
 "metadata": {
  "extensions": {
   "jupyter_dashboards": {
    "activeView": "grid_default",
    "version": 1,
    "views": {
     "grid_default": {
      "cellMargin": 10,
      "defaultCellHeight": 20,
      "maxColumns": 12,
      "name": "grid",
      "type": "grid"
     },
     "report_default": {
      "name": "report",
      "type": "report"
     }
    }
   }
  },
  "kernelspec": {
   "display_name": "Python 3",
   "language": "python",
   "name": "python3"
  },
  "language_info": {
   "codemirror_mode": {
    "name": "ipython",
    "version": 3
   },
   "file_extension": ".py",
   "mimetype": "text/x-python",
   "name": "python",
   "nbconvert_exporter": "python",
   "pygments_lexer": "ipython3",
   "version": "3.7.7"
  }
 },
 "nbformat": 4,
 "nbformat_minor": 2
}
