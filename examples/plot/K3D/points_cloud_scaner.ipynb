{
 "cells": [
  {
   "cell_type": "code",
   "execution_count": null,
   "metadata": {
    "collapsed": true
   },
   "outputs": [],
   "source": [
    "import numpy as np \n",
    "import time\n",
    "from IPython.display import clear_output"
   ]
  },
  {
   "cell_type": "code",
   "execution_count": null,
   "metadata": {},
   "outputs": [],
   "source": [
    "import urllib.request\n",
    "import json\n",
    "from k3d import K3D\n",
    "\n",
    "plot = K3D()\n",
    "plot.display()"
   ]
  },
  {
   "cell_type": "code",
   "execution_count": null,
   "metadata": {},
   "outputs": [],
   "source": [
    "%%time \n",
    "chunk_count = 3\n",
    "chunk_count = max(min(chunk_count, 90),0)\n",
    "\n",
    "for i in range(chunk_count):\n",
    "    print(\"retrieving chunk: \", i)\n",
    "    with urllib.request.urlopen(\"http://archive.cyark.org/3d/models/tikal9m-\" + str(i) + \".js\") as response:\n",
    "        %time chunk = json.loads(response.read().decode('utf8'))\n",
    "        positions = []\n",
    "        colors = []\n",
    "\n",
    "        for point in chunk:\n",
    "            positions.append(point[0:3])\n",
    "            colors.append(int(point[4], 16))\n",
    "            \n",
    "        plot += K3D.points(positions, colors, point_size=0.5, shader=\"3d\") \n",
    "        clear_output(wait=True)\n",
    "\n",
    "        print(\"Points count:\", len(colors),\"ith:\",i)\n",
    "        if i>0:\n",
    "            plot.camera_auto_fit = False\n",
    "print(\"Total points:\",sum([p.points_positions.shape[0] for p in plot.objects])     )"
   ]
  },
  {
   "cell_type": "code",
   "execution_count": null,
   "metadata": {
    "collapsed": true
   },
   "outputs": [],
   "source": [
    "for p in plot.objects:\n",
    "    p.shader = '3d'\n",
    "    p.point_size = 2.71"
   ]
  },
  {
   "cell_type": "code",
   "execution_count": null,
   "metadata": {
    "collapsed": true
   },
   "outputs": [],
   "source": [
    "sigma=10.0\n",
    "beta=8./3\n",
    "rho=28.0\n",
    "def lorenz_deriv(X, sigma=sigma, beta=beta, rho=rho):\n",
    "    \"\"\"Compute the time-derivative of a Lorenz system.\"\"\"\n",
    "    x, y, z = X.T\n",
    "    return np.vstack([sigma * (y - x), x * (rho - z) - y, x * y - beta * z]).T"
   ]
  },
  {
   "cell_type": "code",
   "execution_count": null,
   "metadata": {},
   "outputs": [],
   "source": [
    "for p in plot.objects:\n",
    "    X = p.points_positions\n",
    "    for i in range(150):\n",
    "        X = X + lorenz_deriv(X, sigma=sigma, beta=beta, rho=rho)*0.002\n",
    "        if i%15==0 and i>0:\n",
    "            p.points_positions = X[::1,:]\n",
    "        #time.sleep(0.1)\n",
    "        clear_output(wait=True)\n",
    "        print(\"iteration:\",i)\n",
    "    p.points_positions = X"
   ]
  },
  {
   "cell_type": "code",
   "execution_count": null,
   "metadata": {},
   "outputs": [],
   "source": [
    "for i in range(15):\n",
    "    for p in plot.objects:\n",
    "        X = p.points_positions\n",
    "        for j in range(15):\n",
    "            X = X + lorenz_deriv(X, sigma=sigma, beta=beta, rho=rho)*0.001\n",
    "        p.points_positions = X[:,:]\n",
    "        clear_output(wait=True)\n",
    "        print(\"iteration:\",i)\n",
    "    "
   ]
  },
  {
   "cell_type": "code",
   "execution_count": null,
   "metadata": {
    "collapsed": true
   },
   "outputs": [],
   "source": [
    "p.point_size = .65"
   ]
  },
  {
   "cell_type": "code",
   "execution_count": null,
   "metadata": {},
   "outputs": [],
   "source": [
    "sum([p.points_positions.shape[0] for p in plot.objects])"
   ]
  },
  {
   "cell_type": "code",
   "execution_count": null,
   "metadata": {
    "collapsed": true
   },
   "outputs": [],
   "source": []
  },
  {
   "cell_type": "code",
   "execution_count": null,
   "metadata": {
    "collapsed": true
   },
   "outputs": [],
   "source": []
  },
  {
   "cell_type": "code",
   "execution_count": null,
   "metadata": {
    "collapsed": true
   },
   "outputs": [],
   "source": []
  },
  {
   "cell_type": "code",
   "execution_count": null,
   "metadata": {
    "collapsed": true
   },
   "outputs": [],
   "source": []
  }
 ],
 "metadata": {
  "kernelspec": {
   "display_name": "Python 3",
   "language": "python",
   "name": "python3"
  },
  "language_info": {
   "codemirror_mode": {
    "name": "ipython",
    "version": 3
   },
   "file_extension": ".py",
   "mimetype": "text/x-python",
   "name": "python",
   "nbconvert_exporter": "python",
   "pygments_lexer": "ipython3",
   "version": "3.5.2"
  }
 },
 "nbformat": 4,
 "nbformat_minor": 1
}
